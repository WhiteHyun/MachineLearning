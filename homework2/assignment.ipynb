{
 "metadata": {
  "language_info": {
   "codemirror_mode": {
    "name": "ipython",
    "version": 3
   },
   "file_extension": ".py",
   "mimetype": "text/x-python",
   "name": "python",
   "nbconvert_exporter": "python",
   "pygments_lexer": "ipython3",
   "version": "3.8.5"
  },
  "orig_nbformat": 2,
  "kernelspec": {
   "name": "python385jvsc74a57bd0e6660baea0803492447b44bc1605e0255c69d336a174a3eaa2e51c9f31b7844a",
   "display_name": "Python 3.8.5 64-bit ('base': conda)"
  },
  "metadata": {
   "interpreter": {
    "hash": "e6660baea0803492447b44bc1605e0255c69d336a174a3eaa2e51c9f31b7844a"
   }
  }
 },
 "nbformat": 4,
 "nbformat_minor": 2,
 "cells": [
  {
   "source": [
    "# Homework (Chapter 4) - 201601639 홍승현\n",
    "\n",
    "- 연습문제 5, 7, 8, 9, 10"
   ],
   "cell_type": "markdown",
   "metadata": {}
  },
  {
   "source": [
    "## 연습문제 5\n",
    "\n",
    "<img src=\"./problem5.png\" width=\"800\" height=\"300\">\n",
    "\n",
    "1. 가중치 행렬 U1, U2, U3, U4를 식(4.1) 처럼 쓰시오.\n",
    "2. x = (1,0)T가 입력되었을 때 출력 o를 구하시오. 활성함수로 로지스틱 시그모이드를 사용하시오.\n",
    "3. x = (1,0)T가 입력되었을 때 출력 o를 구하시오. 활성함수로 ReLU를 사용하시오.\n",
    "4. (1,0)T의 기대 출력이 o = (0,1)T일 때, 현재 1.0인 u3(12) 가중치를 0.9로 줄이면 오류에 어떤 영향을 미치는지 설명하시오."
   ],
   "cell_type": "markdown",
   "metadata": {}
  },
  {
   "source": [
    "### 1. 가중치 행렬 U1, U2, U3, U4를 식(4.1) 처럼 쓰시오.\n"
   ],
   "cell_type": "markdown",
   "metadata": {}
  },
  {
   "cell_type": "code",
   "execution_count": 3,
   "metadata": {},
   "outputs": [],
   "source": [
    "import numpy as np"
   ]
  },
  {
   "cell_type": "code",
   "execution_count": 4,
   "metadata": {},
   "outputs": [],
   "source": [
    "# DMLP의 가중치 초기화\n",
    "weights = np.array([[[-0.3, 1.6], [1.0, -1.0], [1.2, -1.1]], [[1.0, 0.7], [1.0, 0.5], [-1.0, 1.0]], [[0.5, -0.1], [-0.8, 0.3], [1.0, 0.4]], [[1.0, -0.2], [0.1, 1.3], [-0.2, -0.4]]])\n",
    "u1 = weights[0]\n",
    "u2 = weights[1]\n",
    "u3 = weights[2]\n",
    "u4 = weights[3]"
   ]
  },
  {
   "source": [
    "from sympy import * # 수식 표현을 위해 임포트"
   ],
   "cell_type": "code",
   "metadata": {},
   "execution_count": 5,
   "outputs": []
  },
  {
   "cell_type": "code",
   "execution_count": 6,
   "metadata": {},
   "outputs": [
    {
     "output_type": "stream",
     "name": "stdout",
     "text": [
      "     ⎡-0.3  1.6 ⎤\n     ⎢          ⎥\nU¹ = ⎢1.0   -1.0⎥\n     ⎢          ⎥\n     ⎣1.2   -1.1⎦\n     ⎡1.0   0.7⎤\n     ⎢         ⎥\nU² = ⎢1.0   0.5⎥\n     ⎢         ⎥\n     ⎣-1.0  1.0⎦\n     ⎡0.5   -0.1⎤\n     ⎢          ⎥\nU³ = ⎢-0.8  0.3 ⎥\n     ⎢          ⎥\n     ⎣1.0   0.4 ⎦\n     ⎡1.0   -0.2⎤\n     ⎢          ⎥\nU⁴ = ⎢0.1   1.3 ⎥\n     ⎢          ⎥\n     ⎣-0.2  -0.4⎦\n"
     ]
    }
   ],
   "source": [
    "for i in range(len(weights)):\n",
    "    u = Symbol(f\"U^{i+1}\")\n",
    "    mat = Matrix(weights[i], evaluate=False)\n",
    "    equation = Eq(u, mat, evaluate=False)\n",
    "    pprint(equation)"
   ]
  },
  {
   "source": [
    "### 2. x = (1,0)^T가 입력되었을 때 출력 o를 구하시오. 활성함수로 로지스틱 시그모이드를 사용하시오."
   ],
   "cell_type": "markdown",
   "metadata": {}
  },
  {
   "cell_type": "code",
   "execution_count": 7,
   "metadata": {},
   "outputs": [],
   "source": [
    "def sigmoid(x):\n",
    "    return 1 / (1 + np.exp(-x))"
   ]
  },
  {
   "cell_type": "code",
   "execution_count": 8,
   "metadata": {},
   "outputs": [
    {
     "output_type": "execute_result",
     "data": {
      "text/plain": [
       "Eq(Sigmoid(o_1), Matrix([\n",
       "[0.720212909981978],\n",
       "[0.608070768763911]]))"
      ],
      "text/latex": "$\\displaystyle \\operatorname{Sigmoid}{\\left(o_{1} \\right)} = \\left[\\begin{matrix}0.720212909981978\\\\0.608070768763911\\end{matrix}\\right]$"
     },
     "metadata": {},
     "execution_count": 8
    }
   ],
   "source": [
    "x = np.array([1, 1, 0]).T\n",
    "# forward\n",
    "z1 = np.dot(x, u1)\n",
    "o1 = sigmoid(z1)\n",
    "o1 = np.append(1, o1)\n",
    "\n",
    "z2 = np.dot(o1, u2)\n",
    "o2 = sigmoid(z2)\n",
    "o2 = np.append(1, o2)\n",
    "\n",
    "z3 = np.dot(o2, u3)\n",
    "o3 = sigmoid(z3)\n",
    "o3 = np.append(1, o3)\n",
    "\n",
    "z4 = np.dot(o3, u4)\n",
    "o4 = sigmoid(z4)\n",
    "\n",
    "sigmoid_result1 = Eq(Function(\"Sigmoid\")(Symbol(\"o_1\")), Matrix(o4), evaluate=False)\n",
    "sigmoid_result1\n"
   ]
  },
  {
   "source": [
    "### 3. x = (1,0)T가 입력되었을 때 출력 o를 구하시오. 활성함수로 ReLU를 사용하시오."
   ],
   "cell_type": "markdown",
   "metadata": {}
  },
  {
   "cell_type": "code",
   "execution_count": 9,
   "metadata": {},
   "outputs": [],
   "source": [
    "def ReLU(x):\n",
    "    return np.maximum(0.0, x)"
   ]
  },
  {
   "cell_type": "code",
   "execution_count": 10,
   "metadata": {},
   "outputs": [
    {
     "output_type": "execute_result",
     "data": {
      "text/plain": [
       "Eq(ReLU(o_1), Matrix([\n",
       "[0.949],\n",
       "[1.095]]))"
      ],
      "text/latex": "$\\displaystyle \\operatorname{ReLU}{\\left(o_{1} \\right)} = \\left[\\begin{matrix}0.949\\\\1.095\\end{matrix}\\right]$"
     },
     "metadata": {},
     "execution_count": 10
    }
   ],
   "source": [
    "x = np.array([1, 1, 0]).T\n",
    "# forward\n",
    "z1 = np.dot(x, u1)\n",
    "o1 = ReLU(z1)\n",
    "o1 = np.append(1, o1)\n",
    "\n",
    "z2 = np.dot(o1, u2)\n",
    "o2 = ReLU(z2)\n",
    "o2 = np.append(1, o2)\n",
    "\n",
    "z3 = np.dot(o2, u3)\n",
    "o3 = ReLU(z3)\n",
    "o3 = np.append(1, o3)\n",
    "\n",
    "z4 = np.dot(o3, u4)\n",
    "o4 = ReLU(z4)\n",
    "\n",
    "relu_result1 = Eq(Function(\"ReLU\")(Symbol(\"o_1\")), Matrix(o4), evaluate=False)\n",
    "relu_result1\n"
   ]
  },
  {
   "source": [
    "### 4. (1,0)T의 기대 출력이 o = (0,1)T일 때, 현재 1.0인 u3(12) 가중치를 0.9로 줄이면 오류에 어떤 영향을 미치는지 설명하시오."
   ],
   "cell_type": "markdown",
   "metadata": {}
  },
  {
   "cell_type": "code",
   "execution_count": 11,
   "metadata": {},
   "outputs": [],
   "source": [
    "# DMLP의 가중치 초기화\n",
    "weights = np.array([[[-0.3, 1.6], [1.0, -1.0], [1.2, -1.1]], \n",
    "                    [[1.0, 0.7], [1.0, 0.5], [-1.0, 1.0]], \n",
    "                    [[0.5, -0.1], [-0.8, 0.3], [0.9, 0.4]], # [1.0, 0.4]를 [0.9, 0.4]로 수정\n",
    "                    [[1.0, -0.2], [0.1, 1.3], [-0.2, -0.4]]])\n",
    "u1 = weights[0]\n",
    "u2 = weights[1]\n",
    "u3 = weights[2]\n",
    "u4 = weights[3]"
   ]
  },
  {
   "cell_type": "code",
   "execution_count": 12,
   "metadata": {},
   "outputs": [
    {
     "output_type": "execute_result",
     "data": {
      "text/plain": [
       "Eq(Sigmoid(o_2), Matrix([\n",
       "[ 0.71983780114165],\n",
       "[0.602290985036324]]))"
      ],
      "text/latex": "$\\displaystyle \\operatorname{Sigmoid}{\\left(o_{2} \\right)} = \\left[\\begin{matrix}0.71983780114165\\\\0.602290985036324\\end{matrix}\\right]$"
     },
     "metadata": {},
     "execution_count": 12
    }
   ],
   "source": [
    "x = np.array([1, 1, 0]).T\n",
    "# forward\n",
    "z1 = np.dot(x, u1)\n",
    "o1 = sigmoid(z1)\n",
    "o1 = np.append(1, o1)\n",
    "\n",
    "z2 = np.dot(o1, u2)\n",
    "o2 = sigmoid(z2)\n",
    "o2 = np.append(1, o2)\n",
    "\n",
    "z3 = np.dot(o2, u3)\n",
    "o3 = sigmoid(z3)\n",
    "o3 = np.append(1, o3)\n",
    "\n",
    "z4 = np.dot(o3, u4)\n",
    "o4 = sigmoid(z4)\n",
    "\n",
    "sigmoid_result2 = Eq(Function(\"Sigmoid\")(Symbol(\"o_2\")), Matrix(o4), evaluate=False)\n",
    "sigmoid_result2"
   ]
  },
  {
   "cell_type": "code",
   "execution_count": 13,
   "metadata": {},
   "outputs": [
    {
     "output_type": "execute_result",
     "data": {
      "text/plain": [
       "Eq(ReLU(o_2), Matrix([\n",
       "[0.9325],\n",
       "[0.8805]]))"
      ],
      "text/latex": "$\\displaystyle \\operatorname{ReLU}{\\left(o_{2} \\right)} = \\left[\\begin{matrix}0.9325\\\\0.8805\\end{matrix}\\right]$"
     },
     "metadata": {},
     "execution_count": 13
    }
   ],
   "source": [
    "x = np.array([1, 1, 0]).T\n",
    "# forward\n",
    "z1 = np.dot(x, u1)\n",
    "o1 = ReLU(z1)\n",
    "o1 = np.append(1, o1)\n",
    "\n",
    "z2 = np.dot(o1, u2)\n",
    "o2 = ReLU(z2)\n",
    "o2 = np.append(1, o2)\n",
    "\n",
    "z3 = np.dot(o2, u3)\n",
    "o3 = ReLU(z3)\n",
    "o3 = np.append(1, o3)\n",
    "\n",
    "z4 = np.dot(o3, u4)\n",
    "o4 = ReLU(z4)\n",
    "\n",
    "relu_result2 = Eq(Function(\"ReLU\")(Symbol(\"o_2\")), Matrix(o4), evaluate=False)\n",
    "relu_result2\n"
   ]
  },
  {
   "cell_type": "code",
   "execution_count": 14,
   "metadata": {},
   "outputs": [
    {
     "output_type": "stream",
     "name": "stdout",
     "text": [
      "              ⎡0.720212909981978⎤\nSigmoid(o₁) = ⎢                 ⎥\n              ⎣0.608070768763911⎦\n              ⎡0.71983780114165 ⎤\nSigmoid(o₂) = ⎢                 ⎥\n              ⎣0.602290985036324⎦\n           ⎡0.949⎤\nReLU(o₁) = ⎢     ⎥\n           ⎣1.095⎦\n           ⎡0.9325⎤\nReLU(o₂) = ⎢      ⎥\n           ⎣0.8805⎦\n"
     ]
    }
   ],
   "source": [
    "pprint(sigmoid_result1)\n",
    "pprint(sigmoid_result2)\n",
    "pprint(relu_result1)\n",
    "pprint(relu_result2)"
   ]
  },
  {
   "source": [
    "#### 결론\n",
    "\n",
    "- 기존 o1과 가중치를 갱신한 후의 값인 o2를 비교하자면 기존 값에 비해 소량 감소했음을 알 수 있다.\n",
    "- 이는 기대출력인 `(0, 1)^T`를 보았을 때, 첫 번째 값은 가까워지고 두 번째 값은 멀어지고 있다고 볼 수 있다."
   ],
   "cell_type": "markdown",
   "metadata": {}
  },
  {
   "source": [
    "## 연습문제 7\n",
    "\n",
    "<img src=\"./problem7.png\" width=\"800\" height=\"300\">\n",
    "\n",
    "- `그림 4-14`나머지 8개 화소의 값을 계산하시오."
   ],
   "cell_type": "markdown",
   "metadata": {}
  },
  {
   "cell_type": "code",
   "execution_count": 15,
   "metadata": {},
   "outputs": [
    {
     "output_type": "execute_result",
     "data": {
      "text/plain": [
       "array([[[0, 0, 0, 0, 0],\n",
       "        [0, 1, 1, 1, 0],\n",
       "        [0, 2, 1, 3, 0],\n",
       "        [0, 0, 1, 0, 0],\n",
       "        [0, 0, 0, 0, 0]],\n",
       "\n",
       "       [[0, 0, 0, 0, 0],\n",
       "        [0, 2, 2, 2, 0],\n",
       "        [0, 1, 0, 1, 0],\n",
       "        [0, 0, 0, 1, 0],\n",
       "        [0, 0, 0, 0, 0]],\n",
       "\n",
       "       [[0, 0, 0, 0, 0],\n",
       "        [0, 0, 3, 0, 0],\n",
       "        [0, 1, 0, 1, 0],\n",
       "        [0, 1, 0, 0, 0],\n",
       "        [0, 0, 0, 0, 0]]])"
      ]
     },
     "metadata": {},
     "execution_count": 15
    }
   ],
   "source": [
    "R = np.array([[1, 1, 1], [2, 1, 3], [0, 1, 0]])\n",
    "G = np.array([[2, 2, 2], [1, 0, 1], [0, 0, 1]])\n",
    "B = np.array([[0, 3, 0], [1, 0, 1], [1, 0, 0]])\n",
    "\n",
    "pad_R = np.pad(R, (1, 1))\n",
    "pad_G = np.pad(G, (1, 1))\n",
    "pad_B = np.pad(B, (1, 1))\n",
    "pad_mat = np.array([pad_R, pad_G, pad_B])\n",
    "\n",
    "# pad_R, pad_G, pad_B\n",
    "pad_mat"
   ]
  },
  {
   "cell_type": "code",
   "execution_count": 16,
   "metadata": {},
   "outputs": [],
   "source": [
    "kernel = np.array([[[0, 0, 0], \n",
    "                    [0, 0, 1], \n",
    "                    [0, 1, 0]], \n",
    "                   [[0, 2, 0], \n",
    "                    [0, 2, 0], \n",
    "                    [0, 2, 0]], \n",
    "                   [[1, 0, 0], \n",
    "                    [0, 2, 0], \n",
    "                    [0, 0, 1]]])"
   ]
  },
  {
   "cell_type": "code",
   "execution_count": 17,
   "metadata": {},
   "outputs": [],
   "source": [
    "# pad_R[1:4, 1:4]\n",
    "s = 1\n",
    "x = (pad_R.shape[0]-kernel.shape[1])/s+1\n",
    "assert x.is_integer()\n",
    "x = int(x)\n",
    "feature_map = np.zeros((x, x))\n",
    "for i in range(x):\n",
    "    for j in range(x):\n",
    "        sum = 0\n",
    "        for rgb, ker in zip(pad_mat, kernel):\n",
    "            sum += np.sum(rgb[i:i+3, j:j+3]*ker)\n",
    "        feature_map[i][j] = sum"
   ]
  },
  {
   "cell_type": "code",
   "execution_count": 18,
   "metadata": {},
   "outputs": [
    {
     "output_type": "execute_result",
     "data": {
      "text/plain": [
       "array([[ 9., 13.,  9.],\n",
       "       [ 9.,  8., 13.],\n",
       "       [ 5.,  1.,  4.]])"
      ]
     },
     "metadata": {},
     "execution_count": 18
    }
   ],
   "source": [
    "feature_map"
   ]
  },
  {
   "source": [
    "## 연습문제 8\n",
    "\n",
    "<img src=\"./problem8.png\" width=\"800\" height=\"300\">\n",
    "\n",
    "- `그림 4-8(b)`에서 커널$ \\begin{bmatrix} -1 & -1 & -1 \\\\\\\\ 0 & 0 & 0 \\\\\\\\ 1 & 1 & 1 \\end{bmatrix}$을 적용한 결과를 쓰시오. 이 때 0 덧대기를 하고 바이어스로 0.5를 사용하시오."
   ],
   "cell_type": "markdown",
   "metadata": {}
  },
  {
   "cell_type": "code",
   "execution_count": 27,
   "metadata": {},
   "outputs": [
    {
     "output_type": "execute_result",
     "data": {
      "text/plain": [
       "array([[0, 0, 0, 0, 0, 0, 0, 0, 0, 0],\n",
       "       [0, 2, 2, 2, 2, 2, 1, 1, 1, 0],\n",
       "       [0, 2, 2, 2, 2, 2, 1, 1, 1, 0],\n",
       "       [0, 2, 2, 2, 2, 2, 1, 1, 1, 0],\n",
       "       [0, 2, 2, 2, 2, 2, 1, 1, 1, 0],\n",
       "       [0, 2, 2, 2, 9, 9, 9, 9, 9, 0],\n",
       "       [0, 2, 2, 2, 9, 9, 9, 9, 9, 0],\n",
       "       [0, 2, 2, 2, 9, 9, 9, 9, 9, 0],\n",
       "       [0, 2, 2, 2, 9, 9, 9, 9, 9, 0],\n",
       "       [0, 0, 0, 0, 0, 0, 0, 0, 0, 0]])"
      ]
     },
     "metadata": {},
     "execution_count": 27
    }
   ],
   "source": [
    "conv_2d = np.array([[2, 2, 2, 2, 2, 1, 1, 1],\n",
    "                     [2, 2, 2, 2, 2, 1, 1, 1],\n",
    "                     [2, 2, 2, 2, 2, 1, 1, 1],\n",
    "                     [2, 2, 2, 2, 2, 1, 1, 1],\n",
    "                     [2, 2, 2, 9, 9, 9, 9, 9],\n",
    "                     [2, 2, 2, 9, 9, 9, 9, 9],\n",
    "                     [2, 2, 2, 9, 9, 9, 9, 9],\n",
    "                     [2, 2, 2, 9, 9, 9, 9, 9]])\n",
    "pad_conv_2d = np.pad(conv_2d, (1, 1))\n",
    "# conv_2d.shape, pad_conv_2d.shape\n",
    "pad_conv_2d"
   ]
  },
  {
   "cell_type": "code",
   "execution_count": 31,
   "metadata": {},
   "outputs": [
    {
     "output_type": "execute_result",
     "data": {
      "text/plain": [
       "(3, 3)"
      ]
     },
     "metadata": {},
     "execution_count": 31
    }
   ],
   "source": [
    "kernel = np.array([[-1, 0, 1], [-1, 0, 1], [-1, 0, 1]])\n",
    "kernel.shape"
   ]
  },
  {
   "cell_type": "code",
   "execution_count": 34,
   "metadata": {},
   "outputs": [],
   "source": [
    "s = 1\n",
    "bias = 2\n",
    "x = (pad_conv_2d.shape[0]-kernel.shape[0])/s+1\n",
    "assert x.is_integer()\n",
    "x = int(x)\n",
    "feature_map2 = np.zeros((x, x))\n",
    "for i in range(x):\n",
    "    for j in range(x):\n",
    "        feature_map2[i][j] = np.sum(pad_conv_2d[i:i+3, j:j+3]*kernel) + bias"
   ]
  },
  {
   "cell_type": "code",
   "execution_count": 35,
   "metadata": {},
   "outputs": [
    {
     "output_type": "execute_result",
     "data": {
      "text/plain": [
       "array([[  6.,   2.,   2.,   2.,   0.,   0.,   2.,   0.],\n",
       "       [  8.,   2.,   2.,   2.,  -1.,  -1.,   2.,  -1.],\n",
       "       [  8.,   2.,   2.,   2.,  -1.,  -1.,   2.,  -1.],\n",
       "       [  8.,   2.,   9.,   9.,   0.,   0.,   2.,  -9.],\n",
       "       [  8.,   2.,  16.,  16.,   1.,   1.,   2., -17.],\n",
       "       [  8.,   2.,  23.,  23.,   2.,   2.,   2., -25.],\n",
       "       [  8.,   2.,  23.,  23.,   2.,   2.,   2., -25.],\n",
       "       [  6.,   2.,  16.,  16.,   2.,   2.,   2., -16.]])"
      ]
     },
     "metadata": {},
     "execution_count": 35
    }
   ],
   "source": [
    "feature_map2"
   ]
  },
  {
   "source": [
    "## 연습문제 9\n",
    "\n",
    "\n",
    "- [문제8](#연습문제-8)에서 보폭을 `s = 2`로 설정했을 때 컨볼루션 결과를 쓰시오."
   ],
   "cell_type": "markdown",
   "metadata": {}
  },
  {
   "cell_type": "code",
   "execution_count": 36,
   "metadata": {},
   "outputs": [
    {
     "output_type": "error",
     "ename": "AssertionError",
     "evalue": "",
     "traceback": [
      "\u001b[0;31m---------------------------------------------------------------------------\u001b[0m",
      "\u001b[0;31mAssertionError\u001b[0m                            Traceback (most recent call last)",
      "\u001b[0;32m<ipython-input-36-feaa4c0234dc>\u001b[0m in \u001b[0;36m<module>\u001b[0;34m\u001b[0m\n\u001b[1;32m      2\u001b[0m \u001b[0mbias\u001b[0m \u001b[0;34m=\u001b[0m \u001b[0;36m2\u001b[0m\u001b[0;34m\u001b[0m\u001b[0;34m\u001b[0m\u001b[0m\n\u001b[1;32m      3\u001b[0m \u001b[0mx\u001b[0m \u001b[0;34m=\u001b[0m \u001b[0;34m(\u001b[0m\u001b[0mpad_conv_2d\u001b[0m\u001b[0;34m.\u001b[0m\u001b[0mshape\u001b[0m\u001b[0;34m[\u001b[0m\u001b[0;36m0\u001b[0m\u001b[0;34m]\u001b[0m\u001b[0;34m-\u001b[0m\u001b[0mkernel\u001b[0m\u001b[0;34m.\u001b[0m\u001b[0mshape\u001b[0m\u001b[0;34m[\u001b[0m\u001b[0;36m0\u001b[0m\u001b[0;34m]\u001b[0m\u001b[0;34m)\u001b[0m\u001b[0;34m/\u001b[0m\u001b[0ms\u001b[0m\u001b[0;34m+\u001b[0m\u001b[0;36m1\u001b[0m\u001b[0;34m\u001b[0m\u001b[0;34m\u001b[0m\u001b[0m\n\u001b[0;32m----> 4\u001b[0;31m \u001b[0;32massert\u001b[0m \u001b[0mx\u001b[0m\u001b[0;34m.\u001b[0m\u001b[0mis_integer\u001b[0m\u001b[0;34m(\u001b[0m\u001b[0;34m)\u001b[0m\u001b[0;34m\u001b[0m\u001b[0;34m\u001b[0m\u001b[0m\n\u001b[0m\u001b[1;32m      5\u001b[0m \u001b[0mx\u001b[0m \u001b[0;34m=\u001b[0m \u001b[0mint\u001b[0m\u001b[0;34m(\u001b[0m\u001b[0mx\u001b[0m\u001b[0;34m)\u001b[0m\u001b[0;34m\u001b[0m\u001b[0;34m\u001b[0m\u001b[0m\n\u001b[1;32m      6\u001b[0m \u001b[0mfeature_map2\u001b[0m \u001b[0;34m=\u001b[0m \u001b[0mnp\u001b[0m\u001b[0;34m.\u001b[0m\u001b[0mzeros\u001b[0m\u001b[0;34m(\u001b[0m\u001b[0;34m(\u001b[0m\u001b[0mx\u001b[0m\u001b[0;34m,\u001b[0m \u001b[0mx\u001b[0m\u001b[0;34m)\u001b[0m\u001b[0;34m)\u001b[0m\u001b[0;34m\u001b[0m\u001b[0;34m\u001b[0m\u001b[0m\n",
      "\u001b[0;31mAssertionError\u001b[0m: "
     ]
    }
   ],
   "source": [
    "s = 2\n",
    "bias = 2\n",
    "x = (pad_conv_2d.shape[0]-kernel.shape[0])/s+1\n",
    "assert x.is_integer()\n",
    "x = int(x)\n",
    "feature_map2 = np.zeros((x, x))\n",
    "for i in range(x):\n",
    "    for j in range(x):\n",
    "        feature_map2[i][j] = np.sum(pad_conv_2d[i:i+3, j:j+3]*kernel) + bias"
   ]
  },
  {
   "source": [
    "### 결론\n",
    "\n",
    "- 컽볼루션 연산을 하기 위해서는 `(size-kernel_size)/stride`가 정수여야 하지만 실수가 나오게 된다면 컨볼루션 연산을 할 수 없게 된다."
   ],
   "cell_type": "markdown",
   "metadata": {}
  },
  {
   "source": [
    "## 연습문제 10\n",
    "\n",
    "- [문제8](#연습문제-8)의 결과에 최대 풀링과 평균 풀링을 적용한 결과를 각각 쓰시오. 보폭으로 1을 사용하시오."
   ],
   "cell_type": "markdown",
   "metadata": {}
  },
  {
   "cell_type": "code",
   "execution_count": 37,
   "metadata": {},
   "outputs": [
    {
     "output_type": "execute_result",
     "data": {
      "text/plain": [
       "array([[  6.,   2.,   2.,   2.,   0.,   0.,   2.,   0.],\n",
       "       [  8.,   2.,   2.,   2.,  -1.,  -1.,   2.,  -1.],\n",
       "       [  8.,   2.,   2.,   2.,  -1.,  -1.,   2.,  -1.],\n",
       "       [  8.,   2.,   9.,   9.,   0.,   0.,   2.,  -9.],\n",
       "       [  8.,   2.,  16.,  16.,   1.,   1.,   2., -17.],\n",
       "       [  8.,   2.,  23.,  23.,   2.,   2.,   2., -25.],\n",
       "       [  8.,   2.,  23.,  23.,   2.,   2.,   2., -25.],\n",
       "       [  6.,   2.,  16.,  16.,   2.,   2.,   2., -16.]])"
      ]
     },
     "metadata": {},
     "execution_count": 37
    }
   ],
   "source": [
    "# 문제 8의 결과\n",
    "feature_map2"
   ]
  },
  {
   "cell_type": "code",
   "execution_count": null,
   "metadata": {},
   "outputs": [],
   "source": []
  }
 ]
}