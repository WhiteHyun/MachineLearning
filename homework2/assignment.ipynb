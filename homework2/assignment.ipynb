{
 "metadata": {
  "language_info": {
   "codemirror_mode": {
    "name": "ipython",
    "version": 3
   },
   "file_extension": ".py",
   "mimetype": "text/x-python",
   "name": "python",
   "nbconvert_exporter": "python",
   "pygments_lexer": "ipython3",
   "version": "3.8.5"
  },
  "orig_nbformat": 2,
  "kernelspec": {
   "name": "python385jvsc74a57bd0e6660baea0803492447b44bc1605e0255c69d336a174a3eaa2e51c9f31b7844a",
   "display_name": "Python 3.8.5 64-bit ('base': conda)"
  },
  "metadata": {
   "interpreter": {
    "hash": "e6660baea0803492447b44bc1605e0255c69d336a174a3eaa2e51c9f31b7844a"
   }
  }
 },
 "nbformat": 4,
 "nbformat_minor": 2,
 "cells": [
  {
   "source": [
    "# Homework (Chapter 4) - 201601639 홍승현\n",
    "\n",
    "- 연습문제 5, 7, 8, 9, 10"
   ],
   "cell_type": "markdown",
   "metadata": {}
  },
  {
   "source": [
    "## 연습문제 5\n",
    "\n",
    "<img src=\"./problem5.png\" width=\"800\" height=\"300\">\n",
    "\n",
    "1. 가중치 행렬 U1, U2, U3, U4를 식(4.1) 처럼 쓰시오.\n",
    "2. x = (1,0)T가 입력되었을 때 출력 o를 구하시오. 활성함수로 로지스틱 시그모이드를 사용하시오.\n",
    "3. x = (1,0)T가 입력되었을 때 출력 o를 구하시오. 활성함수로 ReLU를 사용하시오.\n",
    "4. (1,0)T의 기대 출력이 o = (0,1)T일 때, 현재 1.0인 u3(12) 가중치를 0.9로 줄이면 오류에 어떤 영향을 미치는지 설명하시오."
   ],
   "cell_type": "markdown",
   "metadata": {}
  },
  {
   "source": [
    "### 1. 가중치 행렬 U1, U2, U3, U4를 식(4.1) 처럼 쓰시오.\n"
   ],
   "cell_type": "markdown",
   "metadata": {}
  },
  {
   "cell_type": "code",
   "execution_count": 49,
   "metadata": {},
   "outputs": [],
   "source": [
    "import numpy as np"
   ]
  },
  {
   "cell_type": "code",
   "execution_count": 50,
   "metadata": {},
   "outputs": [],
   "source": [
    "# DMLP의 가중치 초기화\n",
    "weights = np.array([[[-0.3, 1.6], [1.0, -1.0], [1.2, -1.1]], [[1.0, 0.7], [1.0, 0.5], [-1.0, 1.0]], [[0.5, -0.1], [-0.8, 0.3], [1.0, 0.4]], [[1.0, -0.2], [0.1, 1.3], [-0.2, -0.4]]])\n",
    "u1 = weights[0]\n",
    "u2 = weights[1]\n",
    "u3 = weights[2]\n",
    "u4 = weights[3]"
   ]
  },
  {
   "source": [
    "from sympy import * # 수식 표현을 위해 임포트"
   ],
   "cell_type": "code",
   "metadata": {},
   "execution_count": 51,
   "outputs": []
  },
  {
   "cell_type": "code",
   "execution_count": 52,
   "metadata": {},
   "outputs": [
    {
     "output_type": "stream",
     "name": "stdout",
     "text": [
      "     ⎡-0.3  1.6 ⎤\n     ⎢          ⎥\nU¹ = ⎢1.0   -1.0⎥\n     ⎢          ⎥\n     ⎣1.2   -1.1⎦\n     ⎡1.0   0.7⎤\n     ⎢         ⎥\nU² = ⎢1.0   0.5⎥\n     ⎢         ⎥\n     ⎣-1.0  1.0⎦\n     ⎡0.5   -0.1⎤\n     ⎢          ⎥\nU³ = ⎢-0.8  0.3 ⎥\n     ⎢          ⎥\n     ⎣1.0   0.4 ⎦\n     ⎡1.0   -0.2⎤\n     ⎢          ⎥\nU⁴ = ⎢0.1   1.3 ⎥\n     ⎢          ⎥\n     ⎣-0.2  -0.4⎦\n"
     ]
    }
   ],
   "source": [
    "for i in range(len(weights)):\n",
    "    u = Symbol(f\"U^{i+1}\")\n",
    "    mat = Matrix(weights[i], evaluate=False)\n",
    "    equation = Eq(u, mat, evaluate=False)\n",
    "    pprint(equation)"
   ]
  },
  {
   "source": [
    "### 2. x = (1,0)^T가 입력되었을 때 출력 o를 구하시오. 활성함수로 로지스틱 시그모이드를 사용하시오."
   ],
   "cell_type": "markdown",
   "metadata": {}
  },
  {
   "cell_type": "code",
   "execution_count": 53,
   "metadata": {},
   "outputs": [],
   "source": [
    "def sigmoid(x):\n",
    "    return 1 / (1 + np.exp(-x))"
   ]
  },
  {
   "cell_type": "code",
   "execution_count": 54,
   "metadata": {},
   "outputs": [
    {
     "output_type": "execute_result",
     "data": {
      "text/plain": [
       "Eq(o, Matrix([\n",
       "[0.720212909981978],\n",
       "[0.608070768763911]]))"
      ],
      "text/latex": "$\\displaystyle o = \\left[\\begin{matrix}0.720212909981978\\\\0.608070768763911\\end{matrix}\\right]$"
     },
     "metadata": {},
     "execution_count": 54
    }
   ],
   "source": [
    "x = np.array([1, 1, 0]).T\n",
    "# forward\n",
    "z1 = np.dot(x, u1)\n",
    "o1 = sigmoid(z1)\n",
    "o1 = np.append(1, o1)\n",
    "\n",
    "z2 = np.dot(o1, u2)\n",
    "o2 = sigmoid(z2)\n",
    "o2 = np.append(1, o2)\n",
    "\n",
    "z3 = np.dot(o2, u3)\n",
    "o3 = sigmoid(z3)\n",
    "o3 = np.append(1, o3)\n",
    "\n",
    "z4 = np.dot(o3, u4)\n",
    "o4 = sigmoid(z4)\n",
    "\n",
    "sigmoid_result1 = Eq(Symbol(\"o\"), Matrix(o4), evaluate=False)\n",
    "sigmoid_result1\n"
   ]
  },
  {
   "source": [
    "### 3. x = (1,0)T가 입력되었을 때 출력 o를 구하시오. 활성함수로 ReLU를 사용하시오."
   ],
   "cell_type": "markdown",
   "metadata": {}
  },
  {
   "cell_type": "code",
   "execution_count": 55,
   "metadata": {},
   "outputs": [],
   "source": [
    "def ReLU(x):\n",
    "    return np.maximum(0.0, x)"
   ]
  },
  {
   "cell_type": "code",
   "execution_count": 56,
   "metadata": {},
   "outputs": [
    {
     "output_type": "execute_result",
     "data": {
      "text/plain": [
       "Eq(o, Matrix([\n",
       "[0.949],\n",
       "[1.095]]))"
      ],
      "text/latex": "$\\displaystyle o = \\left[\\begin{matrix}0.949\\\\1.095\\end{matrix}\\right]$"
     },
     "metadata": {},
     "execution_count": 56
    }
   ],
   "source": [
    "x = np.array([1, 1, 0]).T\n",
    "# forward\n",
    "z1 = np.dot(x, u1)\n",
    "o1 = ReLU(z1)\n",
    "o1 = np.append(1, o1)\n",
    "\n",
    "z2 = np.dot(o1, u2)\n",
    "o2 = ReLU(z2)\n",
    "o2 = np.append(1, o2)\n",
    "\n",
    "z3 = np.dot(o2, u3)\n",
    "o3 = ReLU(z3)\n",
    "o3 = np.append(1, o3)\n",
    "\n",
    "z4 = np.dot(o3, u4)\n",
    "o4 = ReLU(z4)\n",
    "\n",
    "relu_result1 = Eq(Symbol(\"o\"), Matrix(o4), evaluate=False)\n",
    "relu_result1\n"
   ]
  },
  {
   "source": [
    "### 4. (1,0)T의 기대 출력이 o = (0,1)T일 때, 현재 1.0인 u3(12) 가중치를 0.9로 줄이면 오류에 어떤 영향을 미치는지 설명하시오."
   ],
   "cell_type": "markdown",
   "metadata": {}
  },
  {
   "cell_type": "code",
   "execution_count": 57,
   "metadata": {},
   "outputs": [],
   "source": [
    "# DMLP의 가중치 초기화\n",
    "weights = np.array([[[-0.3, 1.6], [1.0, -1.0], [1.2, -1.1]], \n",
    "                    [[1.0, 0.7], [1.0, 0.5], [-1.0, 1.0]], \n",
    "                    [[0.5, -0.1], [-0.8, 0.3], [0.9, 0.4]], # [1.0, 0.4]를 [0.9, 0.4]로 수정\n",
    "                    [[1.0, -0.2], [0.1, 1.3], [-0.2, -0.4]]])\n",
    "u1 = weights[0]\n",
    "u2 = weights[1]\n",
    "u3 = weights[2]\n",
    "u4 = weights[3]"
   ]
  },
  {
   "cell_type": "code",
   "execution_count": 58,
   "metadata": {},
   "outputs": [
    {
     "output_type": "execute_result",
     "data": {
      "text/plain": [
       "Eq(o, Matrix([\n",
       "[ 0.71983780114165],\n",
       "[0.602290985036324]]))"
      ],
      "text/latex": "$\\displaystyle o = \\left[\\begin{matrix}0.71983780114165\\\\0.602290985036324\\end{matrix}\\right]$"
     },
     "metadata": {},
     "execution_count": 58
    }
   ],
   "source": [
    "x = np.array([1, 1, 0]).T\n",
    "# forward\n",
    "z1 = np.dot(x, u1)\n",
    "o1 = sigmoid(z1)\n",
    "o1 = np.append(1, o1)\n",
    "\n",
    "z2 = np.dot(o1, u2)\n",
    "o2 = sigmoid(z2)\n",
    "o2 = np.append(1, o2)\n",
    "\n",
    "z3 = np.dot(o2, u3)\n",
    "o3 = sigmoid(z3)\n",
    "o3 = np.append(1, o3)\n",
    "\n",
    "z4 = np.dot(o3, u4)\n",
    "o4 = sigmoid(z4)\n",
    "\n",
    "Eq(Symbol(\"o\"), Matrix(o4), evaluate=False)\n"
   ]
  },
  {
   "cell_type": "code",
   "execution_count": null,
   "metadata": {},
   "outputs": [],
   "source": []
  }
 ]
}