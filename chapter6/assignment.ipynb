{
 "metadata": {
  "language_info": {
   "codemirror_mode": {
    "name": "ipython",
    "version": 3
   },
   "file_extension": ".py",
   "mimetype": "text/x-python",
   "name": "python",
   "nbconvert_exporter": "python",
   "pygments_lexer": "ipython3",
   "version": "3.8.5"
  },
  "orig_nbformat": 2,
  "kernelspec": {
   "name": "python385jvsc74a57bd0e6660baea0803492447b44bc1605e0255c69d336a174a3eaa2e51c9f31b7844a",
   "display_name": "Python 3.8.5 64-bit ('base': conda)"
  },
  "metadata": {
   "interpreter": {
    "hash": "e6660baea0803492447b44bc1605e0255c69d336a174a3eaa2e51c9f31b7844a"
   }
  }
 },
 "nbformat": 4,
 "nbformat_minor": 2,
 "cells": [
  {
   "source": [
    "# Homework (Chapter 6) - 201601639 홍승현\n",
    "\n",
    "- 연습문제 1, 3, 6, 9"
   ],
   "cell_type": "markdown",
   "metadata": {}
  },
  {
   "source": [
    "`[예제 6-1]`에서 초기 군집 중심을 z1 = x2, z2 = x3, z3 = x7로 다시 설정했을 때, k-평균의 동작을 예제처럼 보이시오. 다중 시작을 사용한다면 둘 중 어느 해를 취할지 판단하시오."
   ],
   "cell_type": "markdown",
   "metadata": {}
  },
  {
   "cell_type": "code",
   "execution_count": 1,
   "metadata": {},
   "outputs": [],
   "source": [
    "import numpy as np\n",
    "from sympy import * # 수식 표현을 위해 임포트"
   ]
  },
  {
   "cell_type": "code",
   "execution_count": 4,
   "metadata": {},
   "outputs": [
    {
     "output_type": "stream",
     "name": "stdout",
     "text": [
      "     ⎡18.0⎤\nx₀ = ⎢    ⎥\n     ⎣5.0 ⎦\n     ⎡20.0⎤\nx₁ = ⎢    ⎥\n     ⎣9.0 ⎦\n     ⎡20.0⎤\nx₂ = ⎢    ⎥\n     ⎣14.0⎦\n     ⎡20.0⎤\nx₃ = ⎢    ⎥\n     ⎣17.0⎦\n     ⎡5.0 ⎤\nx₄ = ⎢    ⎥\n     ⎣15.0⎦\n     ⎡9.0 ⎤\nx₅ = ⎢    ⎥\n     ⎣15.0⎦\n     ⎡6.0 ⎤\nx₆ = ⎢    ⎥\n     ⎣20.0⎦\n"
     ]
    }
   ],
   "source": [
    "x_train = np.array([[[18], [5]], [[20], [9]], [[20], [14]], [[20], [17]], [[5], [15]], [[9], [15]], [[6], [20]]], dtype=float)\n",
    "k = 3 # 군집의 개수\n",
    "n = len(x_train) # 훈련집합의 길이\n",
    "# c_cluster = np.copy(x_train[:3]) # 기존 예제에서의 군집집합\n",
    "c_cluster = np.copy(x_train[[1, 2, 6]]) # 바뀐 군집집합\n",
    "\n",
    "A = np.zeros((k, n))\n",
    "\n",
    "for i in range(n):\n",
    "    pprint(Eq(Symbol(f\"x_{i}\"), Matrix(x_train[i]), evaluate=False))"
   ]
  },
  {
   "cell_type": "code",
   "execution_count": 5,
   "metadata": {},
   "outputs": [
    {
     "output_type": "stream",
     "name": "stdout",
     "text": [
      "    ⎡1.0  1.0  0.0  0.0  0.0  0.0  0.0⎤\n    ⎢                                 ⎥\nA = ⎢0.0  0.0  1.0  1.0  0.0  0.0  0.0⎥\n    ⎢                                 ⎥\n    ⎣0.0  0.0  0.0  0.0  1.0  1.0  1.0⎦\n     ⎡19.0⎤\nz₀ = ⎢    ⎥\n     ⎣7.0 ⎦\n     ⎡20.0⎤\nz₁ = ⎢    ⎥\n     ⎣15.5⎦\n     ⎡6.66666666666667⎤\nz₂ = ⎢                ⎥\n     ⎣16.6666666666667⎦\nJ = 16.0959466570308\n    ⎡1.0  1.0  0.0  0.0  0.0  0.0  0.0⎤\n    ⎢                                 ⎥\nA = ⎢0.0  0.0  1.0  1.0  0.0  0.0  0.0⎥\n    ⎢                                 ⎥\n    ⎣0.0  0.0  0.0  0.0  1.0  1.0  1.0⎦\n"
     ]
    }
   ],
   "source": [
    "restore_A = np.copy(A)\n",
    "while True:\n",
    "    for i in range(n):\n",
    "        min_pos = np.argmin(list(map(lambda x: np.linalg.norm(x-x_train[i]), c_cluster)))\n",
    "        A[min_pos, i] = 1\n",
    "    pprint(Eq(Symbol(\"A\"), Matrix(A), evaluate=False))\n",
    "    if (restore_A == A).all():\n",
    "        break\n",
    "    for j in range(k):\n",
    "        c_cluster[j] = x_train[np.where(A[j] == 1)].mean(axis=0)\n",
    "        pprint(Eq(Symbol(f\"z_{j}\"), Matrix(c_cluster[j]), evaluate=False))\n",
    "    \n",
    "    J = 0\n",
    "    for i in range(n):\n",
    "        for j in range(k):\n",
    "            J += A[j, i] * np.linalg.norm(x_train[i]-c_cluster[j])\n",
    "    pprint(Eq(Symbol(\"J\"), J))\n",
    "    restore_A = np.copy(A)\n",
    "    A = np.zeros((k, n))\n",
    "\n",
    "    \n",
    "    "
   ]
  },
  {
   "cell_type": "code",
   "execution_count": null,
   "metadata": {},
   "outputs": [],
   "source": []
  },
  {
   "cell_type": "code",
   "execution_count": null,
   "metadata": {},
   "outputs": [],
   "source": []
  }
 ]
}