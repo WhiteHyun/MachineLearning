{
 "metadata": {
  "language_info": {
   "codemirror_mode": {
    "name": "ipython",
    "version": 3
   },
   "file_extension": ".py",
   "mimetype": "text/x-python",
   "name": "python",
   "nbconvert_exporter": "python",
   "pygments_lexer": "ipython3",
   "version": "3.8.5"
  },
  "orig_nbformat": 2,
  "kernelspec": {
   "name": "python385jvsc74a57bd0e6660baea0803492447b44bc1605e0255c69d336a174a3eaa2e51c9f31b7844a",
   "display_name": "Python 3.8.5 64-bit ('base': conda)"
  },
  "metadata": {
   "interpreter": {
    "hash": "e6660baea0803492447b44bc1605e0255c69d336a174a3eaa2e51c9f31b7844a"
   }
  }
 },
 "nbformat": 4,
 "nbformat_minor": 2,
 "cells": [
  {
   "source": [
    "# Homework (Chapter 6) - 201601639 홍승현\n",
    "\n",
    "- 연습문제 1, 3, 6, 9"
   ],
   "cell_type": "markdown",
   "metadata": {}
  },
  {
   "source": [
    "## 연습문제 1\n",
    "\n",
    "`[예제 6-1]`에서 초기 군집 중심을 z1 = x2, z2 = x3, z3 = x7로 다시 설정했을 때, k-평균의 동작을 예제처럼 보이시오. 다중 시작을 사용한다면 둘 중 어느 해를 취할지 판단하시오."
   ],
   "cell_type": "markdown",
   "metadata": {}
  },
  {
   "cell_type": "code",
   "execution_count": 1,
   "metadata": {},
   "outputs": [],
   "source": [
    "import numpy as np\n",
    "from sympy import * # 수식 표현을 위해 임포트"
   ]
  },
  {
   "cell_type": "code",
   "execution_count": 2,
   "metadata": {},
   "outputs": [
    {
     "output_type": "stream",
     "name": "stdout",
     "text": [
      "     ⎡18.0⎤\nx₀ = ⎢    ⎥\n     ⎣5.0 ⎦\n     ⎡20.0⎤\nx₁ = ⎢    ⎥\n     ⎣9.0 ⎦\n     ⎡20.0⎤\nx₂ = ⎢    ⎥\n     ⎣14.0⎦\n     ⎡20.0⎤\nx₃ = ⎢    ⎥\n     ⎣17.0⎦\n     ⎡5.0 ⎤\nx₄ = ⎢    ⎥\n     ⎣15.0⎦\n     ⎡9.0 ⎤\nx₅ = ⎢    ⎥\n     ⎣15.0⎦\n     ⎡6.0 ⎤\nx₆ = ⎢    ⎥\n     ⎣20.0⎦\n"
     ]
    }
   ],
   "source": [
    "x_train = np.array([[[18], [5]], [[20], [9]], [[20], [14]], [[20], [17]], [[5], [15]], [[9], [15]], [[6], [20]]], dtype=float)\n",
    "k = 3 # 군집의 개수\n",
    "n = len(x_train) # 훈련집합의 길이\n",
    "# c_cluster = np.copy(x_train[:3]) # 기존 예제에서의 군집집합\n",
    "c_cluster = np.copy(x_train[[1, 2, 6]]) # 바뀐 군집집합\n",
    "\n",
    "A = np.zeros((k, n))\n",
    "\n",
    "for i in range(n):\n",
    "    pprint(Eq(Symbol(f\"x_{i}\"), Matrix(x_train[i]), evaluate=False))"
   ]
  },
  {
   "cell_type": "code",
   "execution_count": 3,
   "metadata": {},
   "outputs": [
    {
     "output_type": "stream",
     "name": "stdout",
     "text": [
      "    ⎡1.0  1.0  0.0  0.0  0.0  0.0  0.0⎤\n    ⎢                                 ⎥\nA = ⎢0.0  0.0  1.0  1.0  0.0  0.0  0.0⎥\n    ⎢                                 ⎥\n    ⎣0.0  0.0  0.0  0.0  1.0  1.0  1.0⎦\n     ⎡19.0⎤\nz₀ = ⎢    ⎥\n     ⎣7.0 ⎦\n     ⎡20.0⎤\nz₁ = ⎢    ⎥\n     ⎣15.5⎦\n     ⎡6.66666666666667⎤\nz₂ = ⎢                ⎥\n     ⎣16.6666666666667⎦\nJ = 16.0959466570308\n    ⎡1.0  1.0  0.0  0.0  0.0  0.0  0.0⎤\n    ⎢                                 ⎥\nA = ⎢0.0  0.0  1.0  1.0  0.0  0.0  0.0⎥\n    ⎢                                 ⎥\n    ⎣0.0  0.0  0.0  0.0  1.0  1.0  1.0⎦\n"
     ]
    }
   ],
   "source": [
    "restore_A = np.copy(A)\n",
    "while True:\n",
    "    for i in range(n):\n",
    "        min_pos = np.argmin(list(map(lambda x: np.linalg.norm(x-x_train[i]), c_cluster)))\n",
    "        A[min_pos, i] = 1\n",
    "    pprint(Eq(Symbol(\"A\"), Matrix(A), evaluate=False))\n",
    "    if (restore_A == A).all():\n",
    "        break\n",
    "    for j in range(k):\n",
    "        c_cluster[j] = x_train[np.where(A[j] == 1)].mean(axis=0)\n",
    "        pprint(Eq(Symbol(f\"z_{j}\"), Matrix(c_cluster[j]), evaluate=False))\n",
    "    \n",
    "    J = 0\n",
    "    for i in range(n):\n",
    "        for j in range(k):\n",
    "            J += A[j, i] * np.linalg.norm(x_train[i]-c_cluster[j])\n",
    "    pprint(Eq(Symbol(\"J\"), J))\n",
    "    restore_A = np.copy(A)\n",
    "    A = np.zeros((k, n))\n",
    "\n",
    "    \n",
    "    "
   ]
  },
  {
   "cell_type": "code",
   "execution_count": 4,
   "metadata": {},
   "outputs": [
    {
     "output_type": "stream",
     "name": "stdout",
     "text": [
      "    ⎡1.0  0.0  0.0  0.0  0.0  0.0  0.0⎤\n    ⎢                                 ⎥\nA = ⎢0.0  1.0  0.0  0.0  0.0  0.0  0.0⎥\n    ⎢                                 ⎥\n    ⎣0.0  0.0  1.0  1.0  1.0  1.0  1.0⎦\n     ⎡18.0⎤\nz₀ = ⎢    ⎥\n     ⎣5.0 ⎦\n     ⎡20.0⎤\nz₁ = ⎢    ⎥\n     ⎣9.0 ⎦\n     ⎡12.0⎤\nz₂ = ⎢    ⎥\n     ⎣16.2⎦\nJ = 33.7722115099058\n    ⎡1.0  0.0  0.0  0.0  0.0  0.0  0.0⎤\n    ⎢                                 ⎥\nA = ⎢0.0  1.0  1.0  1.0  0.0  0.0  0.0⎥\n    ⎢                                 ⎥\n    ⎣0.0  0.0  0.0  0.0  1.0  1.0  1.0⎦\n     ⎡18.0⎤\nz₀ = ⎢    ⎥\n     ⎣5.0 ⎦\n     ⎡      20.0      ⎤\nz₁ = ⎢                ⎥\n     ⎣13.3333333333333⎦\n     ⎡6.66666666666667⎤\nz₂ = ⎢                ⎥\n     ⎣16.6666666666667⎦\nJ = 17.2904773686979\n    ⎡1.0  0.0  0.0  0.0  0.0  0.0  0.0⎤\n    ⎢                                 ⎥\nA = ⎢0.0  1.0  1.0  1.0  0.0  0.0  0.0⎥\n    ⎢                                 ⎥\n    ⎣0.0  0.0  0.0  0.0  1.0  1.0  1.0⎦\n"
     ]
    }
   ],
   "source": [
    "c_cluster = np.copy(x_train[:3]) # 기존 예제에서의 군집집합\n",
    "A = np.zeros((k, n))\n",
    "restore_A = np.copy(A)\n",
    "while True:\n",
    "    for i in range(n):\n",
    "        min_pos = np.argmin(list(map(lambda x: np.linalg.norm(x-x_train[i]), c_cluster)))\n",
    "        A[min_pos, i] = 1\n",
    "    pprint(Eq(Symbol(\"A\"), Matrix(A), evaluate=False))\n",
    "    if (restore_A == A).all():\n",
    "        break\n",
    "    for j in range(k):\n",
    "        c_cluster[j] = x_train[np.where(A[j] == 1)].mean(axis=0)\n",
    "        pprint(Eq(Symbol(f\"z_{j}\"), Matrix(c_cluster[j]), evaluate=False))\n",
    "    \n",
    "    J = 0\n",
    "    for i in range(n):\n",
    "        for j in range(k):\n",
    "            J += A[j, i] * np.linalg.norm(x_train[i]-c_cluster[j])\n",
    "    pprint(Eq(Symbol(\"J\"), J))\n",
    "    restore_A = np.copy(A)\n",
    "    A = np.zeros((k, n))"
   ]
  },
  {
   "source": [
    "### 결론\n",
    "\n",
    "- 먼저 가까운 군집에 배정한 결과 위와 같은 A의 값이 나왔으며, 새롭게 계산한 군집의 중심은 위의 `z0`, `z1`, `z2`와 같다.\n",
    "- 최적화 식 J를 적용하면 `16.0959`의 결과가 나오며, 두 번째 루프를 실행하였을 때 행렬의 값은 동일하기 때문에 바뀌지 않는다.\n",
    "- 기존의 예제의 경우 J는 `17.2904`가 나오기 때문에 바꿔 적용한 군집을 선택할 것이다. "
   ],
   "cell_type": "markdown",
   "metadata": {}
  },
  {
   "source": [
    "## 연습문제 3\n",
    "\n",
    "`k-평균`과 `k-medoids`의 계산 시간을 분석하시오. 어느 것이 몇 배 정도 더 많은 시간을 쓸지 추정할 수 있는가?"
   ],
   "cell_type": "markdown",
   "metadata": {}
  },
  {
   "source": [
    "### 답\n",
    "\n",
    "- `k-평균`의 경우 각 샘플을 가지고 평균을 구한 것을 군집의 중심으로 잡기 때문에, 샘플의 개수만큼의 연산을 하므로 `O(n)`의 시간복잡도가 나타내어진다.\n",
    "- `k-medoids`의 경우 하나의 샘플이 군집에서 자신을 제외한 모든 샘플들의 거리를 계산하여 합을 구하는데, 하나의 샘플에서 `O(n)`이 소요되고, 이를 모두의 샘플에 적용해야 하므로 `O(n^2)`의 시간복잡도가 나타내어진다."
   ],
   "cell_type": "markdown",
   "metadata": {}
  },
  {
   "source": [
    "## 연습문제 6\n",
    "\n",
    "`그림[6-8]`에는 80개의 샘플이 있다. \\[0, 0.1\\] 구간을 0, \\[0.1, 0.2\\]를 1, ... , \\[0.9, 1\\]을 9로 표시하고 히스토그램 방식을 사용한다.\n",
    "\n",
    "1. 다음 확률을 구하시오\n",
    "    - 결합확률 P(x1 = 2, x2 = 3), 조건부 확률 P(x1 = 2 | x2 = 3), 주변 확률 P(x2 = 3)\n",
    "\n",
    "2. 다음 확률을 구하시오.\n",
    "\n",
    "    - 결합확률 P(x1 = 3, x2 = 5), 조건부 확률 P(x2 = 5 | x1 = 3), 주변 확률 P(x1 = 3)\n"
   ],
   "cell_type": "markdown",
   "metadata": {}
  },
  {
   "source": [
    "1. 다음 확률을 구하시오\n",
    "\n",
    "    - 결합확률 P(x1 = 2, x2 = 3) = 1/80\n",
    "    - 조건부 확률 P(x1 = 2 | x2 = 3) = 1/80/5/80 = 1/5\n",
    "    - 주변 확률 P(x2 = 3) = 5/80\n",
    "\n",
    "2. 다음 확률을 구하시오\n",
    "\n",
    "    - 결합확률 P(x1 = 3, x2 = 5) =  3/80\n",
    "    - 조건부 확률 P(x2 = 5 | x1 = 3) = 3/80/12/80 = 3/12 = 1/4\n",
    "    - 주변 확률 P(x1 = 3) = 12/80"
   ],
   "cell_type": "markdown",
   "metadata": {}
  },
  {
   "source": [
    "## 연습문제 9\n",
    "\n",
    "훈련집합이 다음과 같다. PCA를 이용하여 2차원을 1차원으로 변환하는 행렬을 구하시오."
   ],
   "cell_type": "markdown",
   "metadata": {}
  },
  {
   "cell_type": "code",
   "execution_count": 18,
   "metadata": {},
   "outputs": [],
   "source": [
    "x_train = np.array([[[1], [2]], [[2], [2]], [[3], [2]], [[3], [3]], [[4], [3]], [[4], [4]], [[5]\n",
    ", [4]], [[6], [4]]], dtype=float)\n",
    "avg_vector = np.sum(x_train, axis=0)/x_train.shape[0]\n"
   ]
  },
  {
   "cell_type": "code",
   "execution_count": 19,
   "metadata": {},
   "outputs": [
    {
     "output_type": "execute_result",
     "data": {
      "text/plain": [
       "array([[3.5],\n",
       "       [3. ]])"
      ]
     },
     "metadata": {},
     "execution_count": 19
    }
   ],
   "source": [
    "avg_vector"
   ]
  },
  {
   "cell_type": "code",
   "execution_count": 20,
   "metadata": {},
   "outputs": [],
   "source": [
    "moved_x_vector = x_train - avg_vector"
   ]
  },
  {
   "cell_type": "code",
   "execution_count": 48,
   "metadata": {},
   "outputs": [
    {
     "output_type": "execute_result",
     "data": {
      "text/plain": [
       "array([[2.25 , 1.125],\n",
       "       [1.125, 0.75 ]])"
      ]
     },
     "metadata": {},
     "execution_count": 48
    }
   ],
   "source": [
    "conv_vector = np.sum(list(map(lambda x: x.dot(x.T), moved_x_vector)), axis=0)/moved_x_vector.shape[0]\n",
    "conv_vector"
   ]
  },
  {
   "cell_type": "code",
   "execution_count": 49,
   "metadata": {},
   "outputs": [],
   "source": [
    "eigen_value, eigen_vector = np.linalg.eig(conv_vector)"
   ]
  },
  {
   "cell_type": "code",
   "execution_count": 63,
   "metadata": {},
   "outputs": [
    {
     "output_type": "stream",
     "name": "stdout",
     "text": [
      "고유값: 2.852081728298996\n고유벡터: [ 0.8816746  -0.47185793]\n"
     ]
    }
   ],
   "source": [
    "print(f\"고유값: {eigen_value[0]}\\n고유벡터: {eigen_vector[0]}\")"
   ]
  },
  {
   "cell_type": "code",
   "execution_count": null,
   "metadata": {},
   "outputs": [],
   "source": []
  }
 ]
}