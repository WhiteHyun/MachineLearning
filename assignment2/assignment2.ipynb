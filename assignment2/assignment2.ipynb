{
 "metadata": {
  "language_info": {
   "codemirror_mode": {
    "name": "ipython",
    "version": 3
   },
   "file_extension": ".py",
   "mimetype": "text/x-python",
   "name": "python",
   "nbconvert_exporter": "python",
   "pygments_lexer": "ipython3",
   "version": "3.8.3"
  },
  "orig_nbformat": 2,
  "kernelspec": {
   "name": "python383jvsc74a57bd01f1a9a26f9029e8a52baa729a5df87b1126e6289a558591c90eebb2bfad237b0",
   "display_name": "Python 3.8.3 32-bit"
  }
 },
 "nbformat": 4,
 "nbformat_minor": 2,
 "cells": [
  {
   "source": [
    "# Homework 4 - 201601639 홍승현\n",
    "\n",
    "- 연습문제 5, 7, 8, 9, 10"
   ],
   "cell_type": "markdown",
   "metadata": {}
  },
  {
   "source": [
    "## 연습문제 5\n",
    "\n",
    "<!--사진 들어올 곳 -->\n",
    "1. 가중치 행렬 U1, U2, U3, U4를 식(4.1) 처럼 쓰시오.\n",
    "2. x = (1,0)T가 입력되었을 때 출력 o를 구하시오. 활성함수로 로지스틱 시그모이드를 사용하시오.\n",
    "3. x = (1,0)T가 입력되었을 때 출력 o를 구하시오. 활성함수로 ReLU를 사용하시오.\n",
    "4. (1,0)T의 기대 출력이 o = (0,1)T일 때, 현재 1.0인 u3(12) 가중치를 0.9로 줄이면 오류에 어떤 영향을 미치는지 설명하시오."
   ],
   "cell_type": "markdown",
   "metadata": {}
  },
  {
   "cell_type": "code",
   "execution_count": null,
   "metadata": {},
   "outputs": [],
   "source": []
  }
 ]
}