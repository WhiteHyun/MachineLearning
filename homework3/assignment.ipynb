{
 "metadata": {
  "language_info": {
   "codemirror_mode": {
    "name": "ipython",
    "version": 3
   },
   "file_extension": ".py",
   "mimetype": "text/x-python",
   "name": "python",
   "nbconvert_exporter": "python",
   "pygments_lexer": "ipython3",
   "version": "3.8.5"
  },
  "orig_nbformat": 2,
  "kernelspec": {
   "name": "python385jvsc74a57bd0e6660baea0803492447b44bc1605e0255c69d336a174a3eaa2e51c9f31b7844a",
   "display_name": "Python 3.8.5 64-bit ('base': conda)"
  },
  "metadata": {
   "interpreter": {
    "hash": "e6660baea0803492447b44bc1605e0255c69d336a174a3eaa2e51c9f31b7844a"
   }
  }
 },
 "nbformat": 4,
 "nbformat_minor": 2,
 "cells": [
  {
   "source": [
    "# Homework (Chapter 5) - 201601639 홍승현\n",
    "\n",
    "- 연습문제 2, 3, 5"
   ],
   "cell_type": "markdown",
   "metadata": {}
  },
  {
   "source": [
    "## 연습문제 2\n",
    "\n",
    "softmax를 적용한 후 출력이`(0.001, 0.9, 0.001, 0.098)^T`이고 레이블 정보가 `(0, 0, 0, 1)^T`일 때, 세가지 목적함수, 평균제곱 오차, 교차 엔트로피, 로그우도를 계산하시오.\n",
    "\n"
   ],
   "cell_type": "markdown",
   "metadata": {}
  },
  {
   "source": [
    "행렬 연산을 수월하게 하기 위해 `numpy`를 사용하였다."
   ],
   "cell_type": "markdown",
   "metadata": {}
  },
  {
   "cell_type": "code",
   "execution_count": 1,
   "metadata": {},
   "outputs": [],
   "source": [
    "import numpy as np"
   ]
  },
  {
   "source": [
    "from sympy import * # 수식 표현을 위해 임포트"
   ],
   "cell_type": "code",
   "metadata": {},
   "execution_count": 2,
   "outputs": []
  },
  {
   "cell_type": "code",
   "execution_count": 3,
   "metadata": {},
   "outputs": [],
   "source": [
    "softmax_output = np.array([[0.001, 0.9, 0.001, 0.098]]).T\n",
    "label = np.array([[0, 0, 0, 1]]).T\n"
   ]
  },
  {
   "cell_type": "code",
   "execution_count": 4,
   "metadata": {},
   "outputs": [
    {
     "output_type": "stream",
     "name": "stdout",
     "text": [
      "             ⎡0.001⎤\n             ⎢     ⎥\n             ⎢ 0.9 ⎥\nsoftmax(x) = ⎢     ⎥\n             ⎢0.001⎥\n             ⎢     ⎥\n             ⎣0.098⎦\n           ⎡0⎤\n           ⎢ ⎥\n           ⎢0⎥\nlabel(x) = ⎢ ⎥\n           ⎢0⎥\n           ⎢ ⎥\n           ⎣1⎦\n"
     ]
    }
   ],
   "source": [
    "pprint(Eq(Symbol(\"softmax(x)\"), Matrix(softmax_output), evaluate=False))\n",
    "pprint(Eq(Symbol(\"label(x)\"), Matrix(label), evaluate=False))"
   ]
  },
  {
   "cell_type": "code",
   "execution_count": 61,
   "metadata": {},
   "outputs": [],
   "source": [
    "def mean_squared_error(y, t):\n",
    "    return 0.5 * np.sum((y-t)**2)\n",
    "\n",
    "\n",
    "def cross_entropy_error(y, t):\n",
    "    \n",
    "    return -np.sum(y*np.log2(t))\n"
   ]
  },
  {
   "source": [
    "1. MSE (평균제곱오차)"
   ],
   "cell_type": "markdown",
   "metadata": {}
  },
  {
   "cell_type": "code",
   "execution_count": 71,
   "metadata": {},
   "outputs": [
    {
     "output_type": "stream",
     "name": "stdout",
     "text": [
      "MSE = 0.811803\n"
     ]
    }
   ],
   "source": [
    "pprint(Eq(Symbol(\"MSE\"), mean_squared_error(label, softmax_output)))"
   ]
  },
  {
   "source": [
    "2. CCE (교차 엔트로피)"
   ],
   "cell_type": "markdown",
   "metadata": {}
  },
  {
   "cell_type": "code",
   "execution_count": 70,
   "metadata": {},
   "outputs": [
    {
     "output_type": "stream",
     "name": "stdout",
     "text": [
      "CEE = 3.35107444054688\n"
     ]
    }
   ],
   "source": [
    "pprint(Eq(Symbol(\"CEE\"), cross_entropy_error(label, softmax_output)))"
   ]
  },
  {
   "source": [
    "3. 로그우도"
   ],
   "cell_type": "markdown",
   "metadata": {}
  },
  {
   "cell_type": "code",
   "execution_count": 101,
   "metadata": {},
   "outputs": [
    {
     "output_type": "stream",
     "name": "stdout",
     "text": [
      "o₀ₑ = [9.96578428466209]\no₁ₑ = [0.15200309344505]\no₂ₑ = [9.96578428466209]\no₃ₑ = [3.35107444054688]\n"
     ]
    }
   ],
   "source": [
    "log_likelihood = -np.log2(softmax_output)\n",
    "for i in range(log_likelihood.shape[0]):\n",
    "    pprint(Eq(Symbol(f\"o_{i}e\"), Matrix(log_likelihood[i]), evaluate=False))"
   ]
  },
  {
   "source": [
    "[예제 5-1]에서 `λ = 0.1`, `λ = 0.5`일 때를 계산하고 λ에 따른 효과를 설명하시오. 이 때 [그림 5-21]을 활용하시오."
   ],
   "cell_type": "markdown",
   "metadata": {}
  }
 ]
}