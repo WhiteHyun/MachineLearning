{
 "metadata": {
  "language_info": {
   "codemirror_mode": {
    "name": "ipython",
    "version": 3
   },
   "file_extension": ".py",
   "mimetype": "text/x-python",
   "name": "python",
   "nbconvert_exporter": "python",
   "pygments_lexer": "ipython3",
   "version": "3.8.5"
  },
  "orig_nbformat": 2,
  "kernelspec": {
   "name": "python385jvsc74a57bd0e6660baea0803492447b44bc1605e0255c69d336a174a3eaa2e51c9f31b7844a",
   "display_name": "Python 3.8.5 64-bit ('base': conda)"
  },
  "metadata": {
   "interpreter": {
    "hash": "e6660baea0803492447b44bc1605e0255c69d336a174a3eaa2e51c9f31b7844a"
   }
  }
 },
 "nbformat": 4,
 "nbformat_minor": 2,
 "cells": [
  {
   "source": [
    "# Homework (Chapter 5) - 201601639 홍승현\n",
    "\n",
    "- 연습문제 2, 3, 5"
   ],
   "cell_type": "markdown",
   "metadata": {}
  },
  {
   "source": [
    "## 연습문제 2\n",
    "\n",
    "softmax를 적용한 후 출력이`(0.001, 0.9, 0.001, 0.098)^T`이고 레이블 정보가 `(0, 0, 0, 1)^T`일 때, 세가지 목적함수, 평균제곱 오차, 교차 엔트로피, 로그우도를 계산하시오.\n",
    "\n"
   ],
   "cell_type": "markdown",
   "metadata": {}
  },
  {
   "source": [
    "행렬 연산을 수월하게 하기 위해 `numpy`를 사용하였다."
   ],
   "cell_type": "markdown",
   "metadata": {}
  },
  {
   "cell_type": "code",
   "execution_count": 8,
   "metadata": {},
   "outputs": [],
   "source": [
    "import numpy as np"
   ]
  },
  {
   "source": [
    "from sympy import * # 수식 표현을 위해 임포트"
   ],
   "cell_type": "code",
   "metadata": {},
   "execution_count": 9,
   "outputs": []
  },
  {
   "cell_type": "code",
   "execution_count": 10,
   "metadata": {},
   "outputs": [],
   "source": [
    "softmax_output = np.array([[0.001, 0.9, 0.001, 0.098]]).T\n",
    "label = np.array([[0, 0, 0, 1]]).T\n"
   ]
  },
  {
   "cell_type": "code",
   "execution_count": 11,
   "metadata": {},
   "outputs": [
    {
     "output_type": "stream",
     "name": "stdout",
     "text": [
      "             ⎡0.001⎤\n             ⎢     ⎥\n             ⎢ 0.9 ⎥\nsoftmax(x) = ⎢     ⎥\n             ⎢0.001⎥\n             ⎢     ⎥\n             ⎣0.098⎦\n           ⎡0⎤\n           ⎢ ⎥\n           ⎢0⎥\nlabel(x) = ⎢ ⎥\n           ⎢0⎥\n           ⎢ ⎥\n           ⎣1⎦\n"
     ]
    }
   ],
   "source": [
    "pprint(Eq(Symbol(\"softmax(x)\"), Matrix(softmax_output), evaluate=False))\n",
    "pprint(Eq(Symbol(\"label(x)\"), Matrix(label), evaluate=False))"
   ]
  },
  {
   "cell_type": "code",
   "execution_count": 12,
   "metadata": {},
   "outputs": [],
   "source": [
    "def mean_squared_error(y, t):\n",
    "    return 0.5 * np.sum((y-t)**2)\n",
    "\n",
    "\n",
    "def cross_entropy_error(y, t):\n",
    "    \n",
    "    return -np.sum(y*np.log2(t))\n"
   ]
  },
  {
   "source": [
    "1. MSE (평균제곱오차)"
   ],
   "cell_type": "markdown",
   "metadata": {}
  },
  {
   "cell_type": "code",
   "execution_count": 13,
   "metadata": {},
   "outputs": [
    {
     "output_type": "stream",
     "name": "stdout",
     "text": [
      "MSE = 0.811803\n"
     ]
    }
   ],
   "source": [
    "pprint(Eq(Symbol(\"MSE\"), mean_squared_error(label, softmax_output)))"
   ]
  },
  {
   "source": [
    "2. CCE (교차 엔트로피)"
   ],
   "cell_type": "markdown",
   "metadata": {}
  },
  {
   "cell_type": "code",
   "execution_count": 14,
   "metadata": {},
   "outputs": [
    {
     "output_type": "stream",
     "name": "stdout",
     "text": [
      "CEE = 3.35107444054688\n"
     ]
    }
   ],
   "source": [
    "pprint(Eq(Symbol(\"CEE\"), cross_entropy_error(label, softmax_output)))"
   ]
  },
  {
   "source": [
    "3. 로그우도"
   ],
   "cell_type": "markdown",
   "metadata": {}
  },
  {
   "cell_type": "code",
   "execution_count": 15,
   "metadata": {},
   "outputs": [
    {
     "output_type": "stream",
     "name": "stdout",
     "text": [
      "o₀ₑ = [9.96578428466209]\no₁ₑ = [0.15200309344505]\no₂ₑ = [9.96578428466209]\no₃ₑ = [3.35107444054688]\n"
     ]
    }
   ],
   "source": [
    "log_likelihood = -np.log2(softmax_output)\n",
    "for i in range(log_likelihood.shape[0]):\n",
    "    pprint(Eq(Symbol(f\"o_{i}e\"), Matrix(log_likelihood[i]), evaluate=False))"
   ]
  },
  {
   "source": [
    "## 연습문제 3\n",
    "\n",
    "[예제 5-1]에서 `λ = 0.1`, `λ = 0.5`일 때를 계산하고 λ에 따른 효과를 설명하시오. 이 때 [그림 5-21]을 활용하시오."
   ],
   "cell_type": "markdown",
   "metadata": {}
  },
  {
   "cell_type": "code",
   "execution_count": 16,
   "metadata": {},
   "outputs": [
    {
     "output_type": "stream",
     "name": "stdout",
     "text": [
      "    ⎡1  1⎤\n    ⎢    ⎥\nX = ⎢2  3⎥\n    ⎢    ⎥\n    ⎣3  3⎦\n    ⎡3.0⎤\n    ⎢   ⎥\nY = ⎢7.0⎥\n    ⎢   ⎥\n    ⎣8.8⎦\n"
     ]
    }
   ],
   "source": [
    "# 훈련집합\n",
    "X = np.array([[1, 1], [2, 3], [3, 3]])\n",
    "# label\n",
    "Y = np.array([[3.0, 7.0, 8.8]]).T\n",
    "\n",
    "pprint(Eq(Symbol(\"X\"), Matrix(X), evaluate=False))\n",
    "pprint(Eq(Symbol(\"Y\"), Matrix(Y), evaluate=False))"
   ]
  },
  {
   "cell_type": "code",
   "execution_count": 17,
   "metadata": {},
   "outputs": [],
   "source": [
    "def ridge_regression(x, y, lamb):\n",
    "    return np.linalg.inv(x.T.dot(x)+2*lamb*np.identity(2)).dot(x.T).dot(y)\n",
    "    "
   ]
  },
  {
   "source": [
    "### λ = 0.25일 때 (기존 예제)"
   ],
   "cell_type": "markdown",
   "metadata": {}
  },
  {
   "cell_type": "code",
   "execution_count": 18,
   "metadata": {},
   "outputs": [
    {
     "output_type": "stream",
     "name": "stdout",
     "text": [
      "         ⎡1.49158878504673⎤\nλ₍₀₂₅₎ = ⎢                ⎥\n         ⎣1.3607476635514 ⎦\n"
     ]
    }
   ],
   "source": [
    "t = ridge_regression(X, Y, lamb=0.25)\n",
    "pprint(Eq(Symbol(\"λ_(025)\"), Matrix(t), evaluate=False))"
   ]
  },
  {
   "source": [
    "### λ = 0.1일 때"
   ],
   "cell_type": "markdown",
   "metadata": {}
  },
  {
   "cell_type": "code",
   "execution_count": 19,
   "metadata": {},
   "outputs": [
    {
     "output_type": "stream",
     "name": "stdout",
     "text": [
      "        ⎡1.61538461538462⎤\nλ₍₀₁₎ = ⎢                ⎥\n        ⎣1.27884615384616⎦\n"
     ]
    }
   ],
   "source": [
    "t = ridge_regression(X, Y, lamb=0.1)\n",
    "pprint(Eq(Symbol(\"λ_(01)\"), Matrix(t), evaluate=False))"
   ]
  },
  {
   "source": [
    "### λ = 0.5일 때"
   ],
   "cell_type": "markdown",
   "metadata": {}
  },
  {
   "source": [
    "t = ridge_regression(X, Y, lamb=0.5)\n",
    "pprint(Eq(Symbol(\"λ_(05)\"), Matrix(t), evaluate=False))"
   ],
   "cell_type": "code",
   "metadata": {},
   "execution_count": 20,
   "outputs": [
    {
     "output_type": "stream",
     "name": "stdout",
     "text": [
      "        ⎡1.4⎤\nλ₍₀₅₎ = ⎢   ⎥\n        ⎣1.4⎦\n"
     ]
    }
   ]
  },
  {
   "source": [
    "### λ = 0일 때 (기존 목적함수와 동일)"
   ],
   "cell_type": "markdown",
   "metadata": {}
  },
  {
   "cell_type": "code",
   "execution_count": 22,
   "metadata": {},
   "outputs": [
    {
     "output_type": "stream",
     "name": "stdout",
     "text": [
      "        ⎡1.82000000000001⎤\nλ₍₀₅₎ = ⎢                ⎥\n        ⎣1.11999999999998⎦\n"
     ]
    }
   ],
   "source": [
    "t = ridge_regression(X, Y, lamb=0)\n",
    "pprint(Eq(Symbol(\"λ_(05)\"), Matrix(t), evaluate=False))"
   ]
  },
  {
   "source": [
    "## 결론\n",
    "\n",
    "- 위 값에 따라 `λ`가 기존 가중치를 원점에 소폭 가깝게 당긴 후 갱신한다는 것을 확인할 수 있다."
   ],
   "cell_type": "markdown",
   "metadata": {}
  },
  {
   "source": [
    "## 연습문제 5\n",
    "\n",
    "혈압, 키, 몸무게가 특징벡터를 이룬다. 다음과 같이 훈련집합이 주어졌다."
   ],
   "cell_type": "markdown",
   "metadata": {}
  },
  {
   "cell_type": "code",
   "execution_count": 25,
   "metadata": {},
   "outputs": [
    {
     "output_type": "stream",
     "name": "stdout",
     "text": [
      "⎡121.0⎤\n⎢     ⎥\n⎢1.72 ⎥\n⎢     ⎥\n⎣69.0 ⎦\n⎡140.0⎤\n⎢     ⎥\n⎢1.62 ⎥\n⎢     ⎥\n⎣63.2 ⎦\n⎡120.0⎤\n⎢     ⎥\n⎢ 1.7 ⎥\n⎢     ⎥\n⎣59.0 ⎦\n⎡131.0⎤\n⎢     ⎥\n⎢ 1.8 ⎥\n⎢     ⎥\n⎣82.0 ⎦\n⎡101.0⎤\n⎢     ⎥\n⎢1.78 ⎥\n⎢     ⎥\n⎣73.5 ⎦\n"
     ]
    }
   ],
   "source": [
    "train_data = np.array([[[121], [1.72], [69.0]], [[140], [1.62], [63.2]], [[120], [1.70], [59.0]], [[131], [1.80], [82.0]], [[101], [1.78], [73.5]]])\n",
    "for i in range(train_data.shape[0]):\n",
    "    pprint(Matrix(train_data[i]))"
   ]
  },
  {
   "source": [
    "### 1. 퍼셉트론의 가중치 벡터가 `(-0.01, 0.5, -0.23)^T`이고 바이어스가 0이라고 했을 때, 훈련집합을 가지고 규모 문제를 설명하시오."
   ],
   "cell_type": "markdown",
   "metadata": {}
  },
  {
   "cell_type": "code",
   "execution_count": 26,
   "metadata": {},
   "outputs": [
    {
     "output_type": "stream",
     "name": "stdout",
     "text": [
      "         ⎡-0.01⎤\n         ⎢     ⎥\nweight = ⎢ 0.5 ⎥\n         ⎢     ⎥\n         ⎣-0.23⎦\n"
     ]
    }
   ],
   "source": [
    "weight = np.array([[-0.01, 0.5, -0.23]]).T\n",
    "pprint(Eq(Symbol(\"weight\"), Matrix(weight), evaluate=False))"
   ]
  },
  {
   "source": [
    "#### 각 훈련집합을 가중치로 곱한 값은 다음과 같다."
   ],
   "cell_type": "markdown",
   "metadata": {}
  },
  {
   "cell_type": "code",
   "execution_count": 58,
   "metadata": {},
   "outputs": [
    {
     "output_type": "stream",
     "name": "stdout",
     "text": [
      "-16.220000000000002\n-15.126000000000001\n-13.92\n-19.27\n-17.025000000000002\n"
     ]
    }
   ],
   "source": [
    "for train_set in train_data:\n",
    "    print(np.sum(train_set*weight))"
   ]
  },
  {
   "source": [
    "이를 `step function`으로 적용하였을 경우"
   ],
   "cell_type": "markdown",
   "metadata": {}
  },
  {
   "cell_type": "code",
   "execution_count": 60,
   "metadata": {},
   "outputs": [
    {
     "output_type": "stream",
     "name": "stdout",
     "text": [
      "0.0\n0.0\n0.0\n0.0\n0.0\n"
     ]
    }
   ],
   "source": [
    "for train_set in train_data:\n",
    "    print(np.heaviside(np.sum(train_set*weight), -999))"
   ]
  },
  {
   "source": [
    "#### 중간결과\n",
    "\n",
    "- 혈압, 키, 몸무게의 경우 단위에 따라 값의 규모가 확연하게 차이가 난다.\n",
    "- 예를 들어, 키가 178cm와 162cm의 차이는 16cm 만큼의 차이가 발생하지만 단위로 인해 특징값 차이는 불과 **0.16**밖에 차이가 나지 않는다. 또한 특징값이 모두 양수인 점을 비롯해 이러한 데이터는 수렴 속도가 굉장히 느려질 수 밖에 없다.\n",
    "- 결국, 서로의 단위로 인한 규모가 다양하여 `step function`을 적용했으나 전부 `0`으로 수렴하는 것을 확인할 수 있다."
   ],
   "cell_type": "markdown",
   "metadata": {}
  },
  {
   "source": [
    "### 2. 식 (5.9)의 전처리를 적용한 후의 훈련집합을 쓰시오."
   ],
   "cell_type": "markdown",
   "metadata": {}
  },
  {
   "cell_type": "code",
   "execution_count": 55,
   "metadata": {},
   "outputs": [],
   "source": [
    "pre_processing_data = (train_data - np.mean(train_data, axis=0))/ np.std(train_data, axis=0)"
   ]
  },
  {
   "cell_type": "code",
   "execution_count": 56,
   "metadata": {},
   "outputs": [
    {
     "output_type": "stream",
     "name": "stdout",
     "text": [
      "⎡-0.122772186962938 ⎤\n⎢                   ⎥\n⎢-0.0627455805138124⎥\n⎢                   ⎥\n⎣-0.0423472957199062⎦\n⎡ 1.33514753322196 ⎤\n⎢                  ⎥\n⎢-1.63138509335921 ⎥\n⎢                  ⎥\n⎣-0.764742340353592⎦\n⎡-0.199504803814775⎤\n⎢                  ⎥\n⎢-0.376473483082892⎥\n⎢                  ⎥\n⎣-1.28785599336419 ⎦\n⎡0.644553981555428⎤\n⎢                 ⎥\n⎢1.19216602976251 ⎥\n⎢                 ⎥\n⎣1.57681401121767 ⎦\n⎡-1.65742452399967⎤\n⎢                 ⎥\n⎢0.878438127193427⎥\n⎢                 ⎥\n⎣0.518131618220023⎦\n"
     ]
    }
   ],
   "source": [
    "for data in pre_processing_data:\n",
    "    pprint(Matrix(data))"
   ]
  },
  {
   "source": [
    "### 3. 전처리가 규모 문제를 완화하는지를 설명하시오."
   ],
   "cell_type": "markdown",
   "metadata": {}
  },
  {
   "source": [
    "#### 정규화한 훈련집합에 가중치를 곱했을 경우"
   ],
   "cell_type": "markdown",
   "metadata": {}
  },
  {
   "cell_type": "code",
   "execution_count": 63,
   "metadata": {},
   "outputs": [
    {
     "output_type": "stream",
     "name": "stdout",
     "text": [
      "-0.02040519037169842\n-0.6531532837304969\n0.10996518497046617\n0.2269702524856353\n0.3366230366461046\n"
     ]
    }
   ],
   "source": [
    "for train_set in pre_processing_data:\n",
    "    print(np.sum(train_set*weight))"
   ]
  },
  {
   "source": [
    "`step function`을 적용하면 다음과 같다."
   ],
   "cell_type": "markdown",
   "metadata": {}
  },
  {
   "cell_type": "code",
   "execution_count": 57,
   "metadata": {},
   "outputs": [
    {
     "output_type": "stream",
     "name": "stdout",
     "text": [
      "0.0\n0.0\n1.0\n1.0\n1.0\n"
     ]
    }
   ],
   "source": [
    "for train_set in pre_processing_data:\n",
    "    print(np.heaviside(np.sum(train_set*weight), -999))"
   ]
  },
  {
   "source": [
    "### 결론\n",
    "\n",
    "- 특징의 규모가 달라 이를 정규화 하면 각 값의 변화에 따라 걸맞게 변화되는 것을 확인할 수 있다.\n",
    "- 이를 통해 어떤 특징이 다른 특징보다 더 중요하게 작용한다는 것을 알고 있을 경우 규모 조절에 `정규화`를 활용할 수 있다."
   ],
   "cell_type": "markdown",
   "metadata": {}
  },
  {
   "source": [],
   "cell_type": "markdown",
   "metadata": {}
  }
 ]
}