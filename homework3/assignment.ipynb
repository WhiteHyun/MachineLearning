{
 "metadata": {
  "language_info": {
   "codemirror_mode": {
    "name": "ipython",
    "version": 3
   },
   "file_extension": ".py",
   "mimetype": "text/x-python",
   "name": "python",
   "nbconvert_exporter": "python",
   "pygments_lexer": "ipython3",
   "version": "3.8.5"
  },
  "orig_nbformat": 2,
  "kernelspec": {
   "name": "python385jvsc74a57bd0e6660baea0803492447b44bc1605e0255c69d336a174a3eaa2e51c9f31b7844a",
   "display_name": "Python 3.8.5 64-bit ('base': conda)"
  },
  "metadata": {
   "interpreter": {
    "hash": "e6660baea0803492447b44bc1605e0255c69d336a174a3eaa2e51c9f31b7844a"
   }
  }
 },
 "nbformat": 4,
 "nbformat_minor": 2,
 "cells": [
  {
   "source": [
    "# Homework (Chapter 5) - 201601639 홍승현\n",
    "\n",
    "- 연습문제 2, 3, 5"
   ],
   "cell_type": "markdown",
   "metadata": {}
  },
  {
   "source": [
    "## 연습문제 2\n",
    "\n",
    "softmax를 적용한 후 출력이`(0.001, 0.9, 0.001, 0.098)^T`이고 레이블 정보가 `(0, 0, 0, 1)^T`일 때, 세가지 목적함수, 평균제곱 오차, 교차 엔트로피, 로그우도를 계산하시오.\n",
    "\n"
   ],
   "cell_type": "markdown",
   "metadata": {}
  },
  {
   "source": [
    "행렬 연산을 수월하게 하기 위해 `numpy`를 사용하였다."
   ],
   "cell_type": "markdown",
   "metadata": {}
  },
  {
   "cell_type": "code",
   "execution_count": 8,
   "metadata": {},
   "outputs": [],
   "source": [
    "import numpy as np"
   ]
  },
  {
   "source": [
    "from sympy import * # 수식 표현을 위해 임포트"
   ],
   "cell_type": "code",
   "metadata": {},
   "execution_count": 9,
   "outputs": []
  },
  {
   "cell_type": "code",
   "execution_count": 10,
   "metadata": {},
   "outputs": [],
   "source": [
    "softmax_output = np.array([[0.001, 0.9, 0.001, 0.098]]).T\n",
    "label = np.array([[0, 0, 0, 1]]).T\n"
   ]
  },
  {
   "cell_type": "code",
   "execution_count": 11,
   "metadata": {},
   "outputs": [
    {
     "output_type": "stream",
     "name": "stdout",
     "text": [
      "             ⎡0.001⎤\n             ⎢     ⎥\n             ⎢ 0.9 ⎥\nsoftmax(x) = ⎢     ⎥\n             ⎢0.001⎥\n             ⎢     ⎥\n             ⎣0.098⎦\n           ⎡0⎤\n           ⎢ ⎥\n           ⎢0⎥\nlabel(x) = ⎢ ⎥\n           ⎢0⎥\n           ⎢ ⎥\n           ⎣1⎦\n"
     ]
    }
   ],
   "source": [
    "pprint(Eq(Symbol(\"softmax(x)\"), Matrix(softmax_output), evaluate=False))\n",
    "pprint(Eq(Symbol(\"label(x)\"), Matrix(label), evaluate=False))"
   ]
  },
  {
   "cell_type": "code",
   "execution_count": 12,
   "metadata": {},
   "outputs": [],
   "source": [
    "def mean_squared_error(y, t):\n",
    "    return 0.5 * np.sum((y-t)**2)\n",
    "\n",
    "\n",
    "def cross_entropy_error(y, t):\n",
    "    \n",
    "    return -np.sum(y*np.log2(t))\n"
   ]
  },
  {
   "source": [
    "1. MSE (평균제곱오차)"
   ],
   "cell_type": "markdown",
   "metadata": {}
  },
  {
   "cell_type": "code",
   "execution_count": 13,
   "metadata": {},
   "outputs": [
    {
     "output_type": "stream",
     "name": "stdout",
     "text": [
      "MSE = 0.811803\n"
     ]
    }
   ],
   "source": [
    "pprint(Eq(Symbol(\"MSE\"), mean_squared_error(label, softmax_output)))"
   ]
  },
  {
   "source": [
    "2. CCE (교차 엔트로피)"
   ],
   "cell_type": "markdown",
   "metadata": {}
  },
  {
   "cell_type": "code",
   "execution_count": 14,
   "metadata": {},
   "outputs": [
    {
     "output_type": "stream",
     "name": "stdout",
     "text": [
      "CEE = 3.35107444054688\n"
     ]
    }
   ],
   "source": [
    "pprint(Eq(Symbol(\"CEE\"), cross_entropy_error(label, softmax_output)))"
   ]
  },
  {
   "source": [
    "3. 로그우도"
   ],
   "cell_type": "markdown",
   "metadata": {}
  },
  {
   "cell_type": "code",
   "execution_count": 15,
   "metadata": {},
   "outputs": [
    {
     "output_type": "stream",
     "name": "stdout",
     "text": [
      "o₀ₑ = [9.96578428466209]\no₁ₑ = [0.15200309344505]\no₂ₑ = [9.96578428466209]\no₃ₑ = [3.35107444054688]\n"
     ]
    }
   ],
   "source": [
    "log_likelihood = -np.log2(softmax_output)\n",
    "for i in range(log_likelihood.shape[0]):\n",
    "    pprint(Eq(Symbol(f\"o_{i}e\"), Matrix(log_likelihood[i]), evaluate=False))"
   ]
  },
  {
   "source": [
    "## 연습문제 3\n",
    "\n",
    "[예제 5-1]에서 `λ = 0.1`, `λ = 0.5`일 때를 계산하고 λ에 따른 효과를 설명하시오. 이 때 [그림 5-21]을 활용하시오."
   ],
   "cell_type": "markdown",
   "metadata": {}
  },
  {
   "cell_type": "code",
   "execution_count": 16,
   "metadata": {},
   "outputs": [
    {
     "output_type": "stream",
     "name": "stdout",
     "text": [
      "    ⎡1  1⎤\n    ⎢    ⎥\nX = ⎢2  3⎥\n    ⎢    ⎥\n    ⎣3  3⎦\n    ⎡3.0⎤\n    ⎢   ⎥\nY = ⎢7.0⎥\n    ⎢   ⎥\n    ⎣8.8⎦\n"
     ]
    }
   ],
   "source": [
    "# 훈련집합\n",
    "X = np.array([[1, 1], [2, 3], [3, 3]])\n",
    "# label\n",
    "Y = np.array([[3.0, 7.0, 8.8]]).T\n",
    "\n",
    "pprint(Eq(Symbol(\"X\"), Matrix(X), evaluate=False))\n",
    "pprint(Eq(Symbol(\"Y\"), Matrix(Y), evaluate=False))"
   ]
  },
  {
   "cell_type": "code",
   "execution_count": 17,
   "metadata": {},
   "outputs": [],
   "source": [
    "def ridge_regression(x, y, lamb):\n",
    "    return np.linalg.inv(x.T.dot(x)+2*lamb*np.identity(2)).dot(x.T).dot(y)\n",
    "    "
   ]
  },
  {
   "source": [
    "### λ = 0.25일 때 (기존 예제)"
   ],
   "cell_type": "markdown",
   "metadata": {}
  },
  {
   "cell_type": "code",
   "execution_count": 18,
   "metadata": {},
   "outputs": [
    {
     "output_type": "stream",
     "name": "stdout",
     "text": [
      "         ⎡1.49158878504673⎤\nλ₍₀₂₅₎ = ⎢                ⎥\n         ⎣1.3607476635514 ⎦\n"
     ]
    }
   ],
   "source": [
    "t = ridge_regression(X, Y, lamb=0.25)\n",
    "pprint(Eq(Symbol(\"λ_(025)\"), Matrix(t), evaluate=False))"
   ]
  },
  {
   "source": [
    "### λ = 0.1일 때"
   ],
   "cell_type": "markdown",
   "metadata": {}
  },
  {
   "cell_type": "code",
   "execution_count": 19,
   "metadata": {},
   "outputs": [
    {
     "output_type": "stream",
     "name": "stdout",
     "text": [
      "        ⎡1.61538461538462⎤\nλ₍₀₁₎ = ⎢                ⎥\n        ⎣1.27884615384616⎦\n"
     ]
    }
   ],
   "source": [
    "t = ridge_regression(X, Y, lamb=0.1)\n",
    "pprint(Eq(Symbol(\"λ_(01)\"), Matrix(t), evaluate=False))"
   ]
  },
  {
   "source": [
    "### λ = 0.5일 때"
   ],
   "cell_type": "markdown",
   "metadata": {}
  },
  {
   "source": [
    "t = ridge_regression(X, Y, lamb=0.5)\n",
    "pprint(Eq(Symbol(\"λ_(05)\"), Matrix(t), evaluate=False))"
   ],
   "cell_type": "code",
   "metadata": {},
   "execution_count": 20,
   "outputs": [
    {
     "output_type": "stream",
     "name": "stdout",
     "text": [
      "        ⎡1.4⎤\nλ₍₀₅₎ = ⎢   ⎥\n        ⎣1.4⎦\n"
     ]
    }
   ]
  },
  {
   "source": [
    "### λ = 0일 때 (기존 목적함수와 동일)"
   ],
   "cell_type": "markdown",
   "metadata": {}
  },
  {
   "cell_type": "code",
   "execution_count": 22,
   "metadata": {},
   "outputs": [
    {
     "output_type": "stream",
     "name": "stdout",
     "text": [
      "        ⎡1.82000000000001⎤\nλ₍₀₅₎ = ⎢                ⎥\n        ⎣1.11999999999998⎦\n"
     ]
    }
   ],
   "source": [
    "t = ridge_regression(X, Y, lamb=0)\n",
    "pprint(Eq(Symbol(\"λ_(05)\"), Matrix(t), evaluate=False))"
   ]
  },
  {
   "source": [
    "## 결론\n",
    "\n",
    "- 위 값에 따라 `λ`가 기존 가중치를 원점에 소폭 가깝게 당긴 후 갱신한다는 것을 확인할 수 있다."
   ],
   "cell_type": "markdown",
   "metadata": {}
  },
  {
   "source": [
    "## 연습문제 5\n",
    "\n",
    "혈압, 키, 몸무게가 특징벡터를 이룬다. 다음과 같이 훈련집합이 주어졌다."
   ],
   "cell_type": "markdown",
   "metadata": {}
  },
  {
   "cell_type": "code",
   "execution_count": 25,
   "metadata": {},
   "outputs": [
    {
     "output_type": "stream",
     "name": "stdout",
     "text": [
      "⎡121.0⎤\n⎢     ⎥\n⎢1.72 ⎥\n⎢     ⎥\n⎣69.0 ⎦\n⎡140.0⎤\n⎢     ⎥\n⎢1.62 ⎥\n⎢     ⎥\n⎣63.2 ⎦\n⎡120.0⎤\n⎢     ⎥\n⎢ 1.7 ⎥\n⎢     ⎥\n⎣59.0 ⎦\n⎡131.0⎤\n⎢     ⎥\n⎢ 1.8 ⎥\n⎢     ⎥\n⎣82.0 ⎦\n⎡101.0⎤\n⎢     ⎥\n⎢1.78 ⎥\n⎢     ⎥\n⎣73.5 ⎦\n"
     ]
    }
   ],
   "source": [
    "train_data = np.array([[[121], [1.72], [69.0]], [[140], [1.62], [63.2]], [[120], [1.70], [59.0]], [[131], [1.80], [82.0]], [[101], [1.78], [73.5]]])\n",
    "for i in range(train_data.shape[0]):\n",
    "    pprint(Matrix(train_data[i]))"
   ]
  },
  {
   "source": [
    "### 1. 퍼셉트론의 가중치 벡터가 `(-0.01, 0.5, -0.23)^T`이고 바이어스가 0이라고 했을 때, 훈련집합을 가지고 규모 문제를 설명하시오."
   ],
   "cell_type": "markdown",
   "metadata": {}
  },
  {
   "cell_type": "code",
   "execution_count": 26,
   "metadata": {},
   "outputs": [
    {
     "output_type": "stream",
     "name": "stdout",
     "text": [
      "         ⎡-0.01⎤\n         ⎢     ⎥\nweight = ⎢ 0.5 ⎥\n         ⎢     ⎥\n         ⎣-0.23⎦\n"
     ]
    }
   ],
   "source": [
    "weight = np.array([[-0.01, 0.5, -0.23]]).T\n",
    "pprint(Eq(Symbol(\"weight\"), Matrix(weight), evaluate=False))"
   ]
  },
  {
   "cell_type": "code",
   "execution_count": 29,
   "metadata": {},
   "outputs": [
    {
     "output_type": "error",
     "ename": "ValueError",
     "evalue": "shapes (3,1) and (3,1) not aligned: 1 (dim 1) != 3 (dim 0)",
     "traceback": [
      "\u001b[0;31m---------------------------------------------------------------------------\u001b[0m",
      "\u001b[0;31mValueError\u001b[0m                                Traceback (most recent call last)",
      "\u001b[0;32m<ipython-input-29-6cb305c9510c>\u001b[0m in \u001b[0;36m<module>\u001b[0;34m\u001b[0m\n\u001b[1;32m      1\u001b[0m \u001b[0;32mfor\u001b[0m \u001b[0mtrain_set\u001b[0m \u001b[0;32min\u001b[0m \u001b[0mtrain_data\u001b[0m\u001b[0;34m:\u001b[0m\u001b[0;34m\u001b[0m\u001b[0;34m\u001b[0m\u001b[0m\n\u001b[0;32m----> 2\u001b[0;31m     \u001b[0mtrain_set\u001b[0m\u001b[0;34m.\u001b[0m\u001b[0mdot\u001b[0m\u001b[0;34m(\u001b[0m\u001b[0mweight\u001b[0m\u001b[0;34m)\u001b[0m\u001b[0;34m\u001b[0m\u001b[0;34m\u001b[0m\u001b[0m\n\u001b[0m",
      "\u001b[0;31mValueError\u001b[0m: shapes (3,1) and (3,1) not aligned: 1 (dim 1) != 3 (dim 0)"
     ]
    }
   ],
   "source": [
    "for train_set in train_data:\n",
    "    train_set.dot(weight)"
   ]
  },
  {
   "source": [
    "혈압, 키, 몸무게를 (x1, x2, x3)로 놓을 경우 얼마나 차이나는데 가중치에 "
   ],
   "cell_type": "markdown",
   "metadata": {}
  },
  {
   "source": [
    "### 2. 식 (5.9)의 전처리를 적용한 후의 훈련집합을 쓰시오."
   ],
   "cell_type": "markdown",
   "metadata": {}
  },
  {
   "cell_type": "code",
   "execution_count": null,
   "metadata": {},
   "outputs": [],
   "source": []
  },
  {
   "source": [
    "### 3. 전처리가 규모 문제를 완화하는지를 설명하시오."
   ],
   "cell_type": "markdown",
   "metadata": {}
  },
  {
   "cell_type": "code",
   "execution_count": null,
   "metadata": {},
   "outputs": [],
   "source": []
  }
 ]
}