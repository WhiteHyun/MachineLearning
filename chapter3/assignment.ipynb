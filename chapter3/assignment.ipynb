{
 "metadata": {
  "language_info": {
   "codemirror_mode": {
    "name": "ipython",
    "version": 3
   },
   "file_extension": ".py",
   "mimetype": "text/x-python",
   "name": "python",
   "nbconvert_exporter": "python",
   "pygments_lexer": "ipython3",
   "version": "3.8.5-final"
  },
  "orig_nbformat": 2,
  "kernelspec": {
   "name": "python3",
   "display_name": "Python 3.8.5 64-bit ('base': conda)",
   "metadata": {
    "interpreter": {
     "hash": "e6660baea0803492447b44bc1605e0255c69d336a174a3eaa2e51c9f31b7844a"
    }
   }
  }
 },
 "nbformat": 4,
 "nbformat_minor": 2,
 "cells": [
  {
   "source": [
    "# 201601639 홍승현 - 인공지능과 딥러닝 과제 1"
   ],
   "cell_type": "markdown",
   "metadata": {}
  },
  {
   "source": [
    "# 문제 1\n",
    "<img src=\"./problem1.png\" width=\"800\" height=\"300\">\n",
    "\n",
    "## 다음 훈련집합을 3차원 공간에 그리시오. 이 데이터를 최소 오류율로 분류하는 퍼셉트론을 제시하시오.\n",
    "\n",
    "- x1 = [0, 0, 0]    y1 = [1]\n",
    "- x2 = [0, 1, 1]    y2 = [-1]\n",
    "- x3 = [1, 1, 1]    y3 = [1]\n",
    "- x4 = [1, 0, 1]    y4 = [-1]\n",
    "- x5 = [0, 0, 1]    y5 = [1]\n",
    "- x6 = [0, 1, 0]    y6 = [-1]\n",
    "\n",
    "<!--\n",
    "### 결정 직선\n",
    "- x1 + x2 + x3 +  b = 0\n",
    "-->"
   ],
   "cell_type": "markdown",
   "metadata": {}
  },
  {
   "source": [
    "## 평면 상에 점을 그려보자\n",
    "\n",
    "- 아래 코드를 통해 각 점들의 위치를 파악할 수 있다. 하지만 점들의 위치만을 가지고 서로 간 겹침발생이 존재하는지를 파악하기에는 어렵다."
   ],
   "cell_type": "markdown",
   "metadata": {}
  },
  {
   "cell_type": "code",
   "execution_count": 1,
   "metadata": {},
   "outputs": [
    {
     "output_type": "display_data",
     "data": {
      "text/plain": "<Figure size 360x360 with 1 Axes>",
      "image/svg+xml": "<?xml version=\"1.0\" encoding=\"utf-8\" standalone=\"no\"?>\n<!DOCTYPE svg PUBLIC \"-//W3C//DTD SVG 1.1//EN\"\n  \"http://www.w3.org/Graphics/SVG/1.1/DTD/svg11.dtd\">\n<!-- Created with matplotlib (https://matplotlib.org/) -->\n<svg height=\"292.009793pt\" version=\"1.1\" viewBox=\"0 0 300.455131 292.009793\" width=\"300.455131pt\" xmlns=\"http://www.w3.org/2000/svg\" xmlns:xlink=\"http://www.w3.org/1999/xlink\">\n <metadata>\n  <rdf:RDF xmlns:cc=\"http://creativecommons.org/ns#\" xmlns:dc=\"http://purl.org/dc/elements/1.1/\" xmlns:rdf=\"http://www.w3.org/1999/02/22-rdf-syntax-ns#\">\n   <cc:Work>\n    <dc:type rdf:resource=\"http://purl.org/dc/dcmitype/StillImage\"/>\n    <dc:date>2021-03-28T22:13:14.808821</dc:date>\n    <dc:format>image/svg+xml</dc:format>\n    <dc:creator>\n     <cc:Agent>\n      <dc:title>Matplotlib v3.3.2, https://matplotlib.org/</dc:title>\n     </cc:Agent>\n    </dc:creator>\n   </cc:Work>\n  </rdf:RDF>\n </metadata>\n <defs>\n  <style type=\"text/css\">*{stroke-linecap:butt;stroke-linejoin:round;}</style>\n </defs>\n <g id=\"figure_1\">\n  <g id=\"patch_1\">\n   <path d=\"M 0 292.009793 \nL 300.455131 292.009793 \nL 300.455131 0 \nL 0 0 \nz\n\" style=\"fill:none;\"/>\n  </g>\n  <g id=\"patch_2\">\n   <path d=\"M 7.2 279 \nL 279 279 \nL 279 7.2 \nL 7.2 7.2 \nz\n\" style=\"fill:#ffffff;\"/>\n  </g>\n  <g id=\"pane3d_1\">\n   <g id=\"patch_3\">\n    <path d=\"M 27.722774 211.982831 \nL 117.480011 136.746535 \nL 116.232299 28.242347 \nL 22.179716 96.877639 \n\" style=\"fill:#f2f2f2;opacity:0.5;stroke:#f2f2f2;stroke-linejoin:miter;\"/>\n   </g>\n  </g>\n  <g id=\"pane3d_2\">\n   <g id=\"patch_4\">\n    <path d=\"M 117.480011 136.746535 \nL 261.50835 178.609887 \nL 266.648214 66.368397 \nL 116.232299 28.242347 \n\" style=\"fill:#e6e6e6;opacity:0.5;stroke:#e6e6e6;stroke-linejoin:miter;\"/>\n   </g>\n  </g>\n  <g id=\"pane3d_3\">\n   <g id=\"patch_5\">\n    <path d=\"M 27.722774 211.982831 \nL 180.399849 261.847163 \nL 261.50835 178.609887 \nL 117.480011 136.746535 \n\" style=\"fill:#ececec;opacity:0.5;stroke:#ececec;stroke-linejoin:miter;\"/>\n   </g>\n  </g>\n  <g id=\"axis3d_1\">\n   <g id=\"line2d_1\">\n    <path d=\"M 27.722774 211.982831 \nL 180.399849 261.847163 \n\" style=\"fill:none;stroke:#000000;stroke-linecap:square;stroke-width:0.8;\"/>\n   </g>\n   <g id=\"Line3DCollection_1\">\n    <path d=\"M 36.969699 215.002876 \nL 126.239374 139.292536 \nL 125.362014 30.556464 \n\" style=\"fill:none;stroke:#b0b0b0;stroke-width:0.8;\"/>\n    <path d=\"M 62.646874 223.389041 \nL 150.538075 146.355209 \nL 150.700348 36.978993 \n\" style=\"fill:none;stroke:#b0b0b0;stroke-width:0.8;\"/>\n    <path d=\"M 88.794503 231.928857 \nL 175.244876 153.536501 \nL 176.482744 43.514079 \n\" style=\"fill:none;stroke:#b0b0b0;stroke-width:0.8;\"/>\n    <path d=\"M 115.425635 240.626585 \nL 200.370145 160.839424 \nL 202.720978 50.164706 \n\" style=\"fill:none;stroke:#b0b0b0;stroke-width:0.8;\"/>\n    <path d=\"M 142.553806 249.486645 \nL 225.924603 168.267096 \nL 229.427247 56.933967 \n\" style=\"fill:none;stroke:#b0b0b0;stroke-width:0.8;\"/>\n    <path d=\"M 170.193061 258.513626 \nL 251.919342 175.822741 \nL 256.614188 63.825064 \n\" style=\"fill:none;stroke:#b0b0b0;stroke-width:0.8;\"/>\n   </g>\n   <g id=\"xtick_1\">\n    <g id=\"line2d_2\">\n     <path d=\"M 37.747054 214.343595 \nL 35.411653 216.324268 \n\" style=\"fill:none;stroke:#000000;stroke-linecap:square;stroke-width:0.8;\"/>\n    </g>\n    <g id=\"text_1\">\n     <!-- 0.0 -->\n     <g transform=\"translate(21.489673 238.310803)scale(0.1 -0.1)\">\n      <defs>\n       <path d=\"M 31.78125 66.40625 \nQ 24.171875 66.40625 20.328125 58.90625 \nQ 16.5 51.421875 16.5 36.375 \nQ 16.5 21.390625 20.328125 13.890625 \nQ 24.171875 6.390625 31.78125 6.390625 \nQ 39.453125 6.390625 43.28125 13.890625 \nQ 47.125 21.390625 47.125 36.375 \nQ 47.125 51.421875 43.28125 58.90625 \nQ 39.453125 66.40625 31.78125 66.40625 \nz\nM 31.78125 74.21875 \nQ 44.046875 74.21875 50.515625 64.515625 \nQ 56.984375 54.828125 56.984375 36.375 \nQ 56.984375 17.96875 50.515625 8.265625 \nQ 44.046875 -1.421875 31.78125 -1.421875 \nQ 19.53125 -1.421875 13.0625 8.265625 \nQ 6.59375 17.96875 6.59375 36.375 \nQ 6.59375 54.828125 13.0625 64.515625 \nQ 19.53125 74.21875 31.78125 74.21875 \nz\n\" id=\"DejaVuSans-48\"/>\n       <path d=\"M 10.6875 12.40625 \nL 21 12.40625 \nL 21 0 \nL 10.6875 0 \nz\n\" id=\"DejaVuSans-46\"/>\n      </defs>\n      <use xlink:href=\"#DejaVuSans-48\"/>\n      <use x=\"63.623047\" xlink:href=\"#DejaVuSans-46\"/>\n      <use x=\"95.410156\" xlink:href=\"#DejaVuSans-48\"/>\n     </g>\n    </g>\n   </g>\n   <g id=\"xtick_2\">\n    <g id=\"line2d_3\">\n     <path d=\"M 63.41279 222.71774 \nL 61.111725 224.73455 \n\" style=\"fill:none;stroke:#000000;stroke-linecap:square;stroke-width:0.8;\"/>\n    </g>\n    <g id=\"text_2\">\n     <!-- 0.2 -->\n     <g transform=\"translate(47.19255 246.870896)scale(0.1 -0.1)\">\n      <defs>\n       <path d=\"M 19.1875 8.296875 \nL 53.609375 8.296875 \nL 53.609375 0 \nL 7.328125 0 \nL 7.328125 8.296875 \nQ 12.9375 14.109375 22.625 23.890625 \nQ 32.328125 33.6875 34.8125 36.53125 \nQ 39.546875 41.84375 41.421875 45.53125 \nQ 43.3125 49.21875 43.3125 52.78125 \nQ 43.3125 58.59375 39.234375 62.25 \nQ 35.15625 65.921875 28.609375 65.921875 \nQ 23.96875 65.921875 18.8125 64.3125 \nQ 13.671875 62.703125 7.8125 59.421875 \nL 7.8125 69.390625 \nQ 13.765625 71.78125 18.9375 73 \nQ 24.125 74.21875 28.421875 74.21875 \nQ 39.75 74.21875 46.484375 68.546875 \nQ 53.21875 62.890625 53.21875 53.421875 \nQ 53.21875 48.921875 51.53125 44.890625 \nQ 49.859375 40.875 45.40625 35.40625 \nQ 44.1875 33.984375 37.640625 27.21875 \nQ 31.109375 20.453125 19.1875 8.296875 \nz\n\" id=\"DejaVuSans-50\"/>\n      </defs>\n      <use xlink:href=\"#DejaVuSans-48\"/>\n      <use x=\"63.623047\" xlink:href=\"#DejaVuSans-46\"/>\n      <use x=\"95.410156\" xlink:href=\"#DejaVuSans-50\"/>\n     </g>\n    </g>\n   </g>\n   <g id=\"xtick_3\">\n    <g id=\"line2d_4\">\n     <path d=\"M 89.548428 231.245205 \nL 87.283357 233.299149 \n\" style=\"fill:none;stroke:#000000;stroke-linecap:square;stroke-width:0.8;\"/>\n    </g>\n    <g id=\"text_3\">\n     <!-- 0.4 -->\n     <g transform=\"translate(73.368098 255.588407)scale(0.1 -0.1)\">\n      <defs>\n       <path d=\"M 37.796875 64.3125 \nL 12.890625 25.390625 \nL 37.796875 25.390625 \nz\nM 35.203125 72.90625 \nL 47.609375 72.90625 \nL 47.609375 25.390625 \nL 58.015625 25.390625 \nL 58.015625 17.1875 \nL 47.609375 17.1875 \nL 47.609375 0 \nL 37.796875 0 \nL 37.796875 17.1875 \nL 4.890625 17.1875 \nL 4.890625 26.703125 \nz\n\" id=\"DejaVuSans-52\"/>\n      </defs>\n      <use xlink:href=\"#DejaVuSans-48\"/>\n      <use x=\"63.623047\" xlink:href=\"#DejaVuSans-46\"/>\n      <use x=\"95.410156\" xlink:href=\"#DejaVuSans-52\"/>\n     </g>\n    </g>\n   </g>\n   <g id=\"xtick_4\">\n    <g id=\"line2d_5\">\n     <path d=\"M 116.166994 239.930237 \nL 113.939648 242.022351 \n\" style=\"fill:none;stroke:#000000;stroke-linecap:square;stroke-width:0.8;\"/>\n    </g>\n    <g id=\"text_4\">\n     <!-- 0.6 -->\n     <g transform=\"translate(100.029476 264.46772)scale(0.1 -0.1)\">\n      <defs>\n       <path d=\"M 33.015625 40.375 \nQ 26.375 40.375 22.484375 35.828125 \nQ 18.609375 31.296875 18.609375 23.390625 \nQ 18.609375 15.53125 22.484375 10.953125 \nQ 26.375 6.390625 33.015625 6.390625 \nQ 39.65625 6.390625 43.53125 10.953125 \nQ 47.40625 15.53125 47.40625 23.390625 \nQ 47.40625 31.296875 43.53125 35.828125 \nQ 39.65625 40.375 33.015625 40.375 \nz\nM 52.59375 71.296875 \nL 52.59375 62.3125 \nQ 48.875 64.0625 45.09375 64.984375 \nQ 41.3125 65.921875 37.59375 65.921875 \nQ 27.828125 65.921875 22.671875 59.328125 \nQ 17.53125 52.734375 16.796875 39.40625 \nQ 19.671875 43.65625 24.015625 45.921875 \nQ 28.375 48.1875 33.59375 48.1875 \nQ 44.578125 48.1875 50.953125 41.515625 \nQ 57.328125 34.859375 57.328125 23.390625 \nQ 57.328125 12.15625 50.6875 5.359375 \nQ 44.046875 -1.421875 33.015625 -1.421875 \nQ 20.359375 -1.421875 13.671875 8.265625 \nQ 6.984375 17.96875 6.984375 36.375 \nQ 6.984375 53.65625 15.1875 63.9375 \nQ 23.390625 74.21875 37.203125 74.21875 \nQ 40.921875 74.21875 44.703125 73.484375 \nQ 48.484375 72.75 52.59375 71.296875 \nz\n\" id=\"DejaVuSans-54\"/>\n      </defs>\n      <use xlink:href=\"#DejaVuSans-48\"/>\n      <use x=\"63.623047\" xlink:href=\"#DejaVuSans-46\"/>\n      <use x=\"95.410156\" xlink:href=\"#DejaVuSans-54\"/>\n     </g>\n    </g>\n   </g>\n   <g id=\"xtick_5\">\n    <g id=\"line2d_6\">\n     <path d=\"M 143.281995 248.777245 \nL 141.094185 250.908603 \n\" style=\"fill:none;stroke:#000000;stroke-linecap:square;stroke-width:0.8;\"/>\n    </g>\n    <g id=\"text_5\">\n     <!-- 0.8 -->\n     <g transform=\"translate(127.190335 273.513379)scale(0.1 -0.1)\">\n      <defs>\n       <path d=\"M 31.78125 34.625 \nQ 24.75 34.625 20.71875 30.859375 \nQ 16.703125 27.09375 16.703125 20.515625 \nQ 16.703125 13.921875 20.71875 10.15625 \nQ 24.75 6.390625 31.78125 6.390625 \nQ 38.8125 6.390625 42.859375 10.171875 \nQ 46.921875 13.96875 46.921875 20.515625 \nQ 46.921875 27.09375 42.890625 30.859375 \nQ 38.875 34.625 31.78125 34.625 \nz\nM 21.921875 38.8125 \nQ 15.578125 40.375 12.03125 44.71875 \nQ 8.5 49.078125 8.5 55.328125 \nQ 8.5 64.0625 14.71875 69.140625 \nQ 20.953125 74.21875 31.78125 74.21875 \nQ 42.671875 74.21875 48.875 69.140625 \nQ 55.078125 64.0625 55.078125 55.328125 \nQ 55.078125 49.078125 51.53125 44.71875 \nQ 48 40.375 41.703125 38.8125 \nQ 48.828125 37.15625 52.796875 32.3125 \nQ 56.78125 27.484375 56.78125 20.515625 \nQ 56.78125 9.90625 50.3125 4.234375 \nQ 43.84375 -1.421875 31.78125 -1.421875 \nQ 19.734375 -1.421875 13.25 4.234375 \nQ 6.78125 9.90625 6.78125 20.515625 \nQ 6.78125 27.484375 10.78125 32.3125 \nQ 14.796875 37.15625 21.921875 38.8125 \nz\nM 18.3125 54.390625 \nQ 18.3125 48.734375 21.84375 45.5625 \nQ 25.390625 42.390625 31.78125 42.390625 \nQ 38.140625 42.390625 41.71875 45.5625 \nQ 45.3125 48.734375 45.3125 54.390625 \nQ 45.3125 60.0625 41.71875 63.234375 \nQ 38.140625 66.40625 31.78125 66.40625 \nQ 25.390625 66.40625 21.84375 63.234375 \nQ 18.3125 60.0625 18.3125 54.390625 \nz\n\" id=\"DejaVuSans-56\"/>\n      </defs>\n      <use xlink:href=\"#DejaVuSans-48\"/>\n      <use x=\"63.623047\" xlink:href=\"#DejaVuSans-46\"/>\n      <use x=\"95.410156\" xlink:href=\"#DejaVuSans-56\"/>\n     </g>\n    </g>\n   </g>\n   <g id=\"xtick_6\">\n    <g id=\"line2d_7\">\n     <path d=\"M 170.907452 257.790803 \nL 168.76107 259.962519 \n\" style=\"fill:none;stroke:#000000;stroke-linecap:square;stroke-width:0.8;\"/>\n    </g>\n    <g id=\"text_6\">\n     <!-- 1.0 -->\n     <g transform=\"translate(154.864846 282.730106)scale(0.1 -0.1)\">\n      <defs>\n       <path d=\"M 12.40625 8.296875 \nL 28.515625 8.296875 \nL 28.515625 63.921875 \nL 10.984375 60.40625 \nL 10.984375 69.390625 \nL 28.421875 72.90625 \nL 38.28125 72.90625 \nL 38.28125 8.296875 \nL 54.390625 8.296875 \nL 54.390625 0 \nL 12.40625 0 \nz\n\" id=\"DejaVuSans-49\"/>\n      </defs>\n      <use xlink:href=\"#DejaVuSans-49\"/>\n      <use x=\"63.623047\" xlink:href=\"#DejaVuSans-46\"/>\n      <use x=\"95.410156\" xlink:href=\"#DejaVuSans-48\"/>\n     </g>\n    </g>\n   </g>\n  </g>\n  <g id=\"axis3d_2\">\n   <g id=\"line2d_8\">\n    <path d=\"M 261.50835 178.609887 \nL 180.399849 261.847163 \n\" style=\"fill:none;stroke:#000000;stroke-linecap:square;stroke-width:0.8;\"/>\n   </g>\n   <g id=\"Line3DCollection_2\">\n    <path d=\"M 28.683685 92.131338 \nL 33.907807 206.798414 \nL 186.011929 256.087787 \n\" style=\"fill:none;stroke:#b0b0b0;stroke-width:0.8;\"/>\n    <path d=\"M 46.136053 79.395395 \nL 50.520395 192.873413 \nL 201.068685 240.635851 \n\" style=\"fill:none;stroke:#b0b0b0;stroke-width:0.8;\"/>\n    <path d=\"M 63.042081 67.058146 \nL 66.635249 179.365623 \nL 215.650803 225.671012 \n\" style=\"fill:none;stroke:#b0b0b0;stroke-width:0.8;\"/>\n    <path d=\"M 79.427027 55.101159 \nL 82.274407 166.25657 \nL 229.780376 211.170594 \n\" style=\"fill:none;stroke:#b0b0b0;stroke-width:0.8;\"/>\n    <path d=\"M 95.314617 43.507119 \nL 97.458627 153.528856 \nL 243.47815 197.113308 \n\" style=\"fill:none;stroke:#b0b0b0;stroke-width:0.8;\"/>\n    <path d=\"M 110.727158 32.259749 \nL 112.207475 141.16608 \nL 256.763621 183.479147 \n\" style=\"fill:none;stroke:#b0b0b0;stroke-width:0.8;\"/>\n   </g>\n   <g id=\"xtick_7\">\n    <g id=\"line2d_9\">\n     <path d=\"M 184.730143 255.672424 \nL 188.578816 256.919588 \n\" style=\"fill:none;stroke:#000000;stroke-linecap:square;stroke-width:0.8;\"/>\n    </g>\n    <g id=\"text_7\">\n     <!-- 0.0 -->\n     <g transform=\"translate(190.940839 277.109349)scale(0.1 -0.1)\">\n      <use xlink:href=\"#DejaVuSans-48\"/>\n      <use x=\"63.623047\" xlink:href=\"#DejaVuSans-46\"/>\n      <use x=\"95.410156\" xlink:href=\"#DejaVuSans-48\"/>\n     </g>\n    </g>\n   </g>\n   <g id=\"xtick_8\">\n    <g id=\"line2d_10\">\n     <path d=\"M 199.80104 240.233682 \nL 203.607203 241.441213 \n\" style=\"fill:none;stroke:#000000;stroke-linecap:square;stroke-width:0.8;\"/>\n    </g>\n    <g id=\"text_8\">\n     <!-- 0.2 -->\n     <g transform=\"translate(205.799893 261.433417)scale(0.1 -0.1)\">\n      <use xlink:href=\"#DejaVuSans-48\"/>\n      <use x=\"63.623047\" xlink:href=\"#DejaVuSans-46\"/>\n      <use x=\"95.410156\" xlink:href=\"#DejaVuSans-50\"/>\n     </g>\n    </g>\n   </g>\n   <g id=\"xtick_9\">\n    <g id=\"line2d_11\">\n     <path d=\"M 214.397049 225.281418 \nL 218.16145 226.451175 \n\" style=\"fill:none;stroke:#000000;stroke-linecap:square;stroke-width:0.8;\"/>\n    </g>\n    <g id=\"text_9\">\n     <!-- 0.4 -->\n     <g transform=\"translate(220.190274 246.251923)scale(0.1 -0.1)\">\n      <use xlink:href=\"#DejaVuSans-48\"/>\n      <use x=\"63.623047\" xlink:href=\"#DejaVuSans-46\"/>\n      <use x=\"95.410156\" xlink:href=\"#DejaVuSans-52\"/>\n     </g>\n    </g>\n   </g>\n   <g id=\"xtick_10\">\n    <g id=\"line2d_12\">\n     <path d=\"M 228.54027 210.792994 \nL 232.263646 211.926723 \n\" style=\"fill:none;stroke:#000000;stroke-linecap:square;stroke-width:0.8;\"/>\n    </g>\n    <g id=\"text_10\">\n     <!-- 0.6 -->\n     <g transform=\"translate(234.133812 231.541837)scale(0.1 -0.1)\">\n      <use xlink:href=\"#DejaVuSans-48\"/>\n      <use x=\"63.623047\" xlink:href=\"#DejaVuSans-46\"/>\n      <use x=\"95.410156\" xlink:href=\"#DejaVuSans-54\"/>\n     </g>\n    </g>\n   </g>\n   <g id=\"xtick_11\">\n    <g id=\"line2d_13\">\n     <path d=\"M 242.251449 196.747157 \nL 245.934531 197.846498 \n\" style=\"fill:none;stroke:#000000;stroke-linecap:square;stroke-width:0.8;\"/>\n    </g>\n    <g id=\"text_11\">\n     <!-- 0.8 -->\n     <g transform=\"translate(247.651002 217.281539)scale(0.1 -0.1)\">\n      <use xlink:href=\"#DejaVuSans-48\"/>\n      <use x=\"63.623047\" xlink:href=\"#DejaVuSans-46\"/>\n      <use x=\"95.410156\" xlink:href=\"#DejaVuSans-56\"/>\n     </g>\n    </g>\n   </g>\n   <g id=\"xtick_12\">\n    <g id=\"line2d_14\">\n     <path d=\"M 255.550085 183.123932 \nL 259.193594 184.190425 \n\" style=\"fill:none;stroke:#000000;stroke-linecap:square;stroke-width:0.8;\"/>\n    </g>\n    <g id=\"text_12\">\n     <!-- 1.0 -->\n     <g transform=\"translate(260.761102 203.450709)scale(0.1 -0.1)\">\n      <use xlink:href=\"#DejaVuSans-49\"/>\n      <use x=\"63.623047\" xlink:href=\"#DejaVuSans-46\"/>\n      <use x=\"95.410156\" xlink:href=\"#DejaVuSans-48\"/>\n     </g>\n    </g>\n   </g>\n  </g>\n  <g id=\"axis3d_3\">\n   <g id=\"line2d_15\">\n    <path d=\"M 261.50835 178.609887 \nL 266.648214 66.368397 \n\" style=\"fill:none;stroke:#000000;stroke-linecap:square;stroke-width:0.8;\"/>\n   </g>\n   <g id=\"Line3DCollection_3\">\n    <path d=\"M 261.822265 171.754796 \nL 117.403657 130.10655 \nL 27.384771 204.963961 \n\" style=\"fill:none;stroke:#b0b0b0;stroke-width:0.8;\"/>\n    <path d=\"M 262.692171 152.758259 \nL 117.192169 111.715058 \nL 26.447745 185.50602 \n\" style=\"fill:none;stroke:#b0b0b0;stroke-width:0.8;\"/>\n    <path d=\"M 263.575333 133.472261 \nL 116.977614 93.056772 \nL 25.495895 165.740228 \n\" style=\"fill:none;stroke:#b0b0b0;stroke-width:0.8;\"/>\n    <path d=\"M 264.472055 113.890136 \nL 116.759923 74.125844 \nL 24.528864 145.659222 \n\" style=\"fill:none;stroke:#b0b0b0;stroke-width:0.8;\"/>\n    <path d=\"M 265.382653 94.00501 \nL 116.539028 54.916254 \nL 23.546289 125.255402 \n\" style=\"fill:none;stroke:#b0b0b0;stroke-width:0.8;\"/>\n    <path d=\"M 266.307451 73.809796 \nL 116.314857 35.421804 \nL 22.54779 104.520919 \n\" style=\"fill:none;stroke:#b0b0b0;stroke-width:0.8;\"/>\n   </g>\n   <g id=\"xtick_13\">\n    <g id=\"line2d_16\">\n     <path d=\"M 260.61004 171.405208 \nL 264.249606 172.454806 \n\" style=\"fill:none;stroke:#000000;stroke-linecap:square;stroke-width:0.8;\"/>\n    </g>\n    <g id=\"text_13\">\n     <!-- 0.0 -->\n     <g transform=\"translate(272.169347 176.761145)scale(0.1 -0.1)\">\n      <use xlink:href=\"#DejaVuSans-48\"/>\n      <use x=\"63.623047\" xlink:href=\"#DejaVuSans-46\"/>\n      <use x=\"95.410156\" xlink:href=\"#DejaVuSans-48\"/>\n     </g>\n    </g>\n   </g>\n   <g id=\"xtick_14\">\n    <g id=\"line2d_17\">\n     <path d=\"M 261.470436 152.413627 \nL 265.138577 153.44835 \n\" style=\"fill:none;stroke:#000000;stroke-linecap:square;stroke-width:0.8;\"/>\n    </g>\n    <g id=\"text_14\">\n     <!-- 0.2 -->\n     <g transform=\"translate(273.174622 157.801408)scale(0.1 -0.1)\">\n      <use xlink:href=\"#DejaVuSans-48\"/>\n      <use x=\"63.623047\" xlink:href=\"#DejaVuSans-46\"/>\n      <use x=\"95.410156\" xlink:href=\"#DejaVuSans-50\"/>\n     </g>\n    </g>\n   </g>\n   <g id=\"xtick_15\">\n    <g id=\"line2d_18\">\n     <path d=\"M 262.343938 133.132778 \nL 266.041106 134.152049 \n\" style=\"fill:none;stroke:#000000;stroke-linecap:square;stroke-width:0.8;\"/>\n    </g>\n    <g id=\"text_15\">\n     <!-- 0.4 -->\n     <g transform=\"translate(274.195169 138.553634)scale(0.1 -0.1)\">\n      <use xlink:href=\"#DejaVuSans-48\"/>\n      <use x=\"63.623047\" xlink:href=\"#DejaVuSans-46\"/>\n      <use x=\"95.410156\" xlink:href=\"#DejaVuSans-52\"/>\n     </g>\n    </g>\n   </g>\n   <g id=\"xtick_16\">\n    <g id=\"line2d_19\">\n     <path d=\"M 263.230846 113.556 \nL 266.957503 114.559221 \n\" style=\"fill:none;stroke:#000000;stroke-linecap:square;stroke-width:0.8;\"/>\n    </g>\n    <g id=\"text_16\">\n     <!-- 0.6 -->\n     <g transform=\"translate(275.23134 119.01121)scale(0.1 -0.1)\">\n      <use xlink:href=\"#DejaVuSans-48\"/>\n      <use x=\"63.623047\" xlink:href=\"#DejaVuSans-46\"/>\n      <use x=\"95.410156\" xlink:href=\"#DejaVuSans-54\"/>\n     </g>\n    </g>\n   </g>\n   <g id=\"xtick_17\">\n    <g id=\"line2d_20\">\n     <path d=\"M 264.131472 93.676429 \nL 267.888092 94.662979 \n\" style=\"fill:none;stroke:#000000;stroke-linecap:square;stroke-width:0.8;\"/>\n    </g>\n    <g id=\"text_17\">\n     <!-- 0.8 -->\n     <g transform=\"translate(276.283494 99.167317)scale(0.1 -0.1)\">\n      <use xlink:href=\"#DejaVuSans-48\"/>\n      <use x=\"63.623047\" xlink:href=\"#DejaVuSans-46\"/>\n      <use x=\"95.410156\" xlink:href=\"#DejaVuSans-56\"/>\n     </g>\n    </g>\n   </g>\n   <g id=\"xtick_18\">\n    <g id=\"line2d_21\">\n     <path d=\"M 265.046136 73.486985 \nL 268.833204 74.456219 \n\" style=\"fill:none;stroke:#000000;stroke-linecap:square;stroke-width:0.8;\"/>\n    </g>\n    <g id=\"text_18\">\n     <!-- 1.0 -->\n     <g transform=\"translate(277.352006 79.014925)scale(0.1 -0.1)\">\n      <use xlink:href=\"#DejaVuSans-49\"/>\n      <use x=\"63.623047\" xlink:href=\"#DejaVuSans-46\"/>\n      <use x=\"95.410156\" xlink:href=\"#DejaVuSans-48\"/>\n     </g>\n    </g>\n   </g>\n  </g>\n  <g id=\"axes_1\">\n   <g id=\"Path3DCollection_1\">\n    <defs>\n     <path d=\"M 0 1.936492 \nC 0.513564 1.936492 1.006162 1.732451 1.369306 1.369306 \nC 1.732451 1.006162 1.936492 0.513564 1.936492 -0 \nC 1.936492 -0.513564 1.732451 -1.006162 1.369306 -1.369306 \nC 1.006162 -1.732451 0.513564 -1.936492 0 -1.936492 \nC -0.513564 -1.936492 -1.006162 -1.732451 -1.369306 -1.369306 \nC -1.732451 -1.006162 -1.936492 -0.513564 -1.936492 0 \nC -1.936492 0.513564 -1.732451 1.006162 -1.369306 1.369306 \nC -1.006162 1.732451 -0.513564 1.936492 0 1.936492 \nz\n\" id=\"C0_0_6067643daa\"/>\n    </defs>\n    <g clip-path=\"url(#p879940fbcc)\">\n     <use style=\"fill:#ff0000;fill-opacity:0.3;stroke:#ff0000;stroke-opacity:0.3;\" x=\"42.829093\" xlink:href=\"#C0_0_6067643daa\" y=\"202.776201\"/>\n    </g>\n    <g clip-path=\"url(#p879940fbcc)\">\n     <use style=\"fill:#ff0000;fill-opacity:0.404713;stroke:#ff0000;stroke-opacity:0.404713;\" x=\"251.345247\" xlink:href=\"#C0_0_6067643daa\" y=\"75.694875\"/>\n    </g>\n    <g clip-path=\"url(#p879940fbcc)\">\n     <use style=\"fill:#ff0000;stroke:#ff0000;\" x=\"38.628324\" xlink:href=\"#C0_0_6067643daa\" y=\"102.494943\"/>\n    </g>\n   </g>\n   <g id=\"Path3DCollection_2\">\n    <defs>\n     <path d=\"M 0 1.936492 \nC 0.513564 1.936492 1.006162 1.732451 1.369306 1.369306 \nC 1.732451 1.006162 1.936492 0.513564 1.936492 -0 \nC 1.936492 -0.513564 1.732451 -1.006162 1.369306 -1.369306 \nC 1.006162 -1.732451 0.513564 -1.936492 0 -1.936492 \nC -0.513564 -1.936492 -1.006162 -1.732451 -1.369306 -1.369306 \nC -1.732451 -1.006162 -1.936492 -0.513564 -1.936492 0 \nC -1.936492 0.513564 -1.732451 1.006162 -1.369306 1.369306 \nC -1.006162 1.732451 -0.513564 1.936492 0 1.936492 \nz\n\" id=\"C1_0_a6cb7a4128\"/>\n    </defs>\n    <g clip-path=\"url(#p879940fbcc)\">\n     <use style=\"fill:#0000ff;fill-opacity:0.3;stroke:#0000ff;stroke-opacity:0.3;\" x=\"120.929055\" xlink:href=\"#C1_0_a6cb7a4128\" y=\"137.062144\"/>\n    </g>\n    <g clip-path=\"url(#p879940fbcc)\">\n     <use style=\"fill:#0000ff;fill-opacity:0.44861;stroke:#0000ff;stroke-opacity:0.44861;\" x=\"119.962711\" xlink:href=\"#C1_0_a6cb7a4128\" y=\"41.823078\"/>\n    </g>\n    <g clip-path=\"url(#p879940fbcc)\">\n     <use style=\"fill:#0000ff;stroke:#0000ff;\" x=\"177.168686\" xlink:href=\"#C1_0_a6cb7a4128\" y=\"142.208428\"/>\n    </g>\n   </g>\n  </g>\n </g>\n <defs>\n  <clipPath id=\"p879940fbcc\">\n   <rect height=\"271.8\" width=\"271.8\" x=\"7.2\" y=\"7.2\"/>\n  </clipPath>\n </defs>\n</svg>\n",
      "image/png": "[encoded data removed]"
     },
     "metadata": {
      "needs_background": "light"
     }
    }
   ],
   "source": [
    "\n",
    "from mpl_toolkits.mplot3d import Axes3D\n",
    "import matplotlib.pyplot as plt\n",
    "from matplotlib import cm\n",
    "import numpy as np\n",
    "x = np.array([0, 1, 0])\n",
    "y = np.array([0, 1, 0])\n",
    "z = np.array([0, 1, 1])\n",
    "\n",
    "x2 = np.array([0, 1, 0])\n",
    "y2 = np.array([1, 0, 1])\n",
    "z2 = np.array([1, 1, 0])\n",
    "\n",
    "fig = plt.figure(figsize=(5, 5))\n",
    "\n",
    "ax = fig.gca(projection='3d')\n",
    "\n",
    "ax.scatter(x,y,z, marker='o', s=15, c='red')\n",
    "ax.scatter(x2,y2,z2, marker='o', s=15, c='blue')\n",
    "\n",
    "plt.show()\n",
    "\n"
   ]
  },
  {
   "source": [
    "## 겹치는지 확인해보자\n",
    "\n",
    "- 위와 같이 각 점의 형태를 면으로 색칠하여 나열하면 아래와 같은 그림으로 나타내어진다.\n",
    "\n",
    "---\n",
    "\n",
    "<img src=\"./problem1_matplot_img.png\" width=\"300\" height=\"200\">\n",
    "\n",
    "---\n",
    "\n",
    "- 이와 같이 서로 겹쳐짐을 확인할 수 있다.\n",
    "\n",
    "### MLP를 적용해야한다!\n",
    "\n",
    "- 각 면끼리 겹치게 되기 때문에 단층 퍼셉트론으로는 오차를 줄이기가 어렵다.  \n",
    "따라서 MLP를 적용하여 해당 문제를 해결해야한다. 필자는 다음과 같이 나눔으로써 최소 오차를 만들 수 있다고 생각한다.\n",
    "\n",
    "---\n",
    "\n",
    "<img src=\"./problem1_matplot_img2.png\" width=\"300\" height=\"200\">\n",
    "\n",
    "---\n",
    "\n",
    "## 코드로 적용해보잣!\n",
    "\n",
    "- 아래 코드는 위의 문제를 이해하고 퍼셉트론 사이에 은닉층을 두어 문제를 해결하였다."
   ],
   "cell_type": "markdown",
   "metadata": {}
  },
  {
   "cell_type": "code",
   "execution_count": 2,
   "metadata": {},
   "outputs": [],
   "source": [
    "import torch\n",
    "import torch.nn as nn\n",
    "import torch.nn.functional as F\n",
    "# device = 'cuda' if torch.has_cuda else 'cpu'\n",
    "\n",
    "x_train = torch.FloatTensor([[0,0,0],[0,1,1],[1,1,1],[1,0,1],[0,0,1],[0,1,0]])\n",
    "y_train = torch.FloatTensor([[1], [-1], [1], [-1], [1], [-1]])"
   ]
  },
  {
   "cell_type": "code",
   "execution_count": 3,
   "metadata": {},
   "outputs": [],
   "source": [
    "model = nn.Sequential(\n",
    "    nn.Linear(3, 3, bias=True),\n",
    "    nn.Tanh(),\n",
    "    nn.Linear(3, 1, bias=True),\n",
    "    nn.Tanh()\n",
    ")\n",
    "cost_function = nn.MSELoss()\n",
    "optimizer = torch.optim.SGD(model.parameters(), lr=0.1)\n",
    "# criterion = nn.BCELoss().to(device)\n",
    "\n"
   ]
  },
  {
   "cell_type": "code",
   "execution_count": 4,
   "metadata": {
    "tags": []
   },
   "outputs": [
    {
     "output_type": "stream",
     "name": "stdout",
     "text": [
      "step: 0, cost: 1.060966610909\n",
      "step: 100, cost: 0.650510370731\n",
      "step: 200, cost: 0.484399408102\n",
      "step: 300, cost: 0.395689517260\n",
      "step: 400, cost: 0.362080693245\n",
      "step: 500, cost: 0.109913952649\n",
      "step: 600, cost: 0.031472627074\n",
      "step: 700, cost: 0.017010373995\n",
      "step: 800, cost: 0.011310185306\n",
      "step: 900, cost: 0.008340322413\n",
      "step: 1000, cost: 0.006545700133\n",
      "step: 1100, cost: 0.005355318543\n",
      "step: 1200, cost: 0.004513317253\n",
      "step: 1300, cost: 0.003889028914\n",
      "step: 1400, cost: 0.003409262747\n",
      "step: 1500, cost: 0.003029962303\n",
      "step: 1600, cost: 0.002723138547\n",
      "step: 1700, cost: 0.002470212057\n",
      "step: 1800, cost: 0.002258393681\n",
      "step: 1900, cost: 0.002078594640\n",
      "step: 2000, cost: 0.001924192649\n",
      "step: 2100, cost: 0.001790254726\n",
      "step: 2200, cost: 0.001673042425\n",
      "step: 2300, cost: 0.001569656655\n",
      "step: 2400, cost: 0.001477830578\n",
      "step: 2500, cost: 0.001395761035\n",
      "step: 2600, cost: 0.001321995631\n",
      "step: 2700, cost: 0.001255356241\n",
      "step: 2800, cost: 0.001194874756\n",
      "step: 2900, cost: 0.001139749424\n",
      "step: 3000, cost: 0.001089310856\n"
     ]
    }
   ],
   "source": [
    "for step in range(3001):\n",
    "    optimizer.zero_grad()\n",
    "    hypothesis = model(x_train)\n",
    "    cost = cost_function(hypothesis, y_train)\n",
    "    cost.backward()\n",
    "    optimizer.step()\n",
    "    if step % 100 == 0:\n",
    "        print(f\"step: {step}, cost: {cost.item():.12f}\")"
   ]
  },
  {
   "cell_type": "code",
   "execution_count": 5,
   "metadata": {},
   "outputs": [
    {
     "output_type": "stream",
     "name": "stdout",
     "text": [
      "\nHypothesis: tensor([[ 0.9828],\n        [-0.9714],\n        [ 0.9514],\n        [-0.9559],\n        [ 0.9778],\n        [-0.9751]])\nCorrect: tensor([[ 1.],\n        [-1.],\n        [ 1.],\n        [-1.],\n        [ 1.],\n        [-1.]])\nAccuracy: 1.0\n"
     ]
    }
   ],
   "source": [
    "with torch.no_grad():\n",
    "    hypothesis = model(x_train)\n",
    "    predicted = hypothesis.round()\n",
    "    accuracy = (predicted == y_train).float().mean()\n",
    "    print(f\"\\nHypothesis: {hypothesis.detach()}\\nCorrect: {predicted.detach()}\\nAccuracy: {accuracy.item()}\")"
   ]
  },
  {
   "source": [
    "# 문제 2\n",
    "\n",
    "## 다음 분류 문제에 답하시오.\n",
    "\n",
    "<img src=\"./problem2.png\" width=\"1000\" height=\"500\">"
   ],
   "cell_type": "markdown",
   "metadata": {}
  },
  {
   "source": [
    "## 2-1\n",
    "\n",
    "### 이 부류 문제를 해결하는 다층 퍼셉트론을 각각 제시하시오."
   ],
   "cell_type": "markdown",
   "metadata": {}
  },
  {
   "cell_type": "code",
   "execution_count": 6,
   "metadata": {},
   "outputs": [
    {
     "output_type": "display_data",
     "data": {
      "text/plain": "<Figure size 432x288 with 1 Axes>",
      "image/svg+xml": "<?xml version=\"1.0\" encoding=\"utf-8\" standalone=\"no\"?>\n<!DOCTYPE svg PUBLIC \"-//W3C//DTD SVG 1.1//EN\"\n  \"http://www.w3.org/Graphics/SVG/1.1/DTD/svg11.dtd\">\n<!-- Created with matplotlib (https://matplotlib.org/) -->\n<svg height=\"248.518125pt\" version=\"1.1\" viewBox=\"0 0 372.103125 248.518125\" width=\"372.103125pt\" xmlns=\"http://www.w3.org/2000/svg\" xmlns:xlink=\"http://www.w3.org/1999/xlink\">\n <metadata>\n  <rdf:RDF xmlns:cc=\"http://creativecommons.org/ns#\" xmlns:dc=\"http://purl.org/dc/elements/1.1/\" xmlns:rdf=\"http://www.w3.org/1999/02/22-rdf-syntax-ns#\">\n   <cc:Work>\n    <dc:type rdf:resource=\"http://purl.org/dc/dcmitype/StillImage\"/>\n    <dc:date>2021-03-28T22:13:15.777538</dc:date>\n    <dc:format>image/svg+xml</dc:format>\n    <dc:creator>\n     <cc:Agent>\n      <dc:title>Matplotlib v3.3.2, https://matplotlib.org/</dc:title>\n     </cc:Agent>\n    </dc:creator>\n   </cc:Work>\n  </rdf:RDF>\n </metadata>\n <defs>\n  <style type=\"text/css\">*{stroke-linecap:butt;stroke-linejoin:round;}</style>\n </defs>\n <g id=\"figure_1\">\n  <g id=\"patch_1\">\n   <path d=\"M 0 248.518125 \nL 372.103125 248.518125 \nL 372.103125 0 \nL 0 0 \nz\n\" style=\"fill:none;\"/>\n  </g>\n  <g id=\"axes_1\">\n   <g id=\"patch_2\">\n    <path d=\"M 30.103125 224.64 \nL 364.903125 224.64 \nL 364.903125 7.2 \nL 30.103125 7.2 \nz\n\" style=\"fill:#ffffff;\"/>\n   </g>\n   <g id=\"PathCollection_1\">\n    <defs>\n     <path d=\"M 0 3 \nC 0.795609 3 1.55874 2.683901 2.12132 2.12132 \nC 2.683901 1.55874 3 0.795609 3 0 \nC 3 -0.795609 2.683901 -1.55874 2.12132 -2.12132 \nC 1.55874 -2.683901 0.795609 -3 0 -3 \nC -0.795609 -3 -1.55874 -2.683901 -2.12132 -2.12132 \nC -2.683901 -1.55874 -3 -0.795609 -3 0 \nC -3 0.795609 -2.683901 1.55874 -2.12132 2.12132 \nC -1.55874 2.683901 -0.795609 3 0 3 \nz\n\" id=\"mb9d1cd9561\" style=\"stroke:#1f77b4;\"/>\n    </defs>\n    <g clip-path=\"url(#p5ff9de8ceb)\">\n     <use style=\"fill:#1f77b4;stroke:#1f77b4;\" x=\"45.321307\" xlink:href=\"#mb9d1cd9561\" y=\"214.756364\"/>\n     <use style=\"fill:#1f77b4;stroke:#1f77b4;\" x=\"45.321307\" xlink:href=\"#mb9d1cd9561\" y=\"17.083636\"/>\n     <use style=\"fill:#1f77b4;stroke:#1f77b4;\" x=\"349.684943\" xlink:href=\"#mb9d1cd9561\" y=\"214.756364\"/>\n     <use style=\"fill:#1f77b4;stroke:#1f77b4;\" x=\"349.684943\" xlink:href=\"#mb9d1cd9561\" y=\"17.083636\"/>\n    </g>\n   </g>\n   <g id=\"PathCollection_2\">\n    <defs>\n     <path d=\"M 0 3 \nC 0.795609 3 1.55874 2.683901 2.12132 2.12132 \nC 2.683901 1.55874 3 0.795609 3 0 \nC 3 -0.795609 2.683901 -1.55874 2.12132 -2.12132 \nC 1.55874 -2.683901 0.795609 -3 0 -3 \nC -0.795609 -3 -1.55874 -2.683901 -2.12132 -2.12132 \nC -2.683901 -1.55874 -3 -0.795609 -3 0 \nC -3 0.795609 -2.683901 1.55874 -2.12132 2.12132 \nC -1.55874 2.683901 -0.795609 3 0 3 \nz\n\" id=\"m612f1294b2\" style=\"stroke:#ff7f0e;\"/>\n    </defs>\n    <g clip-path=\"url(#p5ff9de8ceb)\">\n     <use style=\"fill:#ff7f0e;stroke:#ff7f0e;\" x=\"197.503125\" xlink:href=\"#m612f1294b2\" y=\"115.92\"/>\n    </g>\n   </g>\n   <g id=\"matplotlib.axis_1\">\n    <g id=\"xtick_1\">\n     <g id=\"line2d_1\">\n      <defs>\n       <path d=\"M 0 0 \nL 0 3.5 \n\" id=\"m4d417815ef\" style=\"stroke:#000000;stroke-width:0.8;\"/>\n      </defs>\n      <g>\n       <use style=\"stroke:#000000;stroke-width:0.8;\" x=\"45.321307\" xlink:href=\"#m4d417815ef\" y=\"224.64\"/>\n      </g>\n     </g>\n     <g id=\"text_1\">\n      <!-- 0.0 -->\n      <g transform=\"translate(37.369744 239.238437)scale(0.1 -0.1)\">\n       <defs>\n        <path d=\"M 31.78125 66.40625 \nQ 24.171875 66.40625 20.328125 58.90625 \nQ 16.5 51.421875 16.5 36.375 \nQ 16.5 21.390625 20.328125 13.890625 \nQ 24.171875 6.390625 31.78125 6.390625 \nQ 39.453125 6.390625 43.28125 13.890625 \nQ 47.125 21.390625 47.125 36.375 \nQ 47.125 51.421875 43.28125 58.90625 \nQ 39.453125 66.40625 31.78125 66.40625 \nz\nM 31.78125 74.21875 \nQ 44.046875 74.21875 50.515625 64.515625 \nQ 56.984375 54.828125 56.984375 36.375 \nQ 56.984375 17.96875 50.515625 8.265625 \nQ 44.046875 -1.421875 31.78125 -1.421875 \nQ 19.53125 -1.421875 13.0625 8.265625 \nQ 6.59375 17.96875 6.59375 36.375 \nQ 6.59375 54.828125 13.0625 64.515625 \nQ 19.53125 74.21875 31.78125 74.21875 \nz\n\" id=\"DejaVuSans-48\"/>\n        <path d=\"M 10.6875 12.40625 \nL 21 12.40625 \nL 21 0 \nL 10.6875 0 \nz\n\" id=\"DejaVuSans-46\"/>\n       </defs>\n       <use xlink:href=\"#DejaVuSans-48\"/>\n       <use x=\"63.623047\" xlink:href=\"#DejaVuSans-46\"/>\n       <use x=\"95.410156\" xlink:href=\"#DejaVuSans-48\"/>\n      </g>\n     </g>\n    </g>\n    <g id=\"xtick_2\">\n     <g id=\"line2d_2\">\n      <g>\n       <use style=\"stroke:#000000;stroke-width:0.8;\" x=\"106.194034\" xlink:href=\"#m4d417815ef\" y=\"224.64\"/>\n      </g>\n     </g>\n     <g id=\"text_2\">\n      <!-- 0.2 -->\n      <g transform=\"translate(98.242472 239.238437)scale(0.1 -0.1)\">\n       <defs>\n        <path d=\"M 19.1875 8.296875 \nL 53.609375 8.296875 \nL 53.609375 0 \nL 7.328125 0 \nL 7.328125 8.296875 \nQ 12.9375 14.109375 22.625 23.890625 \nQ 32.328125 33.6875 34.8125 36.53125 \nQ 39.546875 41.84375 41.421875 45.53125 \nQ 43.3125 49.21875 43.3125 52.78125 \nQ 43.3125 58.59375 39.234375 62.25 \nQ 35.15625 65.921875 28.609375 65.921875 \nQ 23.96875 65.921875 18.8125 64.3125 \nQ 13.671875 62.703125 7.8125 59.421875 \nL 7.8125 69.390625 \nQ 13.765625 71.78125 18.9375 73 \nQ 24.125 74.21875 28.421875 74.21875 \nQ 39.75 74.21875 46.484375 68.546875 \nQ 53.21875 62.890625 53.21875 53.421875 \nQ 53.21875 48.921875 51.53125 44.890625 \nQ 49.859375 40.875 45.40625 35.40625 \nQ 44.1875 33.984375 37.640625 27.21875 \nQ 31.109375 20.453125 19.1875 8.296875 \nz\n\" id=\"DejaVuSans-50\"/>\n       </defs>\n       <use xlink:href=\"#DejaVuSans-48\"/>\n       <use x=\"63.623047\" xlink:href=\"#DejaVuSans-46\"/>\n       <use x=\"95.410156\" xlink:href=\"#DejaVuSans-50\"/>\n      </g>\n     </g>\n    </g>\n    <g id=\"xtick_3\">\n     <g id=\"line2d_3\">\n      <g>\n       <use style=\"stroke:#000000;stroke-width:0.8;\" x=\"167.066761\" xlink:href=\"#m4d417815ef\" y=\"224.64\"/>\n      </g>\n     </g>\n     <g id=\"text_3\">\n      <!-- 0.4 -->\n      <g transform=\"translate(159.115199 239.238437)scale(0.1 -0.1)\">\n       <defs>\n        <path d=\"M 37.796875 64.3125 \nL 12.890625 25.390625 \nL 37.796875 25.390625 \nz\nM 35.203125 72.90625 \nL 47.609375 72.90625 \nL 47.609375 25.390625 \nL 58.015625 25.390625 \nL 58.015625 17.1875 \nL 47.609375 17.1875 \nL 47.609375 0 \nL 37.796875 0 \nL 37.796875 17.1875 \nL 4.890625 17.1875 \nL 4.890625 26.703125 \nz\n\" id=\"DejaVuSans-52\"/>\n       </defs>\n       <use xlink:href=\"#DejaVuSans-48\"/>\n       <use x=\"63.623047\" xlink:href=\"#DejaVuSans-46\"/>\n       <use x=\"95.410156\" xlink:href=\"#DejaVuSans-52\"/>\n      </g>\n     </g>\n    </g>\n    <g id=\"xtick_4\">\n     <g id=\"line2d_4\">\n      <g>\n       <use style=\"stroke:#000000;stroke-width:0.8;\" x=\"227.939489\" xlink:href=\"#m4d417815ef\" y=\"224.64\"/>\n      </g>\n     </g>\n     <g id=\"text_4\">\n      <!-- 0.6 -->\n      <g transform=\"translate(219.987926 239.238437)scale(0.1 -0.1)\">\n       <defs>\n        <path d=\"M 33.015625 40.375 \nQ 26.375 40.375 22.484375 35.828125 \nQ 18.609375 31.296875 18.609375 23.390625 \nQ 18.609375 15.53125 22.484375 10.953125 \nQ 26.375 6.390625 33.015625 6.390625 \nQ 39.65625 6.390625 43.53125 10.953125 \nQ 47.40625 15.53125 47.40625 23.390625 \nQ 47.40625 31.296875 43.53125 35.828125 \nQ 39.65625 40.375 33.015625 40.375 \nz\nM 52.59375 71.296875 \nL 52.59375 62.3125 \nQ 48.875 64.0625 45.09375 64.984375 \nQ 41.3125 65.921875 37.59375 65.921875 \nQ 27.828125 65.921875 22.671875 59.328125 \nQ 17.53125 52.734375 16.796875 39.40625 \nQ 19.671875 43.65625 24.015625 45.921875 \nQ 28.375 48.1875 33.59375 48.1875 \nQ 44.578125 48.1875 50.953125 41.515625 \nQ 57.328125 34.859375 57.328125 23.390625 \nQ 57.328125 12.15625 50.6875 5.359375 \nQ 44.046875 -1.421875 33.015625 -1.421875 \nQ 20.359375 -1.421875 13.671875 8.265625 \nQ 6.984375 17.96875 6.984375 36.375 \nQ 6.984375 53.65625 15.1875 63.9375 \nQ 23.390625 74.21875 37.203125 74.21875 \nQ 40.921875 74.21875 44.703125 73.484375 \nQ 48.484375 72.75 52.59375 71.296875 \nz\n\" id=\"DejaVuSans-54\"/>\n       </defs>\n       <use xlink:href=\"#DejaVuSans-48\"/>\n       <use x=\"63.623047\" xlink:href=\"#DejaVuSans-46\"/>\n       <use x=\"95.410156\" xlink:href=\"#DejaVuSans-54\"/>\n      </g>\n     </g>\n    </g>\n    <g id=\"xtick_5\">\n     <g id=\"line2d_5\">\n      <g>\n       <use style=\"stroke:#000000;stroke-width:0.8;\" x=\"288.812216\" xlink:href=\"#m4d417815ef\" y=\"224.64\"/>\n      </g>\n     </g>\n     <g id=\"text_5\">\n      <!-- 0.8 -->\n      <g transform=\"translate(280.860653 239.238437)scale(0.1 -0.1)\">\n       <defs>\n        <path d=\"M 31.78125 34.625 \nQ 24.75 34.625 20.71875 30.859375 \nQ 16.703125 27.09375 16.703125 20.515625 \nQ 16.703125 13.921875 20.71875 10.15625 \nQ 24.75 6.390625 31.78125 6.390625 \nQ 38.8125 6.390625 42.859375 10.171875 \nQ 46.921875 13.96875 46.921875 20.515625 \nQ 46.921875 27.09375 42.890625 30.859375 \nQ 38.875 34.625 31.78125 34.625 \nz\nM 21.921875 38.8125 \nQ 15.578125 40.375 12.03125 44.71875 \nQ 8.5 49.078125 8.5 55.328125 \nQ 8.5 64.0625 14.71875 69.140625 \nQ 20.953125 74.21875 31.78125 74.21875 \nQ 42.671875 74.21875 48.875 69.140625 \nQ 55.078125 64.0625 55.078125 55.328125 \nQ 55.078125 49.078125 51.53125 44.71875 \nQ 48 40.375 41.703125 38.8125 \nQ 48.828125 37.15625 52.796875 32.3125 \nQ 56.78125 27.484375 56.78125 20.515625 \nQ 56.78125 9.90625 50.3125 4.234375 \nQ 43.84375 -1.421875 31.78125 -1.421875 \nQ 19.734375 -1.421875 13.25 4.234375 \nQ 6.78125 9.90625 6.78125 20.515625 \nQ 6.78125 27.484375 10.78125 32.3125 \nQ 14.796875 37.15625 21.921875 38.8125 \nz\nM 18.3125 54.390625 \nQ 18.3125 48.734375 21.84375 45.5625 \nQ 25.390625 42.390625 31.78125 42.390625 \nQ 38.140625 42.390625 41.71875 45.5625 \nQ 45.3125 48.734375 45.3125 54.390625 \nQ 45.3125 60.0625 41.71875 63.234375 \nQ 38.140625 66.40625 31.78125 66.40625 \nQ 25.390625 66.40625 21.84375 63.234375 \nQ 18.3125 60.0625 18.3125 54.390625 \nz\n\" id=\"DejaVuSans-56\"/>\n       </defs>\n       <use xlink:href=\"#DejaVuSans-48\"/>\n       <use x=\"63.623047\" xlink:href=\"#DejaVuSans-46\"/>\n       <use x=\"95.410156\" xlink:href=\"#DejaVuSans-56\"/>\n      </g>\n     </g>\n    </g>\n    <g id=\"xtick_6\">\n     <g id=\"line2d_6\">\n      <g>\n       <use style=\"stroke:#000000;stroke-width:0.8;\" x=\"349.684943\" xlink:href=\"#m4d417815ef\" y=\"224.64\"/>\n      </g>\n     </g>\n     <g id=\"text_6\">\n      <!-- 1.0 -->\n      <g transform=\"translate(341.733381 239.238437)scale(0.1 -0.1)\">\n       <defs>\n        <path d=\"M 12.40625 8.296875 \nL 28.515625 8.296875 \nL 28.515625 63.921875 \nL 10.984375 60.40625 \nL 10.984375 69.390625 \nL 28.421875 72.90625 \nL 38.28125 72.90625 \nL 38.28125 8.296875 \nL 54.390625 8.296875 \nL 54.390625 0 \nL 12.40625 0 \nz\n\" id=\"DejaVuSans-49\"/>\n       </defs>\n       <use xlink:href=\"#DejaVuSans-49\"/>\n       <use x=\"63.623047\" xlink:href=\"#DejaVuSans-46\"/>\n       <use x=\"95.410156\" xlink:href=\"#DejaVuSans-48\"/>\n      </g>\n     </g>\n    </g>\n   </g>\n   <g id=\"matplotlib.axis_2\">\n    <g id=\"ytick_1\">\n     <g id=\"line2d_7\">\n      <defs>\n       <path d=\"M 0 0 \nL -3.5 0 \n\" id=\"m78245a6f9b\" style=\"stroke:#000000;stroke-width:0.8;\"/>\n      </defs>\n      <g>\n       <use style=\"stroke:#000000;stroke-width:0.8;\" x=\"30.103125\" xlink:href=\"#m78245a6f9b\" y=\"214.756364\"/>\n      </g>\n     </g>\n     <g id=\"text_7\">\n      <!-- 0.0 -->\n      <g transform=\"translate(7.2 218.555582)scale(0.1 -0.1)\">\n       <use xlink:href=\"#DejaVuSans-48\"/>\n       <use x=\"63.623047\" xlink:href=\"#DejaVuSans-46\"/>\n       <use x=\"95.410156\" xlink:href=\"#DejaVuSans-48\"/>\n      </g>\n     </g>\n    </g>\n    <g id=\"ytick_2\">\n     <g id=\"line2d_8\">\n      <g>\n       <use style=\"stroke:#000000;stroke-width:0.8;\" x=\"30.103125\" xlink:href=\"#m78245a6f9b\" y=\"175.221818\"/>\n      </g>\n     </g>\n     <g id=\"text_8\">\n      <!-- 0.2 -->\n      <g transform=\"translate(7.2 179.021037)scale(0.1 -0.1)\">\n       <use xlink:href=\"#DejaVuSans-48\"/>\n       <use x=\"63.623047\" xlink:href=\"#DejaVuSans-46\"/>\n       <use x=\"95.410156\" xlink:href=\"#DejaVuSans-50\"/>\n      </g>\n     </g>\n    </g>\n    <g id=\"ytick_3\">\n     <g id=\"line2d_9\">\n      <g>\n       <use style=\"stroke:#000000;stroke-width:0.8;\" x=\"30.103125\" xlink:href=\"#m78245a6f9b\" y=\"135.687273\"/>\n      </g>\n     </g>\n     <g id=\"text_9\">\n      <!-- 0.4 -->\n      <g transform=\"translate(7.2 139.486491)scale(0.1 -0.1)\">\n       <use xlink:href=\"#DejaVuSans-48\"/>\n       <use x=\"63.623047\" xlink:href=\"#DejaVuSans-46\"/>\n       <use x=\"95.410156\" xlink:href=\"#DejaVuSans-52\"/>\n      </g>\n     </g>\n    </g>\n    <g id=\"ytick_4\">\n     <g id=\"line2d_10\">\n      <g>\n       <use style=\"stroke:#000000;stroke-width:0.8;\" x=\"30.103125\" xlink:href=\"#m78245a6f9b\" y=\"96.152727\"/>\n      </g>\n     </g>\n     <g id=\"text_10\">\n      <!-- 0.6 -->\n      <g transform=\"translate(7.2 99.951946)scale(0.1 -0.1)\">\n       <use xlink:href=\"#DejaVuSans-48\"/>\n       <use x=\"63.623047\" xlink:href=\"#DejaVuSans-46\"/>\n       <use x=\"95.410156\" xlink:href=\"#DejaVuSans-54\"/>\n      </g>\n     </g>\n    </g>\n    <g id=\"ytick_5\">\n     <g id=\"line2d_11\">\n      <g>\n       <use style=\"stroke:#000000;stroke-width:0.8;\" x=\"30.103125\" xlink:href=\"#m78245a6f9b\" y=\"56.618182\"/>\n      </g>\n     </g>\n     <g id=\"text_11\">\n      <!-- 0.8 -->\n      <g transform=\"translate(7.2 60.417401)scale(0.1 -0.1)\">\n       <use xlink:href=\"#DejaVuSans-48\"/>\n       <use x=\"63.623047\" xlink:href=\"#DejaVuSans-46\"/>\n       <use x=\"95.410156\" xlink:href=\"#DejaVuSans-56\"/>\n      </g>\n     </g>\n    </g>\n    <g id=\"ytick_6\">\n     <g id=\"line2d_12\">\n      <g>\n       <use style=\"stroke:#000000;stroke-width:0.8;\" x=\"30.103125\" xlink:href=\"#m78245a6f9b\" y=\"17.083636\"/>\n      </g>\n     </g>\n     <g id=\"text_12\">\n      <!-- 1.0 -->\n      <g transform=\"translate(7.2 20.882855)scale(0.1 -0.1)\">\n       <use xlink:href=\"#DejaVuSans-49\"/>\n       <use x=\"63.623047\" xlink:href=\"#DejaVuSans-46\"/>\n       <use x=\"95.410156\" xlink:href=\"#DejaVuSans-48\"/>\n      </g>\n     </g>\n    </g>\n   </g>\n   <g id=\"line2d_13\">\n    <path clip-path=\"url(#p5ff9de8ceb)\" d=\"M 106.194034 17.083636 \nL 167.066761 214.756364 \n\" style=\"fill:none;stroke:#008000;stroke-linecap:square;stroke-width:1.5;\"/>\n   </g>\n   <g id=\"line2d_14\">\n    <path clip-path=\"url(#p5ff9de8ceb)\" d=\"M 227.939489 17.083636 \nL 288.812216 214.756364 \n\" style=\"fill:none;stroke:#008000;stroke-linecap:square;stroke-width:1.5;\"/>\n   </g>\n   <g id=\"patch_3\">\n    <path d=\"M 30.103125 224.64 \nL 30.103125 7.2 \n\" style=\"fill:none;stroke:#000000;stroke-linecap:square;stroke-linejoin:miter;stroke-width:0.8;\"/>\n   </g>\n   <g id=\"patch_4\">\n    <path d=\"M 364.903125 224.64 \nL 364.903125 7.2 \n\" style=\"fill:none;stroke:#000000;stroke-linecap:square;stroke-linejoin:miter;stroke-width:0.8;\"/>\n   </g>\n   <g id=\"patch_5\">\n    <path d=\"M 30.103125 224.64 \nL 364.903125 224.64 \n\" style=\"fill:none;stroke:#000000;stroke-linecap:square;stroke-linejoin:miter;stroke-width:0.8;\"/>\n   </g>\n   <g id=\"patch_6\">\n    <path d=\"M 30.103125 7.2 \nL 364.903125 7.2 \n\" style=\"fill:none;stroke:#000000;stroke-linecap:square;stroke-linejoin:miter;stroke-width:0.8;\"/>\n   </g>\n  </g>\n </g>\n <defs>\n  <clipPath id=\"p5ff9de8ceb\">\n   <rect height=\"217.44\" width=\"334.8\" x=\"30.103125\" y=\"7.2\"/>\n  </clipPath>\n </defs>\n</svg>\n",
      "image/png": "[encoded data removed]"
     },
     "metadata": {
      "needs_background": "light"
     }
    }
   ],
   "source": [
    "x_values = [0, 0, 1, 1]\n",
    "y_values = [0, 1, 0, 1]\n",
    "x_other_value = [0.5]\n",
    "y_other_value = [0.5]\n",
    "\n",
    "line1_x = [0.2, 0.4]\n",
    "line1_y = [1.0, 0.0]\n",
    "line2_x = [0.6, 0.8]\n",
    "line2_y = [1.0, 0.0]\n",
    "\n",
    "plt.scatter(x_values, y_values)\n",
    "plt.scatter(x_other_value, y_other_value)\n",
    "plt.plot(line1_x, line1_y, color=\"green\")\n",
    "plt.plot(line2_x, line2_y, color=\"green\")\n",
    "plt.show()"
   ]
  },
  {
   "cell_type": "code",
   "execution_count": 7,
   "metadata": {},
   "outputs": [
    {
     "output_type": "display_data",
     "data": {
      "text/plain": "<Figure size 432x288 with 1 Axes>",
      "image/svg+xml": "<?xml version=\"1.0\" encoding=\"utf-8\" standalone=\"no\"?>\n<!DOCTYPE svg PUBLIC \"-//W3C//DTD SVG 1.1//EN\"\n  \"http://www.w3.org/Graphics/SVG/1.1/DTD/svg11.dtd\">\n<!-- Created with matplotlib (https://matplotlib.org/) -->\n<svg height=\"248.518125pt\" version=\"1.1\" viewBox=\"0 0 372.103125 248.518125\" width=\"372.103125pt\" xmlns=\"http://www.w3.org/2000/svg\" xmlns:xlink=\"http://www.w3.org/1999/xlink\">\n <metadata>\n  <rdf:RDF xmlns:cc=\"http://creativecommons.org/ns#\" xmlns:dc=\"http://purl.org/dc/elements/1.1/\" xmlns:rdf=\"http://www.w3.org/1999/02/22-rdf-syntax-ns#\">\n   <cc:Work>\n    <dc:type rdf:resource=\"http://purl.org/dc/dcmitype/StillImage\"/>\n    <dc:date>2021-03-28T22:13:15.912735</dc:date>\n    <dc:format>image/svg+xml</dc:format>\n    <dc:creator>\n     <cc:Agent>\n      <dc:title>Matplotlib v3.3.2, https://matplotlib.org/</dc:title>\n     </cc:Agent>\n    </dc:creator>\n   </cc:Work>\n  </rdf:RDF>\n </metadata>\n <defs>\n  <style type=\"text/css\">*{stroke-linecap:butt;stroke-linejoin:round;}</style>\n </defs>\n <g id=\"figure_1\">\n  <g id=\"patch_1\">\n   <path d=\"M 0 248.518125 \nL 372.103125 248.518125 \nL 372.103125 0 \nL 0 0 \nz\n\" style=\"fill:none;\"/>\n  </g>\n  <g id=\"axes_1\">\n   <g id=\"patch_2\">\n    <path d=\"M 30.103125 224.64 \nL 364.903125 224.64 \nL 364.903125 7.2 \nL 30.103125 7.2 \nz\n\" style=\"fill:#ffffff;\"/>\n   </g>\n   <g id=\"PathCollection_1\">\n    <defs>\n     <path d=\"M 0 3 \nC 0.795609 3 1.55874 2.683901 2.12132 2.12132 \nC 2.683901 1.55874 3 0.795609 3 0 \nC 3 -0.795609 2.683901 -1.55874 2.12132 -2.12132 \nC 1.55874 -2.683901 0.795609 -3 0 -3 \nC -0.795609 -3 -1.55874 -2.683901 -2.12132 -2.12132 \nC -2.683901 -1.55874 -3 -0.795609 -3 0 \nC -3 0.795609 -2.683901 1.55874 -2.12132 2.12132 \nC -1.55874 2.683901 -0.795609 3 0 3 \nz\n\" id=\"m40a02ce814\" style=\"stroke:#1f77b4;\"/>\n    </defs>\n    <g clip-path=\"url(#pc65620d6e8)\">\n     <use style=\"fill:#1f77b4;stroke:#1f77b4;\" x=\"45.321307\" xlink:href=\"#m40a02ce814\" y=\"214.756364\"/>\n     <use style=\"fill:#1f77b4;stroke:#1f77b4;\" x=\"45.321307\" xlink:href=\"#m40a02ce814\" y=\"115.92\"/>\n     <use style=\"fill:#1f77b4;stroke:#1f77b4;\" x=\"45.321307\" xlink:href=\"#m40a02ce814\" y=\"17.083636\"/>\n     <use style=\"fill:#1f77b4;stroke:#1f77b4;\" x=\"197.503125\" xlink:href=\"#m40a02ce814\" y=\"214.756364\"/>\n     <use style=\"fill:#1f77b4;stroke:#1f77b4;\" x=\"197.503125\" xlink:href=\"#m40a02ce814\" y=\"115.92\"/>\n     <use style=\"fill:#1f77b4;stroke:#1f77b4;\" x=\"197.503125\" xlink:href=\"#m40a02ce814\" y=\"17.083636\"/>\n     <use style=\"fill:#1f77b4;stroke:#1f77b4;\" x=\"349.684943\" xlink:href=\"#m40a02ce814\" y=\"214.756364\"/>\n     <use style=\"fill:#1f77b4;stroke:#1f77b4;\" x=\"349.684943\" xlink:href=\"#m40a02ce814\" y=\"115.92\"/>\n     <use style=\"fill:#1f77b4;stroke:#1f77b4;\" x=\"349.684943\" xlink:href=\"#m40a02ce814\" y=\"17.083636\"/>\n    </g>\n   </g>\n   <g id=\"PathCollection_2\">\n    <defs>\n     <path d=\"M 0 3 \nC 0.795609 3 1.55874 2.683901 2.12132 2.12132 \nC 2.683901 1.55874 3 0.795609 3 0 \nC 3 -0.795609 2.683901 -1.55874 2.12132 -2.12132 \nC 1.55874 -2.683901 0.795609 -3 0 -3 \nC -0.795609 -3 -1.55874 -2.683901 -2.12132 -2.12132 \nC -2.683901 -1.55874 -3 -0.795609 -3 0 \nC -3 0.795609 -2.683901 1.55874 -2.12132 2.12132 \nC -1.55874 2.683901 -0.795609 3 0 3 \nz\n\" id=\"m917f83f980\" style=\"stroke:#ff7f0e;\"/>\n    </defs>\n    <g clip-path=\"url(#pc65620d6e8)\">\n     <use style=\"fill:#ff7f0e;stroke:#ff7f0e;\" x=\"197.503125\" xlink:href=\"#m917f83f980\" y=\"115.92\"/>\n    </g>\n   </g>\n   <g id=\"matplotlib.axis_1\">\n    <g id=\"xtick_1\">\n     <g id=\"line2d_1\">\n      <defs>\n       <path d=\"M 0 0 \nL 0 3.5 \n\" id=\"m792b96d683\" style=\"stroke:#000000;stroke-width:0.8;\"/>\n      </defs>\n      <g>\n       <use style=\"stroke:#000000;stroke-width:0.8;\" x=\"45.321307\" xlink:href=\"#m792b96d683\" y=\"224.64\"/>\n      </g>\n     </g>\n     <g id=\"text_1\">\n      <!-- 0.0 -->\n      <g transform=\"translate(37.369744 239.238437)scale(0.1 -0.1)\">\n       <defs>\n        <path d=\"M 31.78125 66.40625 \nQ 24.171875 66.40625 20.328125 58.90625 \nQ 16.5 51.421875 16.5 36.375 \nQ 16.5 21.390625 20.328125 13.890625 \nQ 24.171875 6.390625 31.78125 6.390625 \nQ 39.453125 6.390625 43.28125 13.890625 \nQ 47.125 21.390625 47.125 36.375 \nQ 47.125 51.421875 43.28125 58.90625 \nQ 39.453125 66.40625 31.78125 66.40625 \nz\nM 31.78125 74.21875 \nQ 44.046875 74.21875 50.515625 64.515625 \nQ 56.984375 54.828125 56.984375 36.375 \nQ 56.984375 17.96875 50.515625 8.265625 \nQ 44.046875 -1.421875 31.78125 -1.421875 \nQ 19.53125 -1.421875 13.0625 8.265625 \nQ 6.59375 17.96875 6.59375 36.375 \nQ 6.59375 54.828125 13.0625 64.515625 \nQ 19.53125 74.21875 31.78125 74.21875 \nz\n\" id=\"DejaVuSans-48\"/>\n        <path d=\"M 10.6875 12.40625 \nL 21 12.40625 \nL 21 0 \nL 10.6875 0 \nz\n\" id=\"DejaVuSans-46\"/>\n       </defs>\n       <use xlink:href=\"#DejaVuSans-48\"/>\n       <use x=\"63.623047\" xlink:href=\"#DejaVuSans-46\"/>\n       <use x=\"95.410156\" xlink:href=\"#DejaVuSans-48\"/>\n      </g>\n     </g>\n    </g>\n    <g id=\"xtick_2\">\n     <g id=\"line2d_2\">\n      <g>\n       <use style=\"stroke:#000000;stroke-width:0.8;\" x=\"106.194034\" xlink:href=\"#m792b96d683\" y=\"224.64\"/>\n      </g>\n     </g>\n     <g id=\"text_2\">\n      <!-- 0.2 -->\n      <g transform=\"translate(98.242472 239.238437)scale(0.1 -0.1)\">\n       <defs>\n        <path d=\"M 19.1875 8.296875 \nL 53.609375 8.296875 \nL 53.609375 0 \nL 7.328125 0 \nL 7.328125 8.296875 \nQ 12.9375 14.109375 22.625 23.890625 \nQ 32.328125 33.6875 34.8125 36.53125 \nQ 39.546875 41.84375 41.421875 45.53125 \nQ 43.3125 49.21875 43.3125 52.78125 \nQ 43.3125 58.59375 39.234375 62.25 \nQ 35.15625 65.921875 28.609375 65.921875 \nQ 23.96875 65.921875 18.8125 64.3125 \nQ 13.671875 62.703125 7.8125 59.421875 \nL 7.8125 69.390625 \nQ 13.765625 71.78125 18.9375 73 \nQ 24.125 74.21875 28.421875 74.21875 \nQ 39.75 74.21875 46.484375 68.546875 \nQ 53.21875 62.890625 53.21875 53.421875 \nQ 53.21875 48.921875 51.53125 44.890625 \nQ 49.859375 40.875 45.40625 35.40625 \nQ 44.1875 33.984375 37.640625 27.21875 \nQ 31.109375 20.453125 19.1875 8.296875 \nz\n\" id=\"DejaVuSans-50\"/>\n       </defs>\n       <use xlink:href=\"#DejaVuSans-48\"/>\n       <use x=\"63.623047\" xlink:href=\"#DejaVuSans-46\"/>\n       <use x=\"95.410156\" xlink:href=\"#DejaVuSans-50\"/>\n      </g>\n     </g>\n    </g>\n    <g id=\"xtick_3\">\n     <g id=\"line2d_3\">\n      <g>\n       <use style=\"stroke:#000000;stroke-width:0.8;\" x=\"167.066761\" xlink:href=\"#m792b96d683\" y=\"224.64\"/>\n      </g>\n     </g>\n     <g id=\"text_3\">\n      <!-- 0.4 -->\n      <g transform=\"translate(159.115199 239.238437)scale(0.1 -0.1)\">\n       <defs>\n        <path d=\"M 37.796875 64.3125 \nL 12.890625 25.390625 \nL 37.796875 25.390625 \nz\nM 35.203125 72.90625 \nL 47.609375 72.90625 \nL 47.609375 25.390625 \nL 58.015625 25.390625 \nL 58.015625 17.1875 \nL 47.609375 17.1875 \nL 47.609375 0 \nL 37.796875 0 \nL 37.796875 17.1875 \nL 4.890625 17.1875 \nL 4.890625 26.703125 \nz\n\" id=\"DejaVuSans-52\"/>\n       </defs>\n       <use xlink:href=\"#DejaVuSans-48\"/>\n       <use x=\"63.623047\" xlink:href=\"#DejaVuSans-46\"/>\n       <use x=\"95.410156\" xlink:href=\"#DejaVuSans-52\"/>\n      </g>\n     </g>\n    </g>\n    <g id=\"xtick_4\">\n     <g id=\"line2d_4\">\n      <g>\n       <use style=\"stroke:#000000;stroke-width:0.8;\" x=\"227.939489\" xlink:href=\"#m792b96d683\" y=\"224.64\"/>\n      </g>\n     </g>\n     <g id=\"text_4\">\n      <!-- 0.6 -->\n      <g transform=\"translate(219.987926 239.238437)scale(0.1 -0.1)\">\n       <defs>\n        <path d=\"M 33.015625 40.375 \nQ 26.375 40.375 22.484375 35.828125 \nQ 18.609375 31.296875 18.609375 23.390625 \nQ 18.609375 15.53125 22.484375 10.953125 \nQ 26.375 6.390625 33.015625 6.390625 \nQ 39.65625 6.390625 43.53125 10.953125 \nQ 47.40625 15.53125 47.40625 23.390625 \nQ 47.40625 31.296875 43.53125 35.828125 \nQ 39.65625 40.375 33.015625 40.375 \nz\nM 52.59375 71.296875 \nL 52.59375 62.3125 \nQ 48.875 64.0625 45.09375 64.984375 \nQ 41.3125 65.921875 37.59375 65.921875 \nQ 27.828125 65.921875 22.671875 59.328125 \nQ 17.53125 52.734375 16.796875 39.40625 \nQ 19.671875 43.65625 24.015625 45.921875 \nQ 28.375 48.1875 33.59375 48.1875 \nQ 44.578125 48.1875 50.953125 41.515625 \nQ 57.328125 34.859375 57.328125 23.390625 \nQ 57.328125 12.15625 50.6875 5.359375 \nQ 44.046875 -1.421875 33.015625 -1.421875 \nQ 20.359375 -1.421875 13.671875 8.265625 \nQ 6.984375 17.96875 6.984375 36.375 \nQ 6.984375 53.65625 15.1875 63.9375 \nQ 23.390625 74.21875 37.203125 74.21875 \nQ 40.921875 74.21875 44.703125 73.484375 \nQ 48.484375 72.75 52.59375 71.296875 \nz\n\" id=\"DejaVuSans-54\"/>\n       </defs>\n       <use xlink:href=\"#DejaVuSans-48\"/>\n       <use x=\"63.623047\" xlink:href=\"#DejaVuSans-46\"/>\n       <use x=\"95.410156\" xlink:href=\"#DejaVuSans-54\"/>\n      </g>\n     </g>\n    </g>\n    <g id=\"xtick_5\">\n     <g id=\"line2d_5\">\n      <g>\n       <use style=\"stroke:#000000;stroke-width:0.8;\" x=\"288.812216\" xlink:href=\"#m792b96d683\" y=\"224.64\"/>\n      </g>\n     </g>\n     <g id=\"text_5\">\n      <!-- 0.8 -->\n      <g transform=\"translate(280.860653 239.238437)scale(0.1 -0.1)\">\n       <defs>\n        <path d=\"M 31.78125 34.625 \nQ 24.75 34.625 20.71875 30.859375 \nQ 16.703125 27.09375 16.703125 20.515625 \nQ 16.703125 13.921875 20.71875 10.15625 \nQ 24.75 6.390625 31.78125 6.390625 \nQ 38.8125 6.390625 42.859375 10.171875 \nQ 46.921875 13.96875 46.921875 20.515625 \nQ 46.921875 27.09375 42.890625 30.859375 \nQ 38.875 34.625 31.78125 34.625 \nz\nM 21.921875 38.8125 \nQ 15.578125 40.375 12.03125 44.71875 \nQ 8.5 49.078125 8.5 55.328125 \nQ 8.5 64.0625 14.71875 69.140625 \nQ 20.953125 74.21875 31.78125 74.21875 \nQ 42.671875 74.21875 48.875 69.140625 \nQ 55.078125 64.0625 55.078125 55.328125 \nQ 55.078125 49.078125 51.53125 44.71875 \nQ 48 40.375 41.703125 38.8125 \nQ 48.828125 37.15625 52.796875 32.3125 \nQ 56.78125 27.484375 56.78125 20.515625 \nQ 56.78125 9.90625 50.3125 4.234375 \nQ 43.84375 -1.421875 31.78125 -1.421875 \nQ 19.734375 -1.421875 13.25 4.234375 \nQ 6.78125 9.90625 6.78125 20.515625 \nQ 6.78125 27.484375 10.78125 32.3125 \nQ 14.796875 37.15625 21.921875 38.8125 \nz\nM 18.3125 54.390625 \nQ 18.3125 48.734375 21.84375 45.5625 \nQ 25.390625 42.390625 31.78125 42.390625 \nQ 38.140625 42.390625 41.71875 45.5625 \nQ 45.3125 48.734375 45.3125 54.390625 \nQ 45.3125 60.0625 41.71875 63.234375 \nQ 38.140625 66.40625 31.78125 66.40625 \nQ 25.390625 66.40625 21.84375 63.234375 \nQ 18.3125 60.0625 18.3125 54.390625 \nz\n\" id=\"DejaVuSans-56\"/>\n       </defs>\n       <use xlink:href=\"#DejaVuSans-48\"/>\n       <use x=\"63.623047\" xlink:href=\"#DejaVuSans-46\"/>\n       <use x=\"95.410156\" xlink:href=\"#DejaVuSans-56\"/>\n      </g>\n     </g>\n    </g>\n    <g id=\"xtick_6\">\n     <g id=\"line2d_6\">\n      <g>\n       <use style=\"stroke:#000000;stroke-width:0.8;\" x=\"349.684943\" xlink:href=\"#m792b96d683\" y=\"224.64\"/>\n      </g>\n     </g>\n     <g id=\"text_6\">\n      <!-- 1.0 -->\n      <g transform=\"translate(341.733381 239.238437)scale(0.1 -0.1)\">\n       <defs>\n        <path d=\"M 12.40625 8.296875 \nL 28.515625 8.296875 \nL 28.515625 63.921875 \nL 10.984375 60.40625 \nL 10.984375 69.390625 \nL 28.421875 72.90625 \nL 38.28125 72.90625 \nL 38.28125 8.296875 \nL 54.390625 8.296875 \nL 54.390625 0 \nL 12.40625 0 \nz\n\" id=\"DejaVuSans-49\"/>\n       </defs>\n       <use xlink:href=\"#DejaVuSans-49\"/>\n       <use x=\"63.623047\" xlink:href=\"#DejaVuSans-46\"/>\n       <use x=\"95.410156\" xlink:href=\"#DejaVuSans-48\"/>\n      </g>\n     </g>\n    </g>\n   </g>\n   <g id=\"matplotlib.axis_2\">\n    <g id=\"ytick_1\">\n     <g id=\"line2d_7\">\n      <defs>\n       <path d=\"M 0 0 \nL -3.5 0 \n\" id=\"m642a596eb2\" style=\"stroke:#000000;stroke-width:0.8;\"/>\n      </defs>\n      <g>\n       <use style=\"stroke:#000000;stroke-width:0.8;\" x=\"30.103125\" xlink:href=\"#m642a596eb2\" y=\"214.756364\"/>\n      </g>\n     </g>\n     <g id=\"text_7\">\n      <!-- 0.0 -->\n      <g transform=\"translate(7.2 218.555582)scale(0.1 -0.1)\">\n       <use xlink:href=\"#DejaVuSans-48\"/>\n       <use x=\"63.623047\" xlink:href=\"#DejaVuSans-46\"/>\n       <use x=\"95.410156\" xlink:href=\"#DejaVuSans-48\"/>\n      </g>\n     </g>\n    </g>\n    <g id=\"ytick_2\">\n     <g id=\"line2d_8\">\n      <g>\n       <use style=\"stroke:#000000;stroke-width:0.8;\" x=\"30.103125\" xlink:href=\"#m642a596eb2\" y=\"175.221818\"/>\n      </g>\n     </g>\n     <g id=\"text_8\">\n      <!-- 0.2 -->\n      <g transform=\"translate(7.2 179.021037)scale(0.1 -0.1)\">\n       <use xlink:href=\"#DejaVuSans-48\"/>\n       <use x=\"63.623047\" xlink:href=\"#DejaVuSans-46\"/>\n       <use x=\"95.410156\" xlink:href=\"#DejaVuSans-50\"/>\n      </g>\n     </g>\n    </g>\n    <g id=\"ytick_3\">\n     <g id=\"line2d_9\">\n      <g>\n       <use style=\"stroke:#000000;stroke-width:0.8;\" x=\"30.103125\" xlink:href=\"#m642a596eb2\" y=\"135.687273\"/>\n      </g>\n     </g>\n     <g id=\"text_9\">\n      <!-- 0.4 -->\n      <g transform=\"translate(7.2 139.486491)scale(0.1 -0.1)\">\n       <use xlink:href=\"#DejaVuSans-48\"/>\n       <use x=\"63.623047\" xlink:href=\"#DejaVuSans-46\"/>\n       <use x=\"95.410156\" xlink:href=\"#DejaVuSans-52\"/>\n      </g>\n     </g>\n    </g>\n    <g id=\"ytick_4\">\n     <g id=\"line2d_10\">\n      <g>\n       <use style=\"stroke:#000000;stroke-width:0.8;\" x=\"30.103125\" xlink:href=\"#m642a596eb2\" y=\"96.152727\"/>\n      </g>\n     </g>\n     <g id=\"text_10\">\n      <!-- 0.6 -->\n      <g transform=\"translate(7.2 99.951946)scale(0.1 -0.1)\">\n       <use xlink:href=\"#DejaVuSans-48\"/>\n       <use x=\"63.623047\" xlink:href=\"#DejaVuSans-46\"/>\n       <use x=\"95.410156\" xlink:href=\"#DejaVuSans-54\"/>\n      </g>\n     </g>\n    </g>\n    <g id=\"ytick_5\">\n     <g id=\"line2d_11\">\n      <g>\n       <use style=\"stroke:#000000;stroke-width:0.8;\" x=\"30.103125\" xlink:href=\"#m642a596eb2\" y=\"56.618182\"/>\n      </g>\n     </g>\n     <g id=\"text_11\">\n      <!-- 0.8 -->\n      <g transform=\"translate(7.2 60.417401)scale(0.1 -0.1)\">\n       <use xlink:href=\"#DejaVuSans-48\"/>\n       <use x=\"63.623047\" xlink:href=\"#DejaVuSans-46\"/>\n       <use x=\"95.410156\" xlink:href=\"#DejaVuSans-56\"/>\n      </g>\n     </g>\n    </g>\n    <g id=\"ytick_6\">\n     <g id=\"line2d_12\">\n      <g>\n       <use style=\"stroke:#000000;stroke-width:0.8;\" x=\"30.103125\" xlink:href=\"#m642a596eb2\" y=\"17.083636\"/>\n      </g>\n     </g>\n     <g id=\"text_12\">\n      <!-- 1.0 -->\n      <g transform=\"translate(7.2 20.882855)scale(0.1 -0.1)\">\n       <use xlink:href=\"#DejaVuSans-49\"/>\n       <use x=\"63.623047\" xlink:href=\"#DejaVuSans-46\"/>\n       <use x=\"95.410156\" xlink:href=\"#DejaVuSans-48\"/>\n      </g>\n     </g>\n    </g>\n   </g>\n   <g id=\"line2d_13\">\n    <path clip-path=\"url(#pc65620d6e8)\" d=\"M 106.194034 17.083636 \nL 167.066761 214.756364 \n\" style=\"fill:none;stroke:#008000;stroke-linecap:square;stroke-width:1.5;\"/>\n   </g>\n   <g id=\"line2d_14\">\n    <path clip-path=\"url(#pc65620d6e8)\" d=\"M 227.939489 17.083636 \nL 288.812216 214.756364 \n\" style=\"fill:none;stroke:#008000;stroke-linecap:square;stroke-width:1.5;\"/>\n   </g>\n   <g id=\"patch_3\">\n    <path d=\"M 30.103125 224.64 \nL 30.103125 7.2 \n\" style=\"fill:none;stroke:#000000;stroke-linecap:square;stroke-linejoin:miter;stroke-width:0.8;\"/>\n   </g>\n   <g id=\"patch_4\">\n    <path d=\"M 364.903125 224.64 \nL 364.903125 7.2 \n\" style=\"fill:none;stroke:#000000;stroke-linecap:square;stroke-linejoin:miter;stroke-width:0.8;\"/>\n   </g>\n   <g id=\"patch_5\">\n    <path d=\"M 30.103125 224.64 \nL 364.903125 224.64 \n\" style=\"fill:none;stroke:#000000;stroke-linecap:square;stroke-linejoin:miter;stroke-width:0.8;\"/>\n   </g>\n   <g id=\"patch_6\">\n    <path d=\"M 30.103125 7.2 \nL 364.903125 7.2 \n\" style=\"fill:none;stroke:#000000;stroke-linecap:square;stroke-linejoin:miter;stroke-width:0.8;\"/>\n   </g>\n  </g>\n </g>\n <defs>\n  <clipPath id=\"pc65620d6e8\">\n   <rect height=\"217.44\" width=\"334.8\" x=\"30.103125\" y=\"7.2\"/>\n  </clipPath>\n </defs>\n</svg>\n",
      "image/png": "[encoded data removed]"
     },
     "metadata": {
      "needs_background": "light"
     }
    }
   ],
   "source": [
    "x_values = [0, 0, 0, 0.5, 0.5, 0.5, 1, 1, 1]\n",
    "y_values = [0, 0.5, 1, 0, 0.5, 1, 0, 0.5, 1]\n",
    "x_other_value = [0.5]\n",
    "y_other_value = [0.5]\n",
    "\n",
    "line1_x = [0.2, 0.4]\n",
    "line1_y = [1.0, 0.0]\n",
    "line2_x = [0.6, 0.8]\n",
    "line2_y = [1.0, 0.0]\n",
    "plt.scatter(x_values, y_values)\n",
    "plt.scatter(x_other_value, y_other_value)\n",
    "plt.plot(line1_x, line1_y, color=\"green\")\n",
    "plt.plot(line2_x, line2_y, color=\"green\")\n",
    "plt.show()"
   ]
  },
  {
   "cell_type": "code",
   "execution_count": 8,
   "metadata": {},
   "outputs": [],
   "source": [
    "import torch"
   ]
  },
  {
   "cell_type": "code",
   "execution_count": 9,
   "metadata": {},
   "outputs": [],
   "source": [
    "x_train = torch.FloatTensor([[0, 0], [0, 1], [1, 0], [1, 1], [0.5, 0.5]])\n",
    "y_train = torch.FloatTensor([[1], [1], [1], [1], [0]])"
   ]
  },
  {
   "cell_type": "code",
   "execution_count": 10,
   "metadata": {},
   "outputs": [],
   "source": [
    "model = torch.nn.Sequential(\n",
    "    torch.nn.Linear(2, 6, bias=True),\n",
    "    torch.nn.ReLU(),\n",
    "    torch.nn.Linear(6, 1, bias=True),\n",
    "    torch.nn.ReLU()\n",
    ")"
   ]
  },
  {
   "cell_type": "code",
   "execution_count": 11,
   "metadata": {},
   "outputs": [],
   "source": [
    "cost_function = torch.nn.MSELoss()\n",
    "optimizer = torch.optim.SGD(model.parameters(), lr=0.01)"
   ]
  },
  {
   "cell_type": "code",
   "execution_count": 12,
   "metadata": {},
   "outputs": [
    {
     "output_type": "stream",
     "name": "stdout",
     "text": [
      "step: 0, cost: 0.299317061901\n",
      "step: 100, cost: 0.161276847124\n",
      "step: 200, cost: 0.157026752830\n",
      "step: 300, cost: 0.152657151222\n",
      "step: 400, cost: 0.146876841784\n",
      "step: 500, cost: 0.141197279096\n",
      "step: 600, cost: 0.136311829090\n",
      "step: 700, cost: 0.131268784404\n",
      "step: 800, cost: 0.125976607203\n",
      "step: 900, cost: 0.120428822935\n",
      "step: 1000, cost: 0.114669039845\n",
      "step: 1100, cost: 0.109230890870\n",
      "step: 1200, cost: 0.104848697782\n",
      "step: 1300, cost: 0.100589215755\n",
      "step: 1400, cost: 0.096462793648\n",
      "step: 1500, cost: 0.092286013067\n",
      "step: 1600, cost: 0.088161632419\n",
      "step: 1700, cost: 0.083936318755\n",
      "step: 1800, cost: 0.079717420042\n",
      "step: 1900, cost: 0.075499162078\n",
      "step: 2000, cost: 0.070695534348\n",
      "step: 2100, cost: 0.065322987735\n",
      "step: 2200, cost: 0.060058079660\n",
      "step: 2300, cost: 0.054765969515\n",
      "step: 2400, cost: 0.049543168396\n",
      "step: 2500, cost: 0.044533647597\n",
      "step: 2600, cost: 0.039715074003\n",
      "step: 2700, cost: 0.035186149180\n",
      "step: 2800, cost: 0.031024282798\n",
      "step: 2900, cost: 0.027202829719\n",
      "step: 3000, cost: 0.023725602776\n",
      "step: 3100, cost: 0.020578717813\n",
      "step: 3200, cost: 0.017762109637\n",
      "step: 3300, cost: 0.015250394121\n",
      "step: 3400, cost: 0.013054586947\n",
      "step: 3500, cost: 0.011117144488\n",
      "step: 3600, cost: 0.009405466728\n",
      "step: 3700, cost: 0.007930054329\n",
      "step: 3800, cost: 0.006660937332\n",
      "step: 3900, cost: 0.005571709480\n",
      "step: 4000, cost: 0.004641867708\n",
      "step: 4100, cost: 0.003853033762\n",
      "step: 4200, cost: 0.003187252907\n",
      "step: 4300, cost: 0.002628184389\n",
      "step: 4400, cost: 0.002160917269\n",
      "step: 4500, cost: 0.001772756688\n",
      "step: 4600, cost: 0.001451696968\n",
      "step: 4700, cost: 0.001185584231\n",
      "step: 4800, cost: 0.000965373125\n",
      "step: 4900, cost: 0.000784366392\n",
      "step: 5000, cost: 0.000636336801\n",
      "step: 5100, cost: 0.000515641412\n",
      "step: 5200, cost: 0.000417251518\n",
      "step: 5300, cost: 0.000337211561\n",
      "step: 5400, cost: 0.000272209058\n",
      "step: 5500, cost: 0.000219569221\n",
      "step: 5600, cost: 0.000176888294\n",
      "step: 5700, cost: 0.000142557241\n",
      "step: 5800, cost: 0.000114782109\n",
      "step: 5900, cost: 0.000092251190\n",
      "step: 6000, cost: 0.000074096468\n",
      "step: 6100, cost: 0.000059456692\n",
      "step: 6200, cost: 0.000047686859\n",
      "step: 6300, cost: 0.000038229802\n",
      "step: 6400, cost: 0.000030650517\n",
      "step: 6500, cost: 0.000024565088\n",
      "step: 6600, cost: 0.000019681474\n",
      "step: 6700, cost: 0.000015763933\n",
      "step: 6800, cost: 0.000012636476\n",
      "step: 6900, cost: 0.000010133188\n",
      "step: 7000, cost: 0.000008111783\n",
      "step: 7100, cost: 0.000006490979\n",
      "step: 7200, cost: 0.000005192953\n",
      "step: 7300, cost: 0.000004154053\n",
      "step: 7400, cost: 0.000003322195\n",
      "step: 7500, cost: 0.000002656835\n",
      "step: 7600, cost: 0.000002124012\n",
      "step: 7700, cost: 0.000001697450\n",
      "step: 7800, cost: 0.000001356831\n",
      "step: 7900, cost: 0.000001084404\n",
      "step: 8000, cost: 0.000000867985\n",
      "step: 8100, cost: 0.000000694868\n",
      "step: 8200, cost: 0.000000555500\n",
      "step: 8300, cost: 0.000000444127\n",
      "step: 8400, cost: 0.000000354931\n",
      "step: 8500, cost: 0.000000283611\n",
      "step: 8600, cost: 0.000000226723\n",
      "step: 8700, cost: 0.000000181437\n",
      "step: 8800, cost: 0.000000144975\n",
      "step: 8900, cost: 0.000000115857\n",
      "step: 9000, cost: 0.000000092733\n",
      "step: 9100, cost: 0.000000074141\n",
      "step: 9200, cost: 0.000000059154\n",
      "step: 9300, cost: 0.000000047663\n",
      "step: 9400, cost: 0.000000037995\n",
      "step: 9500, cost: 0.000000030239\n",
      "step: 9600, cost: 0.000000024387\n",
      "step: 9700, cost: 0.000000019588\n",
      "step: 9800, cost: 0.000000015613\n",
      "step: 9900, cost: 0.000000012360\n",
      "step: 10000, cost: 0.000000009982\n"
     ]
    }
   ],
   "source": [
    "for step in range(10001):\n",
    "    optimizer.zero_grad()\n",
    "    hypothesis = model(x_train)\n",
    "    cost = cost_function(hypothesis, y_train)\n",
    "    cost.backward()\n",
    "    optimizer.step()\n",
    "    if step % 100 == 0:\n",
    "        print(f\"step: {step}, cost: {cost.item():.12f}\")"
   ]
  },
  {
   "cell_type": "code",
   "execution_count": 13,
   "metadata": {},
   "outputs": [
    {
     "output_type": "stream",
     "name": "stdout",
     "text": [
      "\nHypothesis: tensor([[9.9994e-01],\n        [9.9995e-01],\n        [1.0000e+00],\n        [9.9993e-01],\n        [1.9687e-04]])\nPredict: tensor([[1.],\n        [1.],\n        [1.],\n        [1.],\n        [0.]])\nAccuracy: 1.0\n"
     ]
    }
   ],
   "source": [
    "with torch.no_grad():\n",
    "    hypothesis = model(x_train)\n",
    "    predicted = (hypothesis > 0.5).float()\n",
    "    accuracy = (predicted == y_train).float().mean()\n",
    "    print(f\"\\nHypothesis: {hypothesis.detach()}\\nPredict: {predicted.detach()}\\nAccuracy: {accuracy.item()}\")"
   ]
  },
  {
   "source": [
    "## 2-2\n",
    "\n",
    "### 은닉 노드를 2개만 가진 퍼셉트론으로 오른쪽 상황을 해결할 수 있는지 답하시오. 가능하다면 은닉 노드 2개인 다층 퍼셉트론을 채택하는 것이 유리한지를 일반화 능력 측면에서 판단하시오."
   ],
   "cell_type": "markdown",
   "metadata": {}
  },
  {
   "cell_type": "code",
   "execution_count": 14,
   "metadata": {},
   "outputs": [],
   "source": [
    "import torch"
   ]
  },
  {
   "cell_type": "code",
   "execution_count": 15,
   "metadata": {},
   "outputs": [],
   "source": [
    "x_train = torch.FloatTensor([[0, 0], [0, 0.5], [0, 1], [0.5, 0], [0.5, 0.5], [0.5, 1], [1, 0], [1, 0.5], [1, 1]])\n",
    "y_train = torch.FloatTensor([[1], [1], [1], [1], [0], [1], [1], [1], [1]])"
   ]
  },
  {
   "cell_type": "code",
   "execution_count": 16,
   "metadata": {},
   "outputs": [],
   "source": [
    "model = torch.nn.Sequential(\n",
    "    torch.nn.Linear(2, 2, bias=True),\n",
    "    torch.nn.ReLU(),\n",
    "    torch.nn.Linear(2, 1, bias=True),\n",
    "    torch.nn.ReLU()\n",
    ")\n",
    "cost_function = torch.nn.MSELoss()\n",
    "optimizer = torch.optim.SGD(model.parameters(), lr=0.1)"
   ]
  },
  {
   "cell_type": "code",
   "execution_count": 17,
   "metadata": {},
   "outputs": [
    {
     "output_type": "stream",
     "name": "stdout",
     "text": [
      "step: 0, cost: 0.121042355895\n",
      "step: 100, cost: 0.100484631956\n",
      "step: 200, cost: 0.099026352167\n",
      "step: 300, cost: 0.098806619644\n",
      "step: 400, cost: 0.098771847785\n",
      "step: 500, cost: 0.098766423762\n",
      "step: 600, cost: 0.098765589297\n",
      "step: 700, cost: 0.098765447736\n",
      "step: 800, cost: 0.098765425384\n",
      "step: 900, cost: 0.098765432835\n",
      "step: 1000, cost: 0.098765425384\n",
      "step: 1100, cost: 0.098765425384\n",
      "step: 1200, cost: 0.098765425384\n",
      "step: 1300, cost: 0.098765440285\n",
      "step: 1400, cost: 0.098765432835\n",
      "step: 1500, cost: 0.098765432835\n",
      "step: 1600, cost: 0.098765440285\n",
      "step: 1700, cost: 0.098765432835\n",
      "step: 1800, cost: 0.098765440285\n",
      "step: 1900, cost: 0.098765447736\n",
      "step: 2000, cost: 0.098765447736\n",
      "step: 2100, cost: 0.098765440285\n",
      "step: 2200, cost: 0.098765447736\n",
      "step: 2300, cost: 0.098765440285\n",
      "step: 2400, cost: 0.098765447736\n",
      "step: 2500, cost: 0.098765447736\n",
      "step: 2600, cost: 0.098765447736\n",
      "step: 2700, cost: 0.098765447736\n",
      "step: 2800, cost: 0.098765440285\n",
      "step: 2900, cost: 0.098765447736\n",
      "step: 3000, cost: 0.098765447736\n",
      "step: 3100, cost: 0.098765447736\n",
      "step: 3200, cost: 0.098765447736\n",
      "step: 3300, cost: 0.098765440285\n",
      "step: 3400, cost: 0.098765447736\n",
      "step: 3500, cost: 0.098765447736\n",
      "step: 3600, cost: 0.098765447736\n",
      "step: 3700, cost: 0.098765447736\n",
      "step: 3800, cost: 0.098765440285\n",
      "step: 3900, cost: 0.098765447736\n",
      "step: 4000, cost: 0.098765447736\n",
      "step: 4100, cost: 0.098765447736\n",
      "step: 4200, cost: 0.098765447736\n",
      "step: 4300, cost: 0.098765447736\n",
      "step: 4400, cost: 0.098765447736\n",
      "step: 4500, cost: 0.098765447736\n",
      "step: 4600, cost: 0.098765447736\n",
      "step: 4700, cost: 0.098765440285\n",
      "step: 4800, cost: 0.098765447736\n",
      "step: 4900, cost: 0.098765447736\n",
      "step: 5000, cost: 0.098765440285\n",
      "step: 5100, cost: 0.098765447736\n",
      "step: 5200, cost: 0.098765440285\n",
      "step: 5300, cost: 0.098765447736\n",
      "step: 5400, cost: 0.098765447736\n",
      "step: 5500, cost: 0.098765447736\n",
      "step: 5600, cost: 0.098765447736\n",
      "step: 5700, cost: 0.098765440285\n",
      "step: 5800, cost: 0.098765447736\n",
      "step: 5900, cost: 0.098765447736\n",
      "step: 6000, cost: 0.098765447736\n",
      "step: 6100, cost: 0.098765447736\n",
      "step: 6200, cost: 0.098765447736\n",
      "step: 6300, cost: 0.098765447736\n",
      "step: 6400, cost: 0.098765440285\n",
      "step: 6500, cost: 0.098765447736\n",
      "step: 6600, cost: 0.098765440285\n",
      "step: 6700, cost: 0.098765447736\n",
      "step: 6800, cost: 0.098765447736\n",
      "step: 6900, cost: 0.098765440285\n",
      "step: 7000, cost: 0.098765447736\n",
      "step: 7100, cost: 0.098765440285\n",
      "step: 7200, cost: 0.098765447736\n",
      "step: 7300, cost: 0.098765447736\n",
      "step: 7400, cost: 0.098765447736\n",
      "step: 7500, cost: 0.098765447736\n",
      "step: 7600, cost: 0.098765447736\n",
      "step: 7700, cost: 0.098765447736\n",
      "step: 7800, cost: 0.098765440285\n",
      "step: 7900, cost: 0.098765447736\n",
      "step: 8000, cost: 0.098765447736\n",
      "step: 8100, cost: 0.098765440285\n",
      "step: 8200, cost: 0.098765447736\n",
      "step: 8300, cost: 0.098765440285\n",
      "step: 8400, cost: 0.098765447736\n",
      "step: 8500, cost: 0.098765447736\n",
      "step: 8600, cost: 0.098765447736\n",
      "step: 8700, cost: 0.098765447736\n",
      "step: 8800, cost: 0.098765440285\n",
      "step: 8900, cost: 0.098765447736\n",
      "step: 9000, cost: 0.098765447736\n",
      "step: 9100, cost: 0.098765447736\n",
      "step: 9200, cost: 0.098765447736\n",
      "step: 9300, cost: 0.098765440285\n",
      "step: 9400, cost: 0.098765447736\n",
      "step: 9500, cost: 0.098765447736\n",
      "step: 9600, cost: 0.098765447736\n",
      "step: 9700, cost: 0.098765447736\n",
      "step: 9800, cost: 0.098765440285\n",
      "step: 9900, cost: 0.098765447736\n",
      "step: 10000, cost: 0.098765447736\n"
     ]
    }
   ],
   "source": [
    "for step in range(10001):\n",
    "    optimizer.zero_grad()\n",
    "    hypothesis = model(x_train)\n",
    "    cost = cost_function(hypothesis, y_train)\n",
    "    cost.backward()\n",
    "    optimizer.step()\n",
    "    if step % 100 == 0:\n",
    "        print(f\"step: {step}, cost: {cost.item():.12f}\")"
   ]
  },
  {
   "cell_type": "code",
   "execution_count": 18,
   "metadata": {},
   "outputs": [
    {
     "output_type": "stream",
     "name": "stdout",
     "text": [
      "\nHypothesis: tensor([[0.8889],\n        [0.8889],\n        [0.8889],\n        [0.8889],\n        [0.8889],\n        [0.8889],\n        [0.8889],\n        [0.8889],\n        [0.8889]])\nPredict: tensor([[1.],\n        [1.],\n        [1.],\n        [1.],\n        [1.],\n        [1.],\n        [1.],\n        [1.],\n        [1.]])\nAccuracy: 0.8888888955116272\n"
     ]
    }
   ],
   "source": [
    "with torch.no_grad():\n",
    "    hypothesis = model(x_train)\n",
    "    predicted = (hypothesis > 0.5).float()\n",
    "    accuracy = (predicted == y_train).float().mean()\n",
    "    print(f\"\\nHypothesis: {hypothesis.detach()}\\nPredict: {predicted.detach()}\\nAccuracy: {accuracy.item()}\")"
   ]
  },
  {
   "source": [
    "### 바람직하지 않다!\n",
    "- 이와 같이 은닉노드를 2개 두는 경우에는 정확도가 떨어지는 것을 확인할 수 있다.\n",
    "- 그렇기에 은닉노드의 개수가 최소 10개 이상인 퍼셉트론을 택하는 것이 바람직하다고 생각한다. \n",
    "\n",
    "## 은닉노드가 10개일 때는 어떨까?\n",
    "- 아래는 은닉노드의 개수가 10개일 경우의 코드이다."
   ],
   "cell_type": "markdown",
   "metadata": {}
  },
  {
   "cell_type": "code",
   "execution_count": 19,
   "metadata": {},
   "outputs": [],
   "source": [
    "x_train = torch.FloatTensor([[0, 0], [0, 0.5], [0, 1], [0.5, 0], [0.5, 0.5], [0.5, 1], [1, 0], [1, 0.5], [1, 1]])\n",
    "y_train = torch.FloatTensor([[1], [1], [1], [1], [0], [1], [1], [1], [1]])"
   ]
  },
  {
   "cell_type": "code",
   "execution_count": 20,
   "metadata": {},
   "outputs": [],
   "source": [
    "model = torch.nn.Sequential(\n",
    "    torch.nn.Linear(2, 10, bias=True),\n",
    "    torch.nn.ReLU(),\n",
    "    torch.nn.Linear(10, 1, bias=True),\n",
    "    torch.nn.ReLU()\n",
    ")\n",
    "cost_function = torch.nn.MSELoss()\n",
    "optimizer = torch.optim.SGD(model.parameters(), lr=0.1)"
   ]
  },
  {
   "cell_type": "code",
   "execution_count": 21,
   "metadata": {},
   "outputs": [
    {
     "output_type": "stream",
     "name": "stdout",
     "text": [
      "step: 0, cost: 0.885936498642\n",
      "step: 100, cost: 0.092258065939\n",
      "step: 200, cost: 0.079084679484\n",
      "step: 300, cost: 0.063147678971\n",
      "step: 400, cost: 0.044331461191\n",
      "step: 500, cost: 0.028946856037\n",
      "step: 600, cost: 0.017155788839\n",
      "step: 700, cost: 0.009440665133\n",
      "step: 800, cost: 0.004928270821\n",
      "step: 900, cost: 0.002680752892\n",
      "step: 1000, cost: 0.001467528171\n",
      "step: 1100, cost: 0.000848092372\n",
      "step: 1200, cost: 0.000493300613\n",
      "step: 1300, cost: 0.000291227276\n",
      "step: 1400, cost: 0.000185193610\n",
      "step: 1500, cost: 0.000125949737\n",
      "step: 1600, cost: 0.000088790424\n",
      "step: 1700, cost: 0.000062818901\n",
      "step: 1800, cost: 0.000044731285\n",
      "step: 1900, cost: 0.000032408079\n",
      "step: 2000, cost: 0.000023936627\n",
      "step: 2100, cost: 0.000017594897\n",
      "step: 2200, cost: 0.000012892026\n",
      "step: 2300, cost: 0.000009476814\n",
      "step: 2400, cost: 0.000006964906\n",
      "step: 2500, cost: 0.000005156754\n",
      "step: 2600, cost: 0.000003809509\n",
      "step: 2700, cost: 0.000002831117\n",
      "step: 2800, cost: 0.000002072945\n",
      "step: 2900, cost: 0.000001523761\n",
      "step: 3000, cost: 0.000001106401\n",
      "step: 3100, cost: 0.000000838247\n",
      "step: 3200, cost: 0.000000602062\n",
      "step: 3300, cost: 0.000000438698\n",
      "step: 3400, cost: 0.000000320850\n",
      "step: 3500, cost: 0.000000237197\n",
      "step: 3600, cost: 0.000000177486\n",
      "step: 3700, cost: 0.000000129873\n",
      "step: 3800, cost: 0.000000095111\n",
      "step: 3900, cost: 0.000000071077\n",
      "step: 4000, cost: 0.000000050711\n",
      "step: 4100, cost: 0.000000037678\n",
      "step: 4200, cost: 0.000000027824\n",
      "step: 4300, cost: 0.000000020397\n",
      "step: 4400, cost: 0.000000014951\n",
      "step: 4500, cost: 0.000000010964\n",
      "step: 4600, cost: 0.000000008015\n",
      "step: 4700, cost: 0.000000005842\n",
      "step: 4800, cost: 0.000000004271\n",
      "step: 4900, cost: 0.000000003210\n",
      "step: 5000, cost: 0.000000002319\n",
      "step: 5100, cost: 0.000000001738\n",
      "step: 5200, cost: 0.000000001249\n",
      "step: 5300, cost: 0.000000000952\n",
      "step: 5400, cost: 0.000000000693\n",
      "step: 5500, cost: 0.000000000497\n",
      "step: 5600, cost: 0.000000000360\n",
      "step: 5700, cost: 0.000000000267\n",
      "step: 5800, cost: 0.000000000196\n",
      "step: 5900, cost: 0.000000000147\n",
      "step: 6000, cost: 0.000000000107\n",
      "step: 6100, cost: 0.000000000080\n",
      "step: 6200, cost: 0.000000000062\n",
      "step: 6300, cost: 0.000000000049\n",
      "step: 6400, cost: 0.000000000038\n",
      "step: 6500, cost: 0.000000000031\n",
      "step: 6600, cost: 0.000000000025\n",
      "step: 6700, cost: 0.000000000019\n",
      "step: 6800, cost: 0.000000000016\n",
      "step: 6900, cost: 0.000000000014\n",
      "step: 7000, cost: 0.000000000012\n",
      "step: 7100, cost: 0.000000000010\n",
      "step: 7200, cost: 0.000000000008\n",
      "step: 7300, cost: 0.000000000008\n",
      "step: 7400, cost: 0.000000000007\n",
      "step: 7500, cost: 0.000000000007\n",
      "step: 7600, cost: 0.000000000006\n",
      "step: 7700, cost: 0.000000000006\n",
      "step: 7800, cost: 0.000000000006\n",
      "step: 7900, cost: 0.000000000006\n",
      "step: 8000, cost: 0.000000000006\n",
      "step: 8100, cost: 0.000000000006\n",
      "step: 8200, cost: 0.000000000006\n",
      "step: 8300, cost: 0.000000000006\n",
      "step: 8400, cost: 0.000000000006\n",
      "step: 8500, cost: 0.000000000006\n",
      "step: 8600, cost: 0.000000000006\n",
      "step: 8700, cost: 0.000000000006\n",
      "step: 8800, cost: 0.000000000006\n",
      "step: 8900, cost: 0.000000000006\n",
      "step: 9000, cost: 0.000000000006\n",
      "step: 9100, cost: 0.000000000006\n",
      "step: 9200, cost: 0.000000000006\n",
      "step: 9300, cost: 0.000000000006\n",
      "step: 9400, cost: 0.000000000006\n",
      "step: 9500, cost: 0.000000000006\n",
      "step: 9600, cost: 0.000000000006\n",
      "step: 9700, cost: 0.000000000006\n",
      "step: 9800, cost: 0.000000000006\n",
      "step: 9900, cost: 0.000000000006\n",
      "step: 10000, cost: 0.000000000006\n"
     ]
    }
   ],
   "source": [
    "for step in range(10001):\n",
    "    optimizer.zero_grad()\n",
    "    hypothesis = model(x_train)\n",
    "    cost = cost_function(hypothesis, y_train)\n",
    "    cost.backward()\n",
    "    optimizer.step()\n",
    "    if step % 100 == 0:\n",
    "        print(f\"step: {step}, cost: {cost.item():.12f}\")"
   ]
  },
  {
   "cell_type": "code",
   "execution_count": 22,
   "metadata": {},
   "outputs": [
    {
     "output_type": "stream",
     "name": "stdout",
     "text": [
      "\nHypothesis: tensor([[1.0000e+00],\n        [1.0000e+00],\n        [1.0000e+00],\n        [1.0000e+00],\n        [1.0133e-06],\n        [1.0000e+00],\n        [1.0000e+00],\n        [1.0000e+00],\n        [1.0000e+00]])\nPredict: tensor([[1.],\n        [1.],\n        [1.],\n        [1.],\n        [0.],\n        [1.],\n        [1.],\n        [1.],\n        [1.]])\nAccuracy: 1.0\n"
     ]
    }
   ],
   "source": [
    "with torch.no_grad():\n",
    "    hypothesis = model(x_train)\n",
    "    predicted = (hypothesis > 0.5).float()\n",
    "    accuracy = (predicted == y_train).float().mean()\n",
    "    print(f\"\\nHypothesis: {hypothesis.detach()}\\nPredict: {predicted.detach()}\\nAccuracy: {accuracy.item()}\")"
   ]
  },
  {
   "source": [
    "# 문제 3\n",
    "\n",
    "## 다음에 답하시오.\n",
    "\n",
    "<img src=\"./problem3.png\" width=\"1200\" height=\"500\">\n",
    "<img src=\"./problem3_img.png\" width=\"400\" height=\"500\">"
   ],
   "cell_type": "markdown",
   "metadata": {}
  },
  {
   "source": [],
   "cell_type": "markdown",
   "metadata": {}
  },
  {
   "source": [
    "## 1. 어떤 샘플이 한 번도 선택되지 못할 확률은?\n",
    "- 하나의 샘플 외 다른 59,999개의 샘플은 선택될 확률이기 때문에\n",
    "59,999 / 60, 000 의 확률을 60만 거듭제곱을 한 결과가 해당 문제의 확률이다. 이는 다음과 같다."
   ],
   "cell_type": "markdown",
   "metadata": {}
  },
  {
   "cell_type": "code",
   "execution_count": 23,
   "metadata": {},
   "outputs": [
    {
     "output_type": "stream",
     "name": "stdout",
     "text": [
      "0.000045396147\n"
     ]
    }
   ],
   "source": [
    "print(f\"{(59999/60000)**600000:.12f}\")"
   ]
  },
  {
   "source": [
    "즉 0.0045396147% 이며 극히 낮은 확률임을 알 수 있다."
   ],
   "cell_type": "markdown",
   "metadata": {}
  },
  {
   "source": [
    "## 2. 어떤 부류에 속한 모든 샘플이 한 번도 선택되지 못할 확률은?\n",
    "- 6000개의 샘플이 한 번도 선택되지 못할 확률은\n",
    "(60,000 - 6,000) / 60,000 에서의 60만 거듭제곱과 같은 확률이다."
   ],
   "cell_type": "markdown",
   "metadata": {}
  },
  {
   "cell_type": "code",
   "execution_count": 24,
   "metadata": {},
   "outputs": [
    {
     "output_type": "stream",
     "name": "stdout",
     "text": [
      "0.0\n"
     ]
    }
   ],
   "source": [
    "print(f\"{((60000-6000)/60000)**600000}\")"
   ]
  },
  {
   "source": [
    "위 값을 통해 한 없이 0에 수렴함을 알 수 있다."
   ],
   "cell_type": "markdown",
   "metadata": {}
  },
  {
   "source": [
    "## 3. 1과 2의 분석 결과를 토대로 랜덤 샘플링 방법의 유효성에 대한 의견을 제시하시오.\n",
    "\n",
    "- 랜덤으로 샘플을 뽑았을 경우 단 한 번도 선택되지 않을 확률이 매우 낮기 때문에 골고루 뽑아 trainset에 활용할 수 있어 효율성이 좋다고 볼 수 있다."
   ],
   "cell_type": "markdown",
   "metadata": {}
  }
 ]
}